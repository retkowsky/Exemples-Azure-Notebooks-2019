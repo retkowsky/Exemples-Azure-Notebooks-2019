{
  "cells": [
    {
      "metadata": {},
      "cell_type": "markdown",
      "source": "Python is a high-level, dynamically typed multiparadigm programming language. Python code is often said to be almost like pseudocode, since it allows you to express very powerful ideas in very few lines of code while being very readable."
    },
    {
      "metadata": {
        "trusted": true
      },
      "cell_type": "code",
      "source": "import sys",
      "execution_count": 1,
      "outputs": []
    },
    {
      "metadata": {
        "trusted": true
      },
      "cell_type": "code",
      "source": "sys.version",
      "execution_count": 2,
      "outputs": [
        {
          "output_type": "execute_result",
          "execution_count": 2,
          "data": {
            "text/plain": "'2.7.15 |Anaconda, Inc.| (default, May  1 2018, 23:32:55) \\n[GCC 7.2.0]'"
          },
          "metadata": {}
        }
      ]
    },
    {
      "metadata": {
        "trusted": true
      },
      "cell_type": "code",
      "source": "!pip list",
      "execution_count": 3,
      "outputs": [
        {
          "output_type": "stream",
          "text": "Package                            Version                \r\n---------------------------------- -----------------------\r\nadal                               1.2.0                  \r\nalabaster                          0.7.11                 \r\naltair                             2.3.0                  \r\nanaconda-client                    1.7.2                  \r\nanaconda-navigator                 1.9.2                  \r\nanaconda-project                   0.8.2                  \r\nappdirs                            1.4.3                  \r\nargcomplete                        1.9.4                  \r\narrow                              0.12.1                 \r\nasn1crypto                         0.24.0                 \r\nastroid                            1.6.5                  \r\nastropy                            2.0.8                  \r\natomicwrites                       1.2.1                  \r\nattrs                              18.2.0                 \r\nAutomat                            0.7.0                  \r\nazure-common                       1.1.16                 \r\nazure-kusto-data                   0.0.11                 \r\nazure-kusto-ingest                 0.0.11                 \r\nazure-nspkg                        3.0.2                  \r\nazure-storage-blob                 1.4.0                  \r\nazure-storage-common               1.4.0                  \r\nazure-storage-nspkg                3.1.0                  \r\nazure-storage-queue                1.4.0                  \r\nazureml                            0.2.7                  \r\nBabel                              2.6.0                  \r\nbackports-abc                      0.5                    \r\nbackports.functools-lru-cache      1.5                    \r\nbackports.shutil-get-terminal-size 1.0.0                  \r\nbackports.ssl-match-hostname       3.5.0.1                \r\nbackports.weakref                  1.0rc1                 \r\nbeautifier                         0.5.5                  \r\nbeautifulsoup4                     4.6.3                  \r\nbitarray                           0.8.3                  \r\nbkcharts                           0.2                    \r\nblaze                              0.11.3                 \r\nbleach                             1.5.0                  \r\nbleach-whitelist                   0.0.9                  \r\nbokeh                              0.13.0                 \r\nboto                               2.49.0                 \r\nboto3                              1.4.8                  \r\nbotocore                           1.8.50                 \r\nBottleneck                         1.2.1                  \r\nbqplot                             0.11.2                 \r\nbrewer2mpl                         1.4.1                  \r\nbz2file                            0.98                   \r\nCacheControl                       0.11.5                 \r\ncdecimal                           2.3                    \r\ncertifi                            2018.10.15             \r\ncffi                               1.11.5                 \r\nchardet                            3.0.4                  \r\nclick                              6.7                    \r\ncloudpickle                        0.5.5                  \r\nclyent                             1.2.2                  \r\ncntk                               2.5.1                  \r\ncolorama                           0.3.9                  \r\nconda                              4.5.11                 \r\nconda-build                        3.15.1                 \r\nconfigparser                       3.5.0                  \r\nconstantly                         15.1.0                 \r\ncontextlib2                        0.4.0                  \r\ncryptography                       2.3.1                  \r\ncycler                             0.10.0                 \r\nCython                             0.28.5                 \r\ncytoolz                            0.9.0.1                \r\ndask                               0.19.1                 \r\ndatacleaner                        0.1.5                  \r\ndatashape                          0.5.4                  \r\ndecorator                          4.3.0                  \r\ndefusedxml                         0.5.0                  \r\nDeprecated                         1.2.4                  \r\ndistributed                        1.23.1                 \r\ndocker-py                          1.10.6                 \r\ndocker-pycreds                     0.4.0                  \r\ndocutils                           0.14                   \r\nDora                               0.0.2                  \r\nedward                             1.3.5                  \r\nelasticsearch                      6.3.1                  \r\nentrypoints                        0.2.3                  \r\nenum34                             1.1.6                  \r\net-xmlfile                         1.0.1                  \r\nfastcache                          1.0.2                  \r\nfastlmm                            0.2.32                 \r\nfeedparser                         5.2.1                  \r\nfilelock                           3.0.8                  \r\nFlask                              1.0.2                  \r\nFlask-Cors                         3.0.6                  \r\nftfy                               4.4.3                  \r\nfuncsigs                           1.0.2                  \r\nfunctools32                        3.2.3.post2            \r\nfuture                             0.15.2                 \r\nfutures                            3.2.0                  \r\nGDAL                               2.3.0                  \r\ngevent                             1.3.6                  \r\nggplot                             0.11.5                 \r\nglob2                              0.6                    \r\ngmpy2                              2.0.8                  \r\ngraphviz                           0.10.1                 \r\ngreenlet                           0.4.15                 \r\ngrin                               1.2.1                  \r\ngrpcio                             1.17.0                 \r\nh5py                               2.8.0                  \r\nheapdict                           1.0.0                  \r\nholoviews                          1.10.7                 \r\nhtml5lib                           0.9999999              \r\nhyperlink                          18.0.0                 \r\nidna                               2.7                    \r\nimageio                            2.4.1                  \r\nimagesize                          1.1.0                  \r\nincremental                        17.5.0                 \r\nipaddress                          1.0.22                 \r\nipykernel                          4.10.0                 \r\nipython                            5.8.0                  \r\nipython-genutils                   0.2.0                  \r\nipywidgets                         7.4.2                  \r\nisort                              4.3.4                  \r\nitsdangerous                       0.24                   \r\njdcal                              1.4                    \r\njedi                               0.12.1                 \r\nJinja2                             2.10                   \r\njmespath                           0.9.3                  \r\njoblib                             0.13.0                 \r\njsonschema                         2.6.0                  \r\njupyter                            1.0.0                  \r\njupyter-client                     5.2.3                  \r\njupyter-console                    5.2.0                  \r\njupyter-core                       4.4.0                  \r\njupyterlab                         0.33.11                \r\njupyterlab-launcher                0.11.2                 \r\nkafka-python                       1.4.4                  \r\nkazoo                              2.5.0                  \r\nKeras                              2.2.2                  \r\nKeras-Applications                 1.0.4                  \r\nKeras-Preprocessing                1.0.2                  \r\nkiwisolver                         1.0.1                  \r\nklein                              17.10.0                \r\nlancet-ioam                        0.9.0                  \r\nlazy-object-proxy                  1.3.1                  \r\nline-profiler                      2.1.2                  \r\nlinecache2                         1.0.0                  \r\nllvmlite                           0.24.0                 \r\nlocket                             0.2.0                  \r\nlockfile                           0.12.2                 \r\nluigi                              2.8.0                  \r\nlxml                               4.2.5                  \r\nMarkdown                           3.0.1                  \r\nMarkupSafe                         1.1.0                  \r\nmatplotlib                         2.2.3                  \r\nmccabe                             0.6.1                  \r\nmemory-profiler                    0.54.0                 \r\nmistune                            0.8.4                  \r\nmkl-fft                            1.0.4                  \r\nmkl-random                         1.0.1                  \r\nmock                               2.0.0                  \r\nmore-itertools                     4.3.0                  \r\nmpmath                             1.0.0                  \r\nmsgpack                            0.5.6                  \r\nmultipledispatch                   0.6.0                  \r\nnatsort                            4.0.3                  \r\nnavigator-updater                  0.2.1                  \r\nnbconvert                          5.4.0                  \r\nnbformat                           4.4.0                  \r\nnetworkx                           2.1                    \r\nnltk                               3.3                    \r\nnose                               1.3.7                  \r\nnotebook                           5.7.2                  \r\nnumba                              0.39.0+0.g4e49566.dirty\r\nnumexpr                            2.6.8                  \r\nnumpy                              1.15.4                 \r\nnumpydoc                           0.8.0                  \r\nodo                                0.5.1                  \r\nolefile                            0.46                   \r\nopenfst                            1.6.1                  \r\nopenpyxl                           2.5.6                  \r\npackaging                          18.0                   \r\npandas                             0.23.4                 \r\npandasql                           0.7.3                  \r\npandocfilters                      1.4.2                  \r\nparam                              1.7.0                  \r\nparso                              0.3.1                  \r\npartd                              0.3.8                  \r\npath.py                            11.1.0                 \r\npathlib2                           2.3.2                  \r\npatsy                              0.5.1                  \r\npbr                                4.2.0                  \r\npep8                               1.7.1                  \r\npexpect                            4.6.0                  \r\nphonenumbers                       8.10.2                 \r\npickleshare                        0.7.5                  \r\nPillow                             5.3.0                  \r\npip                                18.1                   \r\npkginfo                            1.4.2                  \r\nplotly                             3.4.2                  \r\npluggy                             0.7.1                  \r\nply                                3.11                   \r\nprettypandas                       0.0.4                  \r\nprometheus-client                  0.4.2                  \r\nprompt-toolkit                     1.0.15                 \r\nprotobuf                           3.6.0                  \r\npsutil                             5.4.7                  \r\npsycopg2                           2.7.5                  \r\nptyprocess                         0.6.0                  \r\npy                                 1.6.0                  \r\npyang                              1.7.5                  \r\npyasn1                             0.4.4                  \r\npyasn1-modules                     0.2.2                  \r\npycairo                            1.17.1                 \r\npycodestyle                        2.4.0                  \r\npycosat                            0.6.3                  \r\npycparser                          2.19                   \r\npycrypto                           2.6.1                  \r\npycurl                             7.43.0.2               \r\npydot                              1.4.0                  \r\npyflakes                           2.0.0                  \r\nPyGithub                           1.43.3                 \r\nPygments                           2.2.0                  \r\nPyHamcrest                         1.9.0                  \r\nPyJWT                              1.7.1                  \r\npykafka                            2.8.0                  \r\npylint                             1.9.2                  \r\npymc                               2.3.6                  \r\npymc3                              3.5                    \r\npymongo                            3.7.1                  \r\nPympler                            0.6                    \r\npymssql                            2.1.1                  \r\nPyMySQL                            0.9.2                  \r\npyodbc                             4.0.24                 \r\npyOpenSSL                          18.0.0                 \r\npypachy                            0.1.5                  \r\npyparsing                          2.3.0                  \r\npyprof2calltree                    1.4.4                  \r\npysnptools                         0.3.13                 \r\nPySocks                            1.6.8                  \r\npytest                             3.8.0                  \r\npython-daemon                      2.1.2                  \r\npython-dateutil                    2.7.5                  \r\npytz                               2018.7                 \r\npyviz-comms                        0.6.0                  \r\nPyWavelets                         1.0.0                  \r\nPyYAML                             3.13                   \r\npyzmq                              17.1.2                 \r\nQtAwesome                          0.4.4                  \r\nqtconsole                          4.4.2                  \r\nQtPy                               1.5.0                  \r\nreadline                           6.2.4.1                \r\nrequests                           2.20.1                 \r\nretrying                           1.3.3                  \r\nrope                               0.11.0                 \r\nrpy2                               2.8.6                  \r\nruamel-yaml                        0.15.46                \r\ns3transfer                         0.1.13                 \r\nscandir                            1.9.0                  \r\nscikit-bio                         0.4.0                  \r\nscikit-image                       0.13.0                 \r\nscikit-learn                       0.19.2                 \r\nscipy                              1.1.0                  \r\nscrubadub                          1.2.0                  \r\nseaborn                            0.9.0                  \r\nSend2Trash                         1.5.0                  \r\nservice-identity                   17.0.0                 \r\nsetuptools                         40.6.2                 \r\nsimplegeneric                      0.8.1                  \r\nsingledispatch                     3.4.0.3                \r\nsix                                1.11.0                 \r\nsklearn                            0.0                    \r\nsnakeviz                           1.0.0                  \r\nsnowballstemmer                    1.2.1                  \r\nsortedcollections                  1.0.1                  \r\nsortedcontainers                   2.0.5                  \r\nSphinx                             1.7.9                  \r\nsphinxcontrib-websupport           1.1.0                  \r\nspyder                             3.3.1                  \r\nspyder-kernels                     0.2.6                  \r\nSQLAlchemy                         1.2.14                 \r\nstatsmodels                        0.9.0                  \r\nsubprocess32                       3.5.3                  \r\nsympy                              1.2                    \r\ntables                             3.4.4                  \r\ntabulate                           0.8.2                  \r\ntblib                              1.3.2                  \r\ntensorflow                         1.3.0                  \r\ntensorflow-tensorboard             0.1.8                  \r\nterminado                          0.8.1                  \r\ntestpath                           0.4.2                  \r\ntextblob                           0.10.0                 \r\nTheano                             1.0.3                  \r\ntoolz                              0.9.0                  \r\ntorch                              0.4.1                  \r\ntorchvision                        0.2.1                  \r\ntornado                            4.5.3                  \r\ntqdm                               4.26.0                 \r\ntraceback2                         1.4.0                  \r\ntraitlets                          4.3.2                  \r\ntraittypes                         0.2.1                  \r\ntreq                               18.6.0                 \r\nTwisted                            18.7.0                 \r\ntyping                             3.6.6                  \r\nunicodecsv                         0.14.1                 \r\nunittest2                          1.1.0                  \r\nupdate-checker                     0.16                   \r\nurllib3                            1.23                   \r\nwcwidth                            0.1.7                  \r\nwebencodings                       0.5.1                  \r\nwebsocket-client                   0.54.0                 \r\nWerkzeug                           0.14.1                 \r\nwget                               3.2                    \r\nwheel                              0.32.3                 \r\nwidgetsnbextension                 3.4.2                  \r\nword2vec                           0.9.4                  \r\nwrapt                              1.10.11                \r\nxlrd                               1.1.0                  \r\nXlsxWriter                         1.1.0                  \r\nxlutils                            2.0.0                  \r\nxlwt                               1.3.0                  \r\nzict                               0.1.3                  \r\nzope.interface                     4.5.0                  \r\n",
          "name": "stdout"
        }
      ]
    },
    {
      "metadata": {
        "trusted": true
      },
      "cell_type": "code",
      "source": "import platform\nplatform.platform()",
      "execution_count": 4,
      "outputs": [
        {
          "output_type": "execute_result",
          "execution_count": 4,
          "data": {
            "text/plain": "'Linux-4.14.29-linuxkit-x86_64-with-debian-stretch-sid'"
          },
          "metadata": {}
        }
      ]
    },
    {
      "metadata": {
        "trusted": true
      },
      "cell_type": "code",
      "source": "%ls -ls",
      "execution_count": 5,
      "outputs": [
        {
          "output_type": "stream",
          "text": "total 0\r\n0 -rw-r--r-- 1 nbuser nbuser  73137 Nov 30 11:45 0 Basics 1 Python.ipynb\r\n0 -rw-r--r-- 1 nbuser nbuser  30160 Nov 26 17:33 0 Basics 2 Numpy.ipynb\r\n0 -rw-r--r-- 1 nbuser nbuser 196720 Nov 26 17:34 0 Basics 3 Pandas.ipynb\r\n0 -rw-r--r-- 1 nbuser nbuser  22379 Nov 30 11:59 0 Basics 5 API Geocodage.ipynb\r\n0 -rw-r--r-- 1 nbuser nbuser 217701 Nov 26 17:38 3 Visualisation 12 Folium Maps.ipynb\r\n0 -rw-r--r-- 1 nbuser nbuser 162008 Nov 26 17:39 3 Visualisation 2 PixieDust.ipynb\r\n0 -rw-r--r-- 1 nbuser nbuser 428036 Nov 26 17:40 3 Visualisation 3 Seaborn.ipynb\r\n0 -rw-r--r-- 1 nbuser nbuser 257264 Nov 26 17:43 3 Visualisation 6 ACP Iris Fisher.ipynb\r\n0 -rw-r--r-- 1 nbuser nbuser 221857 Nov 26 17:44 3 Visualisation 8 Bokeh.ipynb\r\n0 -rw-r--r-- 1 nbuser nbuser  85682 Nov 26 17:44 5 ML 14 Cas usage TITANIC Kaggle.ipynb\r\n0 -rw-r--r-- 1 nbuser nbuser  14897 Oct 24 15:26 5 ML 4 Statistiques descriptives.ipynb\r\n0 -rw-r--r-- 1 nbuser nbuser 578764 Nov 26 17:51 5 ML 5 Analyse IRIS scikit-learn.ipynb\r\n0 -rw-r--r-- 1 nbuser nbuser 206061 Nov 26 17:50 5 ML 7 Classification avec Carto.ipynb\r\n0 -rw-r--r-- 1 nbuser nbuser   8524 Nov 26 17:52 Azure Notebooks - Welcome.ipynb\r\n0 -rw-r--r-- 1 nbuser nbuser 119246 Nov 26 17:52 Creation and Deployment of an Azure ML Web Service.ipynb\r\n0 -rw-r--r-- 1 nbuser nbuser 231547 Oct  9 18:20 Discover Sentiments in Tweets.ipynb\r\n0 -rw-r--r-- 1 nbuser nbuser  44102 Oct  9 18:20 FSharp for Azure Notebooks.ipynb\r\n0 -rw-r--r-- 1 nbuser nbuser  24102 Oct  9 18:20 Getting to your Data in Azure Notebooks.ipynb\r\n0 -rw-r--r-- 1 nbuser nbuser  47740 Oct  9 18:20 Introduction to Python.ipynb\r\n0 -rw-r--r-- 1 nbuser nbuser 181244 Oct  9 18:20 Introduction to R.ipynb\r\n0 -rw-r--r-- 1 nbuser nbuser  14557 Nov 26 17:49 nyc_neighborhoods.csv\r\n0 -rw-r--r-- 1 nbuser nbuser   5190 Oct  9 18:20 oil_price.csv\r\n0 -rw-r--r-- 1 nbuser nbuser     92 Oct  9 18:20 README.html\r\n0 -rw-r--r-- 1 nbuser nbuser   1143 Oct  9 18:20 shell.log\r\n0 -rw-r--r-- 1 nbuser nbuser   1326 Nov 30 12:25 test.ipynb\r\n0 -rw-r--r-- 1 nbuser nbuser   1420 Nov 26 17:47 tree.dot\r\n",
          "name": "stdout"
        }
      ]
    },
    {
      "metadata": {
        "trusted": true
      },
      "cell_type": "code",
      "source": "%ls -ls *.csv\n",
      "execution_count": 6,
      "outputs": [
        {
          "output_type": "stream",
          "text": "0 -rw-r--r-- 1 nbuser nbuser 14557 Nov 26 17:49 nyc_neighborhoods.csv\r\n0 -rw-r--r-- 1 nbuser nbuser  5190 Oct  9 18:20 oil_price.csv\r\n",
          "name": "stdout"
        }
      ]
    },
    {
      "metadata": {
        "trusted": true
      },
      "cell_type": "code",
      "source": "!pip list",
      "execution_count": 7,
      "outputs": [
        {
          "output_type": "stream",
          "text": "Package                            Version                \r\n---------------------------------- -----------------------\r\nadal                               1.2.0                  \r\nalabaster                          0.7.11                 \r\naltair                             2.3.0                  \r\nanaconda-client                    1.7.2                  \r\nanaconda-navigator                 1.9.2                  \r\nanaconda-project                   0.8.2                  \r\nappdirs                            1.4.3                  \r\nargcomplete                        1.9.4                  \r\narrow                              0.12.1                 \r\nasn1crypto                         0.24.0                 \r\nastroid                            1.6.5                  \r\nastropy                            2.0.8                  \r\natomicwrites                       1.2.1                  \r\nattrs                              18.2.0                 \r\nAutomat                            0.7.0                  \r\nazure-common                       1.1.16                 \r\nazure-kusto-data                   0.0.11                 \r\nazure-kusto-ingest                 0.0.11                 \r\nazure-nspkg                        3.0.2                  \r\nazure-storage-blob                 1.4.0                  \r\nazure-storage-common               1.4.0                  \r\nazure-storage-nspkg                3.1.0                  \r\nazure-storage-queue                1.4.0                  \r\nazureml                            0.2.7                  \r\nBabel                              2.6.0                  \r\nbackports-abc                      0.5                    \r\nbackports.functools-lru-cache      1.5                    \r\nbackports.shutil-get-terminal-size 1.0.0                  \r\nbackports.ssl-match-hostname       3.5.0.1                \r\nbackports.weakref                  1.0rc1                 \r\nbeautifier                         0.5.5                  \r\nbeautifulsoup4                     4.6.3                  \r\nbitarray                           0.8.3                  \r\nbkcharts                           0.2                    \r\nblaze                              0.11.3                 \r\nbleach                             1.5.0                  \r\nbleach-whitelist                   0.0.9                  \r\nbokeh                              0.13.0                 \r\nboto                               2.49.0                 \r\nboto3                              1.4.8                  \r\nbotocore                           1.8.50                 \r\nBottleneck                         1.2.1                  \r\nbqplot                             0.11.2                 \r\nbrewer2mpl                         1.4.1                  \r\nbz2file                            0.98                   \r\nCacheControl                       0.11.5                 \r\ncdecimal                           2.3                    \r\ncertifi                            2018.10.15             \r\ncffi                               1.11.5                 \r\nchardet                            3.0.4                  \r\nclick                              6.7                    \r\ncloudpickle                        0.5.5                  \r\nclyent                             1.2.2                  \r\ncntk                               2.5.1                  \r\ncolorama                           0.3.9                  \r\nconda                              4.5.11                 \r\nconda-build                        3.15.1                 \r\nconfigparser                       3.5.0                  \r\nconstantly                         15.1.0                 \r\ncontextlib2                        0.4.0                  \r\ncryptography                       2.3.1                  \r\ncycler                             0.10.0                 \r\nCython                             0.28.5                 \r\ncytoolz                            0.9.0.1                \r\ndask                               0.19.1                 \r\ndatacleaner                        0.1.5                  \r\ndatashape                          0.5.4                  \r\ndecorator                          4.3.0                  \r\ndefusedxml                         0.5.0                  \r\nDeprecated                         1.2.4                  \r\ndistributed                        1.23.1                 \r\ndocker-py                          1.10.6                 \r\ndocker-pycreds                     0.4.0                  \r\ndocutils                           0.14                   \r\nDora                               0.0.2                  \r\nedward                             1.3.5                  \r\nelasticsearch                      6.3.1                  \r\nentrypoints                        0.2.3                  \r\nenum34                             1.1.6                  \r\net-xmlfile                         1.0.1                  \r\nfastcache                          1.0.2                  \r\nfastlmm                            0.2.32                 \r\nfeedparser                         5.2.1                  \r\nfilelock                           3.0.8                  \r\nFlask                              1.0.2                  \r\nFlask-Cors                         3.0.6                  \r\nftfy                               4.4.3                  \r\nfuncsigs                           1.0.2                  \r\nfunctools32                        3.2.3.post2            \r\nfuture                             0.15.2                 \r\nfutures                            3.2.0                  \r\nGDAL                               2.3.0                  \r\ngevent                             1.3.6                  \r\nggplot                             0.11.5                 \r\nglob2                              0.6                    \r\ngmpy2                              2.0.8                  \r\ngraphviz                           0.10.1                 \r\ngreenlet                           0.4.15                 \r\ngrin                               1.2.1                  \r\ngrpcio                             1.17.0                 \r\nh5py                               2.8.0                  \r\nheapdict                           1.0.0                  \r\nholoviews                          1.10.7                 \r\nhtml5lib                           0.9999999              \r\nhyperlink                          18.0.0                 \r\nidna                               2.7                    \r\nimageio                            2.4.1                  \r\nimagesize                          1.1.0                  \r\nincremental                        17.5.0                 \r\nipaddress                          1.0.22                 \r\nipykernel                          4.10.0                 \r\nipython                            5.8.0                  \r\nipython-genutils                   0.2.0                  \r\nipywidgets                         7.4.2                  \r\nisort                              4.3.4                  \r\nitsdangerous                       0.24                   \r\njdcal                              1.4                    \r\njedi                               0.12.1                 \r\nJinja2                             2.10                   \r\njmespath                           0.9.3                  \r\njoblib                             0.13.0                 \r\njsonschema                         2.6.0                  \r\njupyter                            1.0.0                  \r\njupyter-client                     5.2.3                  \r\njupyter-console                    5.2.0                  \r\njupyter-core                       4.4.0                  \r\njupyterlab                         0.33.11                \r\njupyterlab-launcher                0.11.2                 \r\nkafka-python                       1.4.4                  \r\nkazoo                              2.5.0                  \r\nKeras                              2.2.2                  \r\nKeras-Applications                 1.0.4                  \r\nKeras-Preprocessing                1.0.2                  \r\nkiwisolver                         1.0.1                  \r\nklein                              17.10.0                \r\nlancet-ioam                        0.9.0                  \r\nlazy-object-proxy                  1.3.1                  \r\nline-profiler                      2.1.2                  \r\nlinecache2                         1.0.0                  \r\nllvmlite                           0.24.0                 \r\nlocket                             0.2.0                  \r\nlockfile                           0.12.2                 \r\nluigi                              2.8.0                  \r\nlxml                               4.2.5                  \r\nMarkdown                           3.0.1                  \r\nMarkupSafe                         1.1.0                  \r\nmatplotlib                         2.2.3                  \r\nmccabe                             0.6.1                  \r\nmemory-profiler                    0.54.0                 \r\nmistune                            0.8.4                  \r\nmkl-fft                            1.0.4                  \r\nmkl-random                         1.0.1                  \r\nmock                               2.0.0                  \r\nmore-itertools                     4.3.0                  \r\nmpmath                             1.0.0                  \r\nmsgpack                            0.5.6                  \r\nmultipledispatch                   0.6.0                  \r\nnatsort                            4.0.3                  \r\nnavigator-updater                  0.2.1                  \r\nnbconvert                          5.4.0                  \r\nnbformat                           4.4.0                  \r\nnetworkx                           2.1                    \r\nnltk                               3.3                    \r\nnose                               1.3.7                  \r\nnotebook                           5.7.2                  \r\nnumba                              0.39.0+0.g4e49566.dirty\r\nnumexpr                            2.6.8                  \r\nnumpy                              1.15.4                 \r\nnumpydoc                           0.8.0                  \r\nodo                                0.5.1                  \r\nolefile                            0.46                   \r\nopenfst                            1.6.1                  \r\nopenpyxl                           2.5.6                  \r\npackaging                          18.0                   \r\npandas                             0.23.4                 \r\npandasql                           0.7.3                  \r\npandocfilters                      1.4.2                  \r\nparam                              1.7.0                  \r\nparso                              0.3.1                  \r\npartd                              0.3.8                  \r\npath.py                            11.1.0                 \r\npathlib2                           2.3.2                  \r\npatsy                              0.5.1                  \r\npbr                                4.2.0                  \r\npep8                               1.7.1                  \r\npexpect                            4.6.0                  \r\nphonenumbers                       8.10.2                 \r\npickleshare                        0.7.5                  \r\nPillow                             5.3.0                  \r\npip                                18.1                   \r\npkginfo                            1.4.2                  \r\nplotly                             3.4.2                  \r\npluggy                             0.7.1                  \r\nply                                3.11                   \r\nprettypandas                       0.0.4                  \r\nprometheus-client                  0.4.2                  \r\nprompt-toolkit                     1.0.15                 \r\nprotobuf                           3.6.0                  \r\npsutil                             5.4.7                  \r\npsycopg2                           2.7.5                  \r\nptyprocess                         0.6.0                  \r\npy                                 1.6.0                  \r\npyang                              1.7.5                  \r\npyasn1                             0.4.4                  \r\npyasn1-modules                     0.2.2                  \r\npycairo                            1.17.1                 \r\npycodestyle                        2.4.0                  \r\npycosat                            0.6.3                  \r\npycparser                          2.19                   \r\npycrypto                           2.6.1                  \r\npycurl                             7.43.0.2               \r\npydot                              1.4.0                  \r\npyflakes                           2.0.0                  \r\nPyGithub                           1.43.3                 \r\nPygments                           2.2.0                  \r\nPyHamcrest                         1.9.0                  \r\nPyJWT                              1.7.1                  \r\npykafka                            2.8.0                  \r\npylint                             1.9.2                  \r\npymc                               2.3.6                  \r\npymc3                              3.5                    \r\npymongo                            3.7.1                  \r\nPympler                            0.6                    \r\npymssql                            2.1.1                  \r\nPyMySQL                            0.9.2                  \r\npyodbc                             4.0.24                 \r\npyOpenSSL                          18.0.0                 \r\npypachy                            0.1.5                  \r\npyparsing                          2.3.0                  \r\npyprof2calltree                    1.4.4                  \r\npysnptools                         0.3.13                 \r\nPySocks                            1.6.8                  \r\npytest                             3.8.0                  \r\npython-daemon                      2.1.2                  \r\npython-dateutil                    2.7.5                  \r\npytz                               2018.7                 \r\npyviz-comms                        0.6.0                  \r\nPyWavelets                         1.0.0                  \r\nPyYAML                             3.13                   \r\npyzmq                              17.1.2                 \r\nQtAwesome                          0.4.4                  \r\nqtconsole                          4.4.2                  \r\nQtPy                               1.5.0                  \r\nreadline                           6.2.4.1                \r\nrequests                           2.20.1                 \r\nretrying                           1.3.3                  \r\nrope                               0.11.0                 \r\nrpy2                               2.8.6                  \r\nruamel-yaml                        0.15.46                \r\ns3transfer                         0.1.13                 \r\nscandir                            1.9.0                  \r\nscikit-bio                         0.4.0                  \r\n",
          "name": "stdout"
        },
        {
          "output_type": "stream",
          "text": "scikit-image                       0.13.0                 \r\nscikit-learn                       0.19.2                 \r\nscipy                              1.1.0                  \r\nscrubadub                          1.2.0                  \r\nseaborn                            0.9.0                  \r\nSend2Trash                         1.5.0                  \r\nservice-identity                   17.0.0                 \r\nsetuptools                         40.6.2                 \r\nsimplegeneric                      0.8.1                  \r\nsingledispatch                     3.4.0.3                \r\nsix                                1.11.0                 \r\nsklearn                            0.0                    \r\nsnakeviz                           1.0.0                  \r\nsnowballstemmer                    1.2.1                  \r\nsortedcollections                  1.0.1                  \r\nsortedcontainers                   2.0.5                  \r\nSphinx                             1.7.9                  \r\nsphinxcontrib-websupport           1.1.0                  \r\nspyder                             3.3.1                  \r\nspyder-kernels                     0.2.6                  \r\nSQLAlchemy                         1.2.14                 \r\nstatsmodels                        0.9.0                  \r\nsubprocess32                       3.5.3                  \r\nsympy                              1.2                    \r\ntables                             3.4.4                  \r\ntabulate                           0.8.2                  \r\ntblib                              1.3.2                  \r\ntensorflow                         1.3.0                  \r\ntensorflow-tensorboard             0.1.8                  \r\nterminado                          0.8.1                  \r\ntestpath                           0.4.2                  \r\ntextblob                           0.10.0                 \r\nTheano                             1.0.3                  \r\ntoolz                              0.9.0                  \r\ntorch                              0.4.1                  \r\ntorchvision                        0.2.1                  \r\ntornado                            4.5.3                  \r\ntqdm                               4.26.0                 \r\ntraceback2                         1.4.0                  \r\ntraitlets                          4.3.2                  \r\ntraittypes                         0.2.1                  \r\ntreq                               18.6.0                 \r\nTwisted                            18.7.0                 \r\ntyping                             3.6.6                  \r\nunicodecsv                         0.14.1                 \r\nunittest2                          1.1.0                  \r\nupdate-checker                     0.16                   \r\nurllib3                            1.23                   \r\nwcwidth                            0.1.7                  \r\nwebencodings                       0.5.1                  \r\nwebsocket-client                   0.54.0                 \r\nWerkzeug                           0.14.1                 \r\nwget                               3.2                    \r\nwheel                              0.32.3                 \r\nwidgetsnbextension                 3.4.2                  \r\nword2vec                           0.9.4                  \r\nwrapt                              1.10.11                \r\nxlrd                               1.1.0                  \r\nXlsxWriter                         1.1.0                  \r\nxlutils                            2.0.0                  \r\nxlwt                               1.3.0                  \r\nzict                               0.1.3                  \r\nzope.interface                     4.5.0                  \r\n",
          "name": "stdout"
        }
      ]
    },
    {
      "metadata": {
        "trusted": true
      },
      "cell_type": "code",
      "source": "print(\"Votre Valeur\")\nnb=float(input())\nif nb <0: print (\"Valeur Négative\")\nelse:\n    print (\"Valeur Positive\")",
      "execution_count": 8,
      "outputs": [
        {
          "output_type": "stream",
          "text": "Votre Valeur\n15\nValeur Positive\n",
          "name": "stdout"
        }
      ]
    },
    {
      "metadata": {
        "trusted": true
      },
      "cell_type": "code",
      "source": "import datetime\n\nnow = datetime.datetime.now()\n\nprint\nprint \"Date et heure :\"\nprint str(now)\n\nprint\nprint \"Date et heure du jour:\"\nprint \"Année: %d\" % now.year\nprint \"Mois : %d\" % now.month\nprint \"Jour : %d\" % now.day\nprint \"Heure : %d\" % now.hour\nprint \"Minutes: %d\" % now.minute\nprint \"Secondes : %d\" % now.second\nprint \"Microsecondes : %d\" % now.microsecond\n\nprint\nprint \"Date et heure avec strftime:\"\nprint now.strftime(\"%Y-%m-%d %H:%M\")\n\nprint\nprint \"Date et heure avec isoformat :\"\nprint now.isoformat()",
      "execution_count": 9,
      "outputs": [
        {
          "output_type": "stream",
          "text": "\nDate et heure :\n2018-12-24 13:09:28.782787\n\nDate et heure du jour:\nAnnée: 2018\nMois : 12\nJour : 24\nHeure : 13\nMinutes: 9\nSecondes : 28\nMicrosecondes : 782787\n\nDate et heure avec strftime:\n2018-12-24 13:09\n\nDate et heure avec isoformat :\n2018-12-24T13:09:28.782787\n",
          "name": "stdout"
        }
      ]
    },
    {
      "metadata": {},
      "cell_type": "markdown",
      "source": "### Basic data types"
    },
    {
      "metadata": {},
      "cell_type": "markdown",
      "source": "# Basics of Python\n\nAdopted from http://cs231n.github.io/python-numpy-tutorial/"
    },
    {
      "metadata": {},
      "cell_type": "markdown",
      "source": "### Un exemple Python (Suite de Fibonacci) :"
    },
    {
      "metadata": {
        "trusted": true
      },
      "cell_type": "code",
      "source": "import math\nfrom __future__ import print_function\n\ndef fib_recursive(n):\n    if n == 0:\n        return 0\n    elif n == 1:\n        return 1\n    else:\n        return fib_recursive(n-1) + fib_recursive(n-2)\n\nprint([fib_recursive(i) for i in range(10)])\n[0, 1, 1, 2, 3, 5, 8, 13, 21, 34]\n\n%timeit fib_recursive(10)",
      "execution_count": 10,
      "outputs": [
        {
          "output_type": "stream",
          "text": "[0, 1, 1, 2, 3, 5, 8, 13, 21, 34]\n10000 loops, best of 3: 26 µs per loop\n",
          "name": "stdout"
        }
      ]
    },
    {
      "metadata": {},
      "cell_type": "markdown",
      "source": "#### Numbers"
    },
    {
      "metadata": {},
      "cell_type": "markdown",
      "source": "Integers and floats work as you would expect from other languages:"
    },
    {
      "metadata": {
        "trusted": true
      },
      "cell_type": "code",
      "source": "x = 3\nprint (x)",
      "execution_count": 11,
      "outputs": [
        {
          "output_type": "stream",
          "text": "3\n",
          "name": "stdout"
        }
      ]
    },
    {
      "metadata": {
        "trusted": true
      },
      "cell_type": "code",
      "source": "print (x + 1)   # Addition;\nprint (x - 1)   # Subtraction;\nprint (x * 2)   # Multiplication;\nprint (x ** 2)  # Exponentiation;",
      "execution_count": 12,
      "outputs": [
        {
          "output_type": "stream",
          "text": "4\n2\n6\n9\n",
          "name": "stdout"
        }
      ]
    },
    {
      "metadata": {
        "trusted": true
      },
      "cell_type": "code",
      "source": "x += 1\nprint (x)  # Prints \"4\"\nx *= 2\nprint (x)  # Prints \"8\"",
      "execution_count": 13,
      "outputs": [
        {
          "output_type": "stream",
          "text": "4\n8\n",
          "name": "stdout"
        }
      ]
    },
    {
      "metadata": {},
      "cell_type": "markdown",
      "source": "Note that unlike many languages, Python does not have unary increment (x++) or decrement (x--) operators.\n\nPython also has built-in types for long integers and complex numbers; you can find all of the details in the [documentation](https://docs.python.org/2/library/stdtypes.html#numeric-types-int-float-long-complex)."
    },
    {
      "metadata": {},
      "cell_type": "markdown",
      "source": "#### Booleans"
    },
    {
      "metadata": {},
      "cell_type": "markdown",
      "source": "Python implements all of the usual operators for Boolean logic, but uses English words rather than symbols (`&&`, `||`, etc.):"
    },
    {
      "metadata": {
        "trusted": true
      },
      "cell_type": "code",
      "source": "t, f = True, False\nprint (type(t)) # Prints \"<type 'bool'>\"",
      "execution_count": 14,
      "outputs": [
        {
          "output_type": "stream",
          "text": "<type 'bool'>\n",
          "name": "stdout"
        }
      ]
    },
    {
      "metadata": {},
      "cell_type": "markdown",
      "source": "Now we let's look at the operations:"
    },
    {
      "metadata": {
        "trusted": true
      },
      "cell_type": "code",
      "source": "print (t and f) # Logical AND;\nprint (t or f)  # Logical OR;",
      "execution_count": 15,
      "outputs": [
        {
          "output_type": "stream",
          "text": "False\nTrue\n",
          "name": "stdout"
        }
      ]
    },
    {
      "metadata": {},
      "cell_type": "markdown",
      "source": "#### Strings"
    },
    {
      "metadata": {
        "trusted": true
      },
      "cell_type": "code",
      "source": "hello = 'hello'   # String literals can use single quotes\nworld = \"world\"   # or double quotes; it does not matter.\nprint (hello, len(hello))",
      "execution_count": 16,
      "outputs": [
        {
          "output_type": "stream",
          "text": "hello 5\n",
          "name": "stdout"
        }
      ]
    },
    {
      "metadata": {
        "trusted": true
      },
      "cell_type": "code",
      "source": "hw = hello + ' ' + world  # String concatenation\nprint (hw)  # prints \"hello world\"",
      "execution_count": 17,
      "outputs": [
        {
          "output_type": "stream",
          "text": "hello world\n",
          "name": "stdout"
        }
      ]
    },
    {
      "metadata": {
        "trusted": true
      },
      "cell_type": "code",
      "source": "hw12 = '%s %s %d' % (hello, world, 12)  # sprintf style string formatting\nprint (hw12)  # prints \"hello world 12\"",
      "execution_count": 18,
      "outputs": [
        {
          "output_type": "stream",
          "text": "hello world 12\n",
          "name": "stdout"
        }
      ]
    },
    {
      "metadata": {},
      "cell_type": "markdown",
      "source": "String objects have a bunch of useful methods; for example:"
    },
    {
      "metadata": {
        "trusted": true
      },
      "cell_type": "code",
      "source": "s = \"hello\"\nprint (s.capitalize())  # Capitalize a string; prints \"Hello\"\nprint (s.upper())       # Convert a string to uppercase; prints \"HELLO\"\nprint (s.rjust(7))      # Right-justify a string, padding with spaces; prints \"  hello\"\nprint (s.center(7))     # Center a string, padding with spaces; prints \" hello \"\nprint (s.replace('l', '(ell)'))  # Replace all instances of one substring with another;\n                    ",
      "execution_count": 19,
      "outputs": [
        {
          "output_type": "stream",
          "text": "Hello\nHELLO\n  hello\n hello \nhe(ell)(ell)o\n",
          "name": "stdout"
        }
      ]
    },
    {
      "metadata": {},
      "cell_type": "markdown",
      "source": "You can find a list of all string methods in the [documentation](https://docs.python.org/2/library/stdtypes.html#string-methods)."
    },
    {
      "metadata": {},
      "cell_type": "markdown",
      "source": "### Containers"
    },
    {
      "metadata": {},
      "cell_type": "markdown",
      "source": "Python includes several built-in container types: lists, dictionaries, sets, and tuples."
    },
    {
      "metadata": {},
      "cell_type": "markdown",
      "source": "#### Lists"
    },
    {
      "metadata": {},
      "cell_type": "markdown",
      "source": "A list is the Python equivalent of an array, but is resizeable and can contain elements of different types:"
    },
    {
      "metadata": {
        "trusted": true
      },
      "cell_type": "code",
      "source": "xs = [3, 1, 2]   # Create a list\nprint (xs, xs[2])\nprint (xs[-1] )    # Negative indices count from the end of the list; prints \"2\"",
      "execution_count": 20,
      "outputs": [
        {
          "output_type": "stream",
          "text": "[3, 1, 2] 2\n2\n",
          "name": "stdout"
        }
      ]
    },
    {
      "metadata": {
        "trusted": true
      },
      "cell_type": "code",
      "source": "xs[2] = 'foo'    # Lists can contain elements of different types\nprint (xs)",
      "execution_count": 21,
      "outputs": [
        {
          "output_type": "stream",
          "text": "[3, 1, 'foo']\n",
          "name": "stdout"
        }
      ]
    },
    {
      "metadata": {
        "trusted": true
      },
      "cell_type": "code",
      "source": "xs.append('bar') # Add a new element to the end of the list\nprint (xs)  ",
      "execution_count": 22,
      "outputs": [
        {
          "output_type": "stream",
          "text": "[3, 1, 'foo', 'bar']\n",
          "name": "stdout"
        }
      ]
    },
    {
      "metadata": {
        "trusted": true
      },
      "cell_type": "code",
      "source": "x = xs.pop()     # Remove and return the last element of the list\nprint (x, xs) ",
      "execution_count": 23,
      "outputs": [
        {
          "output_type": "stream",
          "text": "bar [3, 1, 'foo']\n",
          "name": "stdout"
        }
      ]
    },
    {
      "metadata": {},
      "cell_type": "markdown",
      "source": "As usual, you can find all the gory details about lists in the [documentation](https://docs.python.org/2/tutorial/datastructures.html#more-on-lists)."
    },
    {
      "metadata": {},
      "cell_type": "markdown",
      "source": "#### Slicing"
    },
    {
      "metadata": {},
      "cell_type": "markdown",
      "source": "In addition to accessing list elements one at a time, Python provides concise syntax to access sublists; this is known as slicing:"
    },
    {
      "metadata": {
        "trusted": true
      },
      "cell_type": "code",
      "source": "nums = range(5)    # range is a built-in function that creates a list of integers\nprint (nums  )       # Prints \"[0, 1, 2, 3, 4]\"\nprint (nums[2:4]  )  # Get a slice from index 2 to 4 (exclusive); prints \"[2, 3]\"\nprint (nums[2:]  )   # Get a slice from index 2 to the end; prints \"[2, 3, 4]\"\nprint (nums[:2] )    # Get a slice from the start to index 2 (exclusive); prints \"[0, 1]\"\nprint (nums[:] )     # Get a slice of the whole list; prints [\"0, 1, 2, 3, 4]\"\nprint (nums[:-1])    # Slice indices can be negative; prints [\"0, 1, 2, 3]\"\nnums[2:4] = [8, 9] # Assign a new sublist to a slice\nprint (nums    )     # Prints \"[0, 1, 8, 8, 4]\"",
      "execution_count": 24,
      "outputs": [
        {
          "output_type": "stream",
          "text": "[0, 1, 2, 3, 4]\n[2, 3]\n[2, 3, 4]\n[0, 1]\n[0, 1, 2, 3, 4]\n[0, 1, 2, 3]\n[0, 1, 8, 9, 4]\n",
          "name": "stdout"
        }
      ]
    },
    {
      "metadata": {},
      "cell_type": "markdown",
      "source": "#### Loops"
    },
    {
      "metadata": {},
      "cell_type": "markdown",
      "source": "You can loop over the elements of a list like this:"
    },
    {
      "metadata": {
        "trusted": true
      },
      "cell_type": "code",
      "source": "animals = ['cat', 'dog', 'monkey']\nfor animal in animals:\n    print (animal)",
      "execution_count": 25,
      "outputs": [
        {
          "output_type": "stream",
          "text": "cat\ndog\nmonkey\n",
          "name": "stdout"
        }
      ]
    },
    {
      "metadata": {},
      "cell_type": "markdown",
      "source": "If you want access to the index of each element within the body of a loop, use the built-in `enumerate` function:"
    },
    {
      "metadata": {
        "trusted": true
      },
      "cell_type": "code",
      "source": "animals = ['cat', 'dog', 'monkey']\nfor idx, animal in enumerate(animals):\n    print ('#%d: %s' % (idx + 1, animal))",
      "execution_count": 26,
      "outputs": [
        {
          "output_type": "stream",
          "text": "#1: cat\n#2: dog\n#3: monkey\n",
          "name": "stdout"
        }
      ]
    },
    {
      "metadata": {},
      "cell_type": "markdown",
      "source": "#### List comprehensions:"
    },
    {
      "metadata": {},
      "cell_type": "markdown",
      "source": "When programming, frequently we want to transform one type of data into another. As a simple example, consider the following code that computes square numbers:"
    },
    {
      "metadata": {
        "trusted": true
      },
      "cell_type": "code",
      "source": "nums = [0, 1, 2, 3, 4]\nsquares = []\nfor x in nums:\n    squares.append(x ** 2)\nprint (squares)",
      "execution_count": 27,
      "outputs": [
        {
          "output_type": "stream",
          "text": "[0, 1, 4, 9, 16]\n",
          "name": "stdout"
        }
      ]
    },
    {
      "metadata": {},
      "cell_type": "markdown",
      "source": "You can make this code simpler using a list comprehension:"
    },
    {
      "metadata": {
        "trusted": true
      },
      "cell_type": "code",
      "source": "nums = [0, 1, 2, 3, 4]\nsquares = [x ** 2 for x in nums]\nprint (squares)",
      "execution_count": 28,
      "outputs": [
        {
          "output_type": "stream",
          "text": "[0, 1, 4, 9, 16]\n",
          "name": "stdout"
        }
      ]
    },
    {
      "metadata": {},
      "cell_type": "markdown",
      "source": "List comprehensions can also contain conditions:"
    },
    {
      "metadata": {
        "trusted": true
      },
      "cell_type": "code",
      "source": "nums = [0, 1, 2, 3, 4]\neven_squares = [x ** 2 for x in nums if x % 2 == 0]\nprint (even_squares)",
      "execution_count": 29,
      "outputs": [
        {
          "output_type": "stream",
          "text": "[0, 4, 16]\n",
          "name": "stdout"
        }
      ]
    },
    {
      "metadata": {},
      "cell_type": "markdown",
      "source": "#### Dictionaries"
    },
    {
      "metadata": {},
      "cell_type": "markdown",
      "source": "A dictionary stores (key, value) pairs, similar to a `Map` in Java or an object in Javascript. You can use it like this:"
    },
    {
      "metadata": {
        "trusted": true
      },
      "cell_type": "code",
      "source": "d = {'cat': 'cute', 'dog': 'furry'}  # Create a new dictionary with some data\nprint (d['cat'])       # Get an entry from a dictionary; prints \"cute\"\nprint ('cat' in d)     # Check if a dictionary has a given key; prints \"True\"",
      "execution_count": 30,
      "outputs": [
        {
          "output_type": "stream",
          "text": "cute\nTrue\n",
          "name": "stdout"
        }
      ]
    },
    {
      "metadata": {
        "trusted": true
      },
      "cell_type": "code",
      "source": "d['fish'] = 'wet'    # Set an entry in a dictionary\nprint (d['fish'])      # Prints \"wet\"",
      "execution_count": 31,
      "outputs": [
        {
          "output_type": "stream",
          "text": "wet\n",
          "name": "stdout"
        }
      ]
    },
    {
      "metadata": {
        "trusted": true
      },
      "cell_type": "code",
      "source": "print (d.get('monkey', 'N/A'))  # Get an element with a default; prints \"N/A\"\nprint (d.get('fish', 'N/A'))    # Get an element with a default; prints \"wet\"",
      "execution_count": 32,
      "outputs": [
        {
          "output_type": "stream",
          "text": "N/A\nwet\n",
          "name": "stdout"
        }
      ]
    },
    {
      "metadata": {
        "trusted": true
      },
      "cell_type": "code",
      "source": "del d['fish']        # Remove an element from a dictionary\nprint (d.get('fish', 'N/A')) # \"fish\" is no longer a key; prints \"N/A\"",
      "execution_count": 33,
      "outputs": [
        {
          "output_type": "stream",
          "text": "N/A\n",
          "name": "stdout"
        }
      ]
    },
    {
      "metadata": {},
      "cell_type": "markdown",
      "source": "You can find all you need to know about dictionaries in the [documentation](https://docs.python.org/2/library/stdtypes.html#dict)."
    },
    {
      "metadata": {},
      "cell_type": "markdown",
      "source": "It is easy to iterate over the keys in a dictionary:"
    },
    {
      "metadata": {
        "trusted": true
      },
      "cell_type": "code",
      "source": "d = {'person': 2, 'cat': 4, 'spider': 8}\nfor animal in d:\n    legs = d[animal]\n    print ('A %s has %d legs' % (animal, legs))",
      "execution_count": 34,
      "outputs": [
        {
          "output_type": "stream",
          "text": "A person has 2 legs\nA spider has 8 legs\nA cat has 4 legs\n",
          "name": "stdout"
        }
      ]
    },
    {
      "metadata": {},
      "cell_type": "markdown",
      "source": "If you want access to keys and their corresponding values, use the iteritems method:"
    },
    {
      "metadata": {
        "trusted": true
      },
      "cell_type": "code",
      "source": "d = {'person': 2, 'cat': 4, 'spider': 8}\nfor animal, legs in d.iteritems():\n    print ('A %s has %d legs' % (animal, legs))",
      "execution_count": 35,
      "outputs": [
        {
          "output_type": "stream",
          "text": "A person has 2 legs\nA spider has 8 legs\nA cat has 4 legs\n",
          "name": "stdout"
        }
      ]
    },
    {
      "metadata": {},
      "cell_type": "markdown",
      "source": "Dictionary comprehensions: These are similar to list comprehensions, but allow you to easily construct dictionaries. For example:"
    },
    {
      "metadata": {
        "trusted": true
      },
      "cell_type": "code",
      "source": "nums = [0, 1, 2, 3, 4]\neven_num_to_square = {x: x ** 2 for x in nums if x % 2 == 0}\nprint (even_num_to_square)",
      "execution_count": 36,
      "outputs": [
        {
          "output_type": "stream",
          "text": "{0: 0, 2: 4, 4: 16}\n",
          "name": "stdout"
        }
      ]
    },
    {
      "metadata": {},
      "cell_type": "markdown",
      "source": "#### Sets"
    },
    {
      "metadata": {},
      "cell_type": "markdown",
      "source": "A set is an unordered collection of distinct elements. As a simple example, consider the following:"
    },
    {
      "metadata": {
        "trusted": true
      },
      "cell_type": "code",
      "source": "animals = {'cat', 'dog'}\nprint ('cat' in animals)   # Check if an element is in a set; prints \"True\"\nprint ('fish' in animals)  # prints \"False\"\n",
      "execution_count": 37,
      "outputs": [
        {
          "output_type": "stream",
          "text": "True\nFalse\n",
          "name": "stdout"
        }
      ]
    },
    {
      "metadata": {
        "trusted": true
      },
      "cell_type": "code",
      "source": "animals.add('fish')      # Add an element to a set\nprint ('fish' in animals)\nprint (len(animals) )      # Number of elements in a set;",
      "execution_count": 38,
      "outputs": [
        {
          "output_type": "stream",
          "text": "True\n3\n",
          "name": "stdout"
        }
      ]
    },
    {
      "metadata": {
        "trusted": true
      },
      "cell_type": "code",
      "source": "animals.add('cat')       # Adding an element that is already in the set does nothing\nprint (len(animals))       \nanimals.remove('cat')    # Remove an element from a set\nprint (len(animals))    ",
      "execution_count": 39,
      "outputs": [
        {
          "output_type": "stream",
          "text": "3\n2\n",
          "name": "stdout"
        }
      ]
    },
    {
      "metadata": {},
      "cell_type": "markdown",
      "source": "_Loops_: Iterating over a set has the same syntax as iterating over a list; however since sets are unordered, you cannot make assumptions about the order in which you visit the elements of the set:"
    },
    {
      "metadata": {
        "trusted": true
      },
      "cell_type": "code",
      "source": "animals = {'cat', 'dog', 'fish'}\nfor idx, animal in enumerate(animals):\n    print ('#%d: %s' % (idx + 1, animal))\n# Prints \"#1: fish\", \"#2: dog\", \"#3: cat\"",
      "execution_count": 40,
      "outputs": [
        {
          "output_type": "stream",
          "text": "#1: fish\n#2: dog\n#3: cat\n",
          "name": "stdout"
        }
      ]
    },
    {
      "metadata": {},
      "cell_type": "markdown",
      "source": "Set comprehensions: Like lists and dictionaries, we can easily construct sets using set comprehensions:"
    },
    {
      "metadata": {
        "trusted": true
      },
      "cell_type": "code",
      "source": "from math import sqrt\nprint ({int(sqrt(x)) for x in range(30)})",
      "execution_count": 41,
      "outputs": [
        {
          "output_type": "stream",
          "text": "set([0, 1, 2, 3, 4, 5])\n",
          "name": "stdout"
        }
      ]
    },
    {
      "metadata": {},
      "cell_type": "markdown",
      "source": "#### Tuples"
    },
    {
      "metadata": {},
      "cell_type": "markdown",
      "source": "A tuple is an (immutable) ordered list of values. A tuple is in many ways similar to a list; one of the most important differences is that tuples can be used as keys in dictionaries and as elements of sets, while lists cannot. Here is a trivial example:"
    },
    {
      "metadata": {
        "trusted": true
      },
      "cell_type": "code",
      "source": "d = {(x, x + 1): x for x in range(10)}  # Create a dictionary with tuple keys\nt = (5, 6)       # Create a tuple\nprint (type(t))\nprint (d[t])       \nprint (d[(1, 2)])",
      "execution_count": 42,
      "outputs": [
        {
          "output_type": "stream",
          "text": "<type 'tuple'>\n5\n1\n",
          "name": "stdout"
        }
      ]
    },
    {
      "metadata": {},
      "cell_type": "markdown",
      "source": "### Functions"
    },
    {
      "metadata": {},
      "cell_type": "markdown",
      "source": "Python functions are defined using the `def` keyword. For example:"
    },
    {
      "metadata": {
        "trusted": true
      },
      "cell_type": "code",
      "source": "def sign(x):\n    if x > 0:\n        return 'positive'\n    elif x < 0:\n        return 'negative'\n    else:\n        return 'zero'\n\nfor x in [-1, 0, 1]:\n    print (sign(x))",
      "execution_count": 43,
      "outputs": [
        {
          "output_type": "stream",
          "text": "negative\nzero\npositive\n",
          "name": "stdout"
        }
      ]
    },
    {
      "metadata": {},
      "cell_type": "markdown",
      "source": "### Classes"
    },
    {
      "metadata": {},
      "cell_type": "markdown",
      "source": "The syntax for defining classes in Python is straightforward:"
    },
    {
      "metadata": {
        "trusted": true
      },
      "cell_type": "code",
      "source": "class Greeter:\n\n    # Constructor\n    def __init__(self, name):\n        self.name = name  # Create an instance variable\n\n    # Instance method\n    def greet(self, loud=False):\n        if loud:\n            print ('HELLO, %s!' % self.name.upper())\n        else:\n            print ('Hello, %s' % self.name)\n\ng = Greeter('Fred')  # Construct an instance of the Greeter class\ng.greet()            # Call an instance method; prints \"Hello, Fred\"\ng.greet(loud=True)   # Call an instance method; prints \"HELLO, FRED!\"",
      "execution_count": 44,
      "outputs": [
        {
          "output_type": "stream",
          "text": "Hello, Fred\nHELLO, FRED!\n",
          "name": "stdout"
        }
      ]
    },
    {
      "metadata": {},
      "cell_type": "markdown",
      "source": "# External libraries"
    },
    {
      "metadata": {},
      "cell_type": "markdown",
      "source": "**NumPy** stands for Numerical Python. The most powerful feature of NumPy is n-dimensional array. This library also contains basic linear algebra functions, Fourier transforms,  advanced random number capabilities and tools for integration with other low level languages like Fortran, C and C++\n\n**SciPy** stands for Scientific Python. SciPy is built on NumPy. It is one of the most useful library for variety of high level science and engineering modules like discrete Fourier transform, Linear Algebra, Optimization and Sparse matrices.\n\n**Matplotlib** for plotting vast variety of graphs, starting from histograms to line plots to heat plots.. You can use Pylab feature in ipython notebook (ipython notebook –pylab = inline) to use these plotting features inline. If you ignore the inline option, then pylab converts ipython environment to an environment, very similar to Matlab. You can also use Latex commands to add math to your plot.\n\n**Pandas** for structured data operations and manipulations. It is extensively used for data munging and preparation. Pandas were added relatively recently to Python and have been instrumental in boosting Python’s usage in data scientist community.\n\n**Scikit Learn** for machine learning. Built on NumPy, SciPy and matplotlib, this library contains a lot of effiecient tools for machine learning and statistical modeling including classification, regression, clustering and dimensionality reduction.\n\n**Statsmodels** for statistical modeling. Statsmodels is a Python module that allows users to explore data, estimate statistical models, and perform statistical tests. An extensive list of descriptive statistics, statistical tests, plotting functions, and result statistics are available for different types of data and each estimator.\nSeaborn for statistical data visualization. Seaborn is a library for making attractive and informative statistical graphics in Python. It is based on matplotlib. Seaborn aims to make visualization a central part of exploring and understanding data.\n\n**Bokeh** for creating interactive plots, dashboards and data applications on modern web-browsers. It empowers the user to generate elegant and concise graphics in the style of D3.js. Moreover, it has the capability of high-performance interactivity over very large or streaming datasets.\n\n**Blaze** for extending the capability of Numpy and Pandas to distributed and streaming datasets. It can be used to access data from a multitude of sources including Bcolz, MongoDB, SQLAlchemy, Apache Spark, PyTables, etc. Together with Bokeh, Blaze can act as a very powerful tool for creating effective visualizations and dashboards on huge chunks of data.\nScrapy for web crawling. It is a very useful framework for getting specific patterns of data. It has the capability to start at a website home url and then dig through web-pages within the website to gather information.\n\n**SymPy** for symbolic computation. It has wide-ranging capabilities from basic symbolic arithmetic to calculus, algebra, discrete mathematics and quantum physics. Another useful feature is the capability of formatting the result of the computations as LaTeX code.\n\n**Requests** for accessing the web. It works similar to the the standard python library urllib2 but is much easier to code. You will find subtle differences with urllib2 but for beginners, Requests might be more convenient."
    },
    {
      "metadata": {
        "trusted": true
      },
      "cell_type": "code",
      "source": "",
      "execution_count": null,
      "outputs": []
    }
  ],
  "metadata": {
    "kernelspec": {
      "name": "python2",
      "display_name": "Python 2",
      "language": "python"
    },
    "language_info": {
      "mimetype": "text/x-python",
      "nbconvert_exporter": "python",
      "name": "python",
      "pygments_lexer": "ipython2",
      "version": "2.7.15",
      "file_extension": ".py",
      "codemirror_mode": {
        "version": 2,
        "name": "ipython"
      }
    }
  },
  "nbformat": 4,
  "nbformat_minor": 1
}