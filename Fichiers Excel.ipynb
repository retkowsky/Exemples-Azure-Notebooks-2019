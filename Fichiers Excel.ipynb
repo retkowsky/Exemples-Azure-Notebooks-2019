{
  "cells": [
    {
      "metadata": {},
      "cell_type": "markdown",
      "source": "# Fichiers Excel"
    },
    {
      "metadata": {},
      "cell_type": "markdown",
      "source": "> Grab data from multiple excel files and merge them into a single dataframe."
    },
    {
      "metadata": {
        "trusted": true
      },
      "cell_type": "code",
      "source": "import pandas as pd\nimport matplotlib\nimport os\nimport sys\n%matplotlib inline",
      "execution_count": 1,
      "outputs": []
    },
    {
      "metadata": {
        "trusted": true
      },
      "cell_type": "code",
      "source": "print('Python version ' + sys.version)\nprint('Pandas version ' + pd.__version__)\nprint('Matplotlib version ' + matplotlib.__version__)",
      "execution_count": 2,
      "outputs": [
        {
          "output_type": "stream",
          "text": "Python version 3.5.4 |Anaconda custom (64-bit)| (default, Oct 13 2017, 11:22:58) \n[GCC 7.2.0]\nPandas version 0.19.2\nMatplotlib version 2.1.1\n",
          "name": "stdout"
        }
      ]
    },
    {
      "metadata": {},
      "cell_type": "markdown",
      "source": "# Create 3 excel files"
    },
    {
      "metadata": {
        "trusted": true
      },
      "cell_type": "code",
      "source": "# Create DataFrame\nd = {'Channel':[1], 'Number':[255]}\ndf = pd.DataFrame(d)\ndf",
      "execution_count": 3,
      "outputs": [
        {
          "output_type": "execute_result",
          "execution_count": 3,
          "data": {
            "text/plain": "   Channel  Number\n0        1     255",
            "text/html": "<div>\n<table border=\"1\" class=\"dataframe\">\n  <thead>\n    <tr style=\"text-align: right;\">\n      <th></th>\n      <th>Channel</th>\n      <th>Number</th>\n    </tr>\n  </thead>\n  <tbody>\n    <tr>\n      <th>0</th>\n      <td>1</td>\n      <td>255</td>\n    </tr>\n  </tbody>\n</table>\n</div>"
          },
          "metadata": {}
        }
      ]
    },
    {
      "metadata": {
        "trusted": true
      },
      "cell_type": "code",
      "source": "# Export to Excel\n\ndf.to_excel('test1.xlsx', sheet_name = 'test1', index = False)\ndf.to_excel('test2.xlsx', sheet_name = 'test2', index = False)\ndf.to_excel('test3.xlsx', sheet_name = 'test3', index = False)\nprint('Done')",
      "execution_count": 4,
      "outputs": [
        {
          "output_type": "stream",
          "text": "Done\n",
          "name": "stdout"
        }
      ]
    },
    {
      "metadata": {},
      "cell_type": "markdown",
      "source": "# Place all three Excel files into a DataFrame"
    },
    {
      "metadata": {},
      "cell_type": "markdown",
      "source": "Get a list of file names but make sure there are no other excel files present in the folder."
    },
    {
      "metadata": {
        "trusted": true
      },
      "cell_type": "code",
      "source": "%pwd",
      "execution_count": 5,
      "outputs": [
        {
          "output_type": "execute_result",
          "execution_count": 5,
          "data": {
            "text/plain": "'/home/nbuser/library'"
          },
          "metadata": {}
        }
      ]
    },
    {
      "metadata": {
        "trusted": true
      },
      "cell_type": "code",
      "source": "%ls test*.*",
      "execution_count": 6,
      "outputs": [
        {
          "output_type": "stream",
          "text": "test1.xlsx  test2.xlsx  test3.xlsx\r\n",
          "name": "stdout"
        }
      ]
    },
    {
      "metadata": {
        "trusted": true
      },
      "cell_type": "code",
      "source": "",
      "execution_count": null,
      "outputs": []
    }
  ],
  "metadata": {
    "kernelspec": {
      "name": "python3",
      "display_name": "Python 3",
      "language": "python"
    },
    "language_info": {
      "mimetype": "text/x-python",
      "nbconvert_exporter": "python",
      "name": "python",
      "pygments_lexer": "ipython3",
      "version": "3.5.4",
      "file_extension": ".py",
      "codemirror_mode": {
        "version": 3,
        "name": "ipython"
      }
    },
    "anaconda-cloud": {}
  },
  "nbformat": 4,
  "nbformat_minor": 1
}