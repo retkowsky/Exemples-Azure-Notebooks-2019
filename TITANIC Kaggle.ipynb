{
  "cells": [
    {
      "metadata": {},
      "cell_type": "markdown",
      "source": "# Données TITANIC\n\n\n### Goal for this Notebook:\nShow a simple example of an analysis of the Titanic disaster in Python using a full complement of PyData utilities. This is aimed for those looking to get into the field or those who are already in the field and looking to see an example of an analysis done with Python.\n\n#### This Notebook will show basic examples of: \n#### Data Handling\n*   Importing Data with Pandas\n*   Cleaning Data\n*   Exploring Data through Visualizations with Matplotlib\n\n#### Data Analysis\n*    Supervised Machine learning Techniques:\n    +   Logit Regression Model \n    +   Plotting results\n    +   Support Vector Machine (SVM) using 3 kernels\n    +   Basic Random Forest\n    +   Plotting results\n\n#### Valuation of the Analysis\n*   K-folds cross validation to valuate results locally\n*   Output the results from the IPython Notebook to Kaggle\n\n"
    },
    {
      "metadata": {},
      "cell_type": "markdown",
      "source": "**Data Dictionary**\n\n**surviva**l \tSurvival \t0 = No, 1 = Yes\n**pclass** \tTicket class \t1 = 1st, 2 = 2nd, 3 = 3rd\n**sex**\t    Sex \t\n**Age** \tAge in years \t\n**sibsp** \t# of siblings / spouses aboard the Titanic \t\n**parch** \t# of parents / children aboard the Titanic \t\n**ticket** \tTicket number \t\n**fare** \tPassenger fare \t\n**cabin** \tCabin number \t\n**embarked** \tPort of Embarkation \tC = Cherbourg, Q = Queenstown, S = Southampton\n\n**pclass: A proxy for socio-economic status (SES)**\n1st = Upper\n2nd = Middle\n3rd = Lower\n\n**age: Age is fractional if less than 1. If the age is estimated, is it in the form of xx.5**\n\n**sibsp: The dataset defines family relations in this way...**\nSibling = brother, sister, stepbrother, stepsister\nSpouse = husband, wife (mistresses and fiancés were ignored)\n\n**parch: The dataset defines family relations in this way...**\nParent = mother, father\nChild = daughter, son, stepdaughter, stepson\nSome children travelled only with a nanny, therefore parch=0 for them."
    },
    {
      "metadata": {
        "trusted": true
      },
      "cell_type": "code",
      "source": "import pandas as pd\nimport numpy as np\nimport matplotlib.pyplot as plt\nimport pandas.io.sql as pd_sql\n\n%matplotlib inline",
      "execution_count": 1,
      "outputs": []
    },
    {
      "metadata": {},
      "cell_type": "markdown",
      "source": "## Chargement fichier"
    },
    {
      "metadata": {
        "trusted": true
      },
      "cell_type": "code",
      "source": "url=\"http://s3.amazonaws.com/assets.datacamp.com/course/Kaggle/train.csv\"\ntrain=pd.read_csv(url, index_col=None, na_values=['NA'])",
      "execution_count": 2,
      "outputs": []
    },
    {
      "metadata": {
        "trusted": true
      },
      "cell_type": "code",
      "source": "# Suppression valeurs manquantes\ntrain = train.dropna()",
      "execution_count": 3,
      "outputs": []
    },
    {
      "metadata": {
        "trusted": true
      },
      "cell_type": "code",
      "source": "train.head()",
      "execution_count": 4,
      "outputs": [
        {
          "output_type": "execute_result",
          "execution_count": 4,
          "data": {
            "text/plain": "    PassengerId  Survived  Pclass  \\\n1             2         1       1   \n3             4         1       1   \n6             7         0       1   \n10           11         1       3   \n11           12         1       1   \n\n                                                 Name     Sex   Age  SibSp  \\\n1   Cumings, Mrs. John Bradley (Florence Briggs Th...  female  38.0      1   \n3        Futrelle, Mrs. Jacques Heath (Lily May Peel)  female  35.0      1   \n6                             McCarthy, Mr. Timothy J    male  54.0      0   \n10                    Sandstrom, Miss. Marguerite Rut  female   4.0      1   \n11                           Bonnell, Miss. Elizabeth  female  58.0      0   \n\n    Parch    Ticket     Fare Cabin Embarked  \n1       0  PC 17599  71.2833   C85        C  \n3       0    113803  53.1000  C123        S  \n6       0     17463  51.8625   E46        S  \n10      1   PP 9549  16.7000    G6        S  \n11      0    113783  26.5500  C103        S  ",
            "text/html": "<div>\n<style scoped>\n    .dataframe tbody tr th:only-of-type {\n        vertical-align: middle;\n    }\n\n    .dataframe tbody tr th {\n        vertical-align: top;\n    }\n\n    .dataframe thead th {\n        text-align: right;\n    }\n</style>\n<table border=\"1\" class=\"dataframe\">\n  <thead>\n    <tr style=\"text-align: right;\">\n      <th></th>\n      <th>PassengerId</th>\n      <th>Survived</th>\n      <th>Pclass</th>\n      <th>Name</th>\n      <th>Sex</th>\n      <th>Age</th>\n      <th>SibSp</th>\n      <th>Parch</th>\n      <th>Ticket</th>\n      <th>Fare</th>\n      <th>Cabin</th>\n      <th>Embarked</th>\n    </tr>\n  </thead>\n  <tbody>\n    <tr>\n      <th>1</th>\n      <td>2</td>\n      <td>1</td>\n      <td>1</td>\n      <td>Cumings, Mrs. John Bradley (Florence Briggs Th...</td>\n      <td>female</td>\n      <td>38.0</td>\n      <td>1</td>\n      <td>0</td>\n      <td>PC 17599</td>\n      <td>71.2833</td>\n      <td>C85</td>\n      <td>C</td>\n    </tr>\n    <tr>\n      <th>3</th>\n      <td>4</td>\n      <td>1</td>\n      <td>1</td>\n      <td>Futrelle, Mrs. Jacques Heath (Lily May Peel)</td>\n      <td>female</td>\n      <td>35.0</td>\n      <td>1</td>\n      <td>0</td>\n      <td>113803</td>\n      <td>53.1000</td>\n      <td>C123</td>\n      <td>S</td>\n    </tr>\n    <tr>\n      <th>6</th>\n      <td>7</td>\n      <td>0</td>\n      <td>1</td>\n      <td>McCarthy, Mr. Timothy J</td>\n      <td>male</td>\n      <td>54.0</td>\n      <td>0</td>\n      <td>0</td>\n      <td>17463</td>\n      <td>51.8625</td>\n      <td>E46</td>\n      <td>S</td>\n    </tr>\n    <tr>\n      <th>10</th>\n      <td>11</td>\n      <td>1</td>\n      <td>3</td>\n      <td>Sandstrom, Miss. Marguerite Rut</td>\n      <td>female</td>\n      <td>4.0</td>\n      <td>1</td>\n      <td>1</td>\n      <td>PP 9549</td>\n      <td>16.7000</td>\n      <td>G6</td>\n      <td>S</td>\n    </tr>\n    <tr>\n      <th>11</th>\n      <td>12</td>\n      <td>1</td>\n      <td>1</td>\n      <td>Bonnell, Miss. Elizabeth</td>\n      <td>female</td>\n      <td>58.0</td>\n      <td>0</td>\n      <td>0</td>\n      <td>113783</td>\n      <td>26.5500</td>\n      <td>C103</td>\n      <td>S</td>\n    </tr>\n  </tbody>\n</table>\n</div>"
          },
          "metadata": {}
        }
      ]
    },
    {
      "metadata": {
        "trusted": true
      },
      "cell_type": "code",
      "source": "plt.figure(figsize=(6,4))\nfig, ax = plt.subplots()\ntrain.Survived.value_counts().plot(kind='barh', color=\"blue\", alpha=.65)\nax.set_ylim(-1, len(train.Survived.value_counts())) \nplt.title(\"Survival Breakdown (1 = Survived, 0 = Died)\")",
      "execution_count": 5,
      "outputs": [
        {
          "output_type": "execute_result",
          "execution_count": 5,
          "data": {
            "text/plain": "Text(0.5,1,'Survival Breakdown (1 = Survived, 0 = Died)')"
          },
          "metadata": {}
        },
        {
          "output_type": "display_data",
          "data": {
            "text/plain": "<Figure size 432x288 with 0 Axes>"
          },
          "metadata": {}
        },
        {
          "output_type": "display_data",
          "data": {
            "image/png": "[encoded data removed]",
            "text/plain": "<Figure size 432x288 with 1 Axes>"
          },
          "metadata": {
            "needs_background": "light"
          }
        }
      ]
    },
    {
      "metadata": {
        "trusted": true
      },
      "cell_type": "code",
      "source": "fig = plt.figure(figsize=(18,6))\n\n#create a plot of two subsets, male and female, of the survived variable.\n#After we do that we call value_counts() so it can be easily plotted as a bar graph. \n#'barh' is just a horizontal bar graph\ntrain_male = train.Survived[train.Sex == 'male'].value_counts().sort_index()\ntrain_female = train.Survived[train.Sex == 'female'].value_counts().sort_index()\n\nax1 = fig.add_subplot(121)\ntrain_male.plot(kind='barh',label='Male', alpha=0.55)\ntrain_female.plot(kind='barh', color='#FA2379',label='Female', alpha=0.55)\nplt.title(\"Who Survived? with respect to Gender, (raw value counts) \"); plt.legend(loc='best')\nax1.set_ylim(-1, 2) \n\n#adjust graph to display the proportions of survival by gender\nax2 = fig.add_subplot(122)\n(train_male/float(train_male.sum())).plot(kind='barh',label='Male', alpha=0.55)  \n(train_female/float(train_female.sum())).plot(kind='barh', color='#FA2379',label='Female', alpha=0.55)\nplt.title(\"Who Survived proportionally? with respect to Gender\"); plt.legend(loc='best')\n\nax2.set_ylim(-1, 2)",
      "execution_count": 6,
      "outputs": [
        {
          "output_type": "execute_result",
          "execution_count": 6,
          "data": {
            "text/plain": "(-1, 2)"
          },
          "metadata": {}
        },
        {
          "output_type": "display_data",
          "data": {
            "image/png": "[encoded data removed]",
            "text/plain": "<Figure size 1296x432 with 2 Axes>"
          },
          "metadata": {
            "needs_background": "light"
          }
        }
      ]
    },
    {
      "metadata": {
        "trusted": true
      },
      "cell_type": "code",
      "source": "# Set some variables\nnumber_passengers = train.shape[0] \nnumber_survived = len(train[train.Survived == 1])\n\n# What proportion of the passengers survived?\nproportion_survived = float(number_survived) / number_passengers\n",
      "execution_count": 7,
      "outputs": []
    },
    {
      "metadata": {
        "trusted": true
      },
      "cell_type": "code",
      "source": "# How can we determine what proportion of the women and of the men who survived?\n# Let's start by segregating the men and women\nwomen = train[train.Sex == \"female\"]\nmen = train[train.Sex != \"female\"]\n\n# Determine the proportion of women who survived\nproportion_women_survived = float(len(women[women.Survived == 1])) / len(women)\nprint 'The proportion of women who survived is %s.' % proportion_women_survived\n\n# Determine the proportion of men who survived\nproportion_men_survived = float(len(men[men.Survived == 1])) / len(men)\nprint 'The proportion of men who survived is %s.' % proportion_men_survived",
      "execution_count": 8,
      "outputs": [
        {
          "output_type": "stream",
          "text": "The proportion of women who survived is 0.931818181818.\nThe proportion of men who survived is 0.431578947368.\n",
          "name": "stdout"
        }
      ]
    },
    {
      "metadata": {
        "trusted": true
      },
      "cell_type": "code",
      "source": "# 'Sex' is stored as a text value. We should convert (or 'map') it into numeric binaries \n# so it will be ready for scikit-learn.\ntrain['Sex'] = train['Sex'].map({'male': 0,'female': 1})",
      "execution_count": 9,
      "outputs": []
    },
    {
      "metadata": {
        "trusted": true
      },
      "cell_type": "code",
      "source": "# Scikit-learn won't be tolerant of the missing values. In the last class, we dropped\n# the 'Ticket' column. Let's also drop the 'Cabin' and 'Embarked' columns\ntrain = train.drop(['Cabin'], axis=1)\ntrain = train.drop(['Embarked'], axis=1)",
      "execution_count": 10,
      "outputs": []
    },
    {
      "metadata": {
        "trusted": true
      },
      "cell_type": "code",
      "source": "# Let's also drop the 'Name' column for now (though I can think of some interesting \n# data that might be embedded in those salutations...)\ntrain = train.drop(['Name'], axis=1)",
      "execution_count": 11,
      "outputs": []
    },
    {
      "metadata": {
        "trusted": true
      },
      "cell_type": "code",
      "source": "from sklearn.linear_model import LogisticRegression",
      "execution_count": 12,
      "outputs": []
    },
    {
      "metadata": {
        "trusted": true
      },
      "cell_type": "code",
      "source": "# Load the test data\nurl=\"http://s3.amazonaws.com/assets.datacamp.com/course/Kaggle/train.csv\"\ntest=pd.read_csv(url, index_col=None, na_values=['NA'])\n\ntest[\"Age\"] = test[\"Age\"].fillna(train[\"Age\"].median())\n\ntest.loc[test[\"Sex\"] == \"male\", \"Sex\"] = 0\ntest.loc[test[\"Sex\"] == \"female\", \"Sex\"] = 1\n\ntest = test.drop(['Cabin'], axis=1)\ntest = test.drop(['Embarked'], axis=1)\ntest = test.drop(['Name'], axis=1)\ntest = test.drop(['Ticket'], axis=1)",
      "execution_count": 13,
      "outputs": []
    },
    {
      "metadata": {
        "trusted": true
      },
      "cell_type": "code",
      "source": "# Initialize our algorithm\nlr = LogisticRegression(random_state=1)",
      "execution_count": 14,
      "outputs": []
    },
    {
      "metadata": {
        "trusted": true
      },
      "cell_type": "code",
      "source": "# Define our predictors\npredictors = [\"Pclass\", \"Sex\", \"Age\", \"SibSp\"]\nexpected  = train[\"Survived\"]\n\n# Train the algorithm using all the training data\nlr.fit(train[predictors], expected)\n\n# Make predictions using the training set -- where we already know the correct answers\npredicted = lr.predict(train[predictors])",
      "execution_count": 15,
      "outputs": []
    },
    {
      "metadata": {
        "trusted": true
      },
      "cell_type": "code",
      "source": "# Make predictions based on the test data\npredictions = lr.predict(test[predictors])\n\n# Frame your submission for Kaggle\ntest_predictions = pd.DataFrame({\n        \"PassengerId\": test[\"PassengerId\"],\n        \"Survived\": predictions\n    })\ntest_predictions.head(10)",
      "execution_count": 16,
      "outputs": [
        {
          "output_type": "execute_result",
          "execution_count": 16,
          "data": {
            "text/plain": "   PassengerId  Survived\n0            1         0\n1            2         1\n2            3         1\n3            4         1\n4            5         0\n5            6         0\n6            7         0\n7            8         1\n8            9         1\n9           10         1",
            "text/html": "<div>\n<style scoped>\n    .dataframe tbody tr th:only-of-type {\n        vertical-align: middle;\n    }\n\n    .dataframe tbody tr th {\n        vertical-align: top;\n    }\n\n    .dataframe thead th {\n        text-align: right;\n    }\n</style>\n<table border=\"1\" class=\"dataframe\">\n  <thead>\n    <tr style=\"text-align: right;\">\n      <th></th>\n      <th>PassengerId</th>\n      <th>Survived</th>\n    </tr>\n  </thead>\n  <tbody>\n    <tr>\n      <th>0</th>\n      <td>1</td>\n      <td>0</td>\n    </tr>\n    <tr>\n      <th>1</th>\n      <td>2</td>\n      <td>1</td>\n    </tr>\n    <tr>\n      <th>2</th>\n      <td>3</td>\n      <td>1</td>\n    </tr>\n    <tr>\n      <th>3</th>\n      <td>4</td>\n      <td>1</td>\n    </tr>\n    <tr>\n      <th>4</th>\n      <td>5</td>\n      <td>0</td>\n    </tr>\n    <tr>\n      <th>5</th>\n      <td>6</td>\n      <td>0</td>\n    </tr>\n    <tr>\n      <th>6</th>\n      <td>7</td>\n      <td>0</td>\n    </tr>\n    <tr>\n      <th>7</th>\n      <td>8</td>\n      <td>1</td>\n    </tr>\n    <tr>\n      <th>8</th>\n      <td>9</td>\n      <td>1</td>\n    </tr>\n    <tr>\n      <th>9</th>\n      <td>10</td>\n      <td>1</td>\n    </tr>\n  </tbody>\n</table>\n</div>"
          },
          "metadata": {}
        }
      ]
    },
    {
      "metadata": {
        "trusted": true
      },
      "cell_type": "code",
      "source": "from sklearn import cross_validation\nfrom sklearn.cross_validation import train_test_split",
      "execution_count": 17,
      "outputs": [
        {
          "output_type": "stream",
          "text": "/home/nbuser/anaconda2_501/lib/python2.7/site-packages/sklearn/cross_validation.py:41: DeprecationWarning: This module was deprecated in version 0.18 in favor of the model_selection module into which all the refactored classes and functions are moved. Also note that the interface of the new CV iterators are different from that of this module. This module will be removed in 0.20.\n  \"This module will be removed in 0.20.\", DeprecationWarning)\n",
          "name": "stderr"
        }
      ]
    },
    {
      "metadata": {
        "trusted": true
      },
      "cell_type": "code",
      "source": "X = train[[\"Pclass\", \"Sex\", \"Age\", \"SibSp\"]]\ny = train[\"Survived\"]\nX_train, X_test, y_train, y_test = cross_validation.train_test_split(X,y,test_size = 0.2)\nlog_reg = lr.fit(X_train, y_train)",
      "execution_count": 18,
      "outputs": []
    },
    {
      "metadata": {
        "trusted": true
      },
      "cell_type": "code",
      "source": "# Every estimator has a score method that can judge the quality of the \n# fit (or the prediction) on new data. Bigger is better.   \nlog_reg.score(X_test, y_test)",
      "execution_count": 19,
      "outputs": [
        {
          "output_type": "execute_result",
          "execution_count": 19,
          "data": {
            "text/plain": "0.7567567567567568"
          },
          "metadata": {}
        }
      ]
    },
    {
      "metadata": {
        "trusted": true
      },
      "cell_type": "code",
      "source": "from sklearn.metrics import classification_report",
      "execution_count": 20,
      "outputs": []
    },
    {
      "metadata": {
        "trusted": true
      },
      "cell_type": "code",
      "source": "expected   = y_test\npredicted  = log_reg.predict(X_test)\nclassificationReport = classification_report(expected, predicted, target_names=[\"Perished\",\"Survived\"])\nprint classificationReport",
      "execution_count": 21,
      "outputs": [
        {
          "output_type": "stream",
          "text": "             precision    recall  f1-score   support\n\n   Perished       0.57      0.73      0.64        11\n   Survived       0.87      0.77      0.82        26\n\navg / total       0.78      0.76      0.76        37\n\n",
          "name": "stdout"
        }
      ]
    },
    {
      "metadata": {
        "trusted": true
      },
      "cell_type": "code",
      "source": "# Make predictions based on the test data\npredictions = log_reg.predict(test[predictors])\n\n# Frame your 2nd submission to Kaggle\nkgl_submission_lr = pd.DataFrame({\n        \"PassengerId\": test[\"PassengerId\"],\n        \"Survived\": predictions\n    })\nkgl_submission_lr.to_csv('lr_model.csv', index=False)",
      "execution_count": 22,
      "outputs": []
    },
    {
      "metadata": {
        "trusted": true
      },
      "cell_type": "code",
      "source": "from sklearn.ensemble import RandomForestClassifier",
      "execution_count": 23,
      "outputs": [
        {
          "output_type": "stream",
          "text": "/home/nbuser/anaconda2_501/lib/python2.7/site-packages/sklearn/ensemble/weight_boosting.py:29: DeprecationWarning: numpy.core.umath_tests is an internal NumPy module and should not be imported. It will be removed in a future NumPy release.\n  from numpy.core.umath_tests import inner1d\n",
          "name": "stderr"
        }
      ]
    },
    {
      "metadata": {
        "trusted": true
      },
      "cell_type": "code",
      "source": "# We'll select 50 trees and opt for 'out-of-bag' samples to estimate the generalization error.\nrf = RandomForestClassifier(n_estimators=50, oob_score=True)",
      "execution_count": 24,
      "outputs": []
    },
    {
      "metadata": {
        "trusted": true
      },
      "cell_type": "code",
      "source": "# Next split up the data with the 'train test split' method in the Cross Validation module\nX_train, X_test, y_train, y_test = train_test_split(X,y, test_size=0.2)\n\n# ...and then run the 'fit' method to build a forest of trees\nrf.fit(X_train, y_train)",
      "execution_count": 25,
      "outputs": [
        {
          "output_type": "execute_result",
          "execution_count": 25,
          "data": {
            "text/plain": "RandomForestClassifier(bootstrap=True, class_weight=None, criterion='gini',\n            max_depth=None, max_features='auto', max_leaf_nodes=None,\n            min_impurity_decrease=0.0, min_impurity_split=None,\n            min_samples_leaf=1, min_samples_split=2,\n            min_weight_fraction_leaf=0.0, n_estimators=50, n_jobs=1,\n            oob_score=True, random_state=None, verbose=0, warm_start=False)"
          },
          "metadata": {}
        }
      ]
    },
    {
      "metadata": {
        "trusted": true
      },
      "cell_type": "code",
      "source": "rf.score(X_test, y_test)",
      "execution_count": 26,
      "outputs": [
        {
          "output_type": "execute_result",
          "execution_count": 26,
          "data": {
            "text/plain": "0.8108108108108109"
          },
          "metadata": {}
        }
      ]
    },
    {
      "metadata": {
        "trusted": true
      },
      "cell_type": "code",
      "source": "expected   = y_test\npredicted  = rf.predict(X_test)\nclassificationReport = classification_report(expected, predicted, target_names=[\"Perished\",\"Survived\"])\nprint classificationReport",
      "execution_count": 27,
      "outputs": [
        {
          "output_type": "stream",
          "text": "             precision    recall  f1-score   support\n\n   Perished       1.00      0.56      0.72        16\n   Survived       0.75      1.00      0.86        21\n\navg / total       0.86      0.81      0.80        37\n\n",
          "name": "stdout"
        }
      ]
    },
    {
      "metadata": {
        "trusted": true
      },
      "cell_type": "code",
      "source": "def plot_classification_report(cr, title='Classification report', cmap=plt.cm.Reds):\n\n    lines = cr.split('\\n')\n    classes = []\n    plotMat = []\n\n    for line in lines[2 : (len(lines) - 3)]:\n        t = line.split()\n        classes.append(t[0])\n        v = [float(x) for x in t[1: len(t) - 1]]\n        plotMat.append(v)\n\n    fig, ax = plt.subplots(1)\n    fig = plt.imshow(plotMat, interpolation='nearest', cmap=cmap)\n    \n    for c in range(len(plotMat)+1):\n        for r in range(len(classes)):\n            try:\n                txt = plotMat[r][c]\n                ax.text(c,r,plotMat[r][c],va='center',ha='center')\n            except IndexError:\n                pass\n            \n    plt.title(title)\n    plt.colorbar()\n    x_tick_marks = np.arange(3)\n    y_tick_marks = np.arange(len(classes))\n    plt.xticks(x_tick_marks, ['precision', 'recall', 'f1-score'], rotation=45)\n    plt.yticks(y_tick_marks, classes)\n    plt.tight_layout()\n    plt.ylabel('Classes')\n    plt.xlabel('Measures')",
      "execution_count": 28,
      "outputs": []
    },
    {
      "metadata": {
        "trusted": true
      },
      "cell_type": "code",
      "source": "plot_classification_report(classificationReport)",
      "execution_count": 29,
      "outputs": [
        {
          "output_type": "display_data",
          "data": {
            "image/png": "[encoded data removed]",
            "text/plain": "<Figure size 432x288 with 2 Axes>"
          },
          "metadata": {
            "needs_background": "light"
          }
        }
      ]
    },
    {
      "metadata": {
        "trusted": true
      },
      "cell_type": "code",
      "source": "# Make predictions based on the test data\npredictions = rf.predict(test[predictors])\n\n# Frame your 3rd submission to Kaggle\nkgl_submission_rf = pd.DataFrame({\n        \"PassengerId\": test[\"PassengerId\"],\n        \"Survived\": predictions\n    })\nkgl_submission_rf.to_csv('rf_model.csv', index=False)",
      "execution_count": 30,
      "outputs": []
    },
    {
      "metadata": {
        "trusted": true
      },
      "cell_type": "code",
      "source": "from sklearn.svm import SVC\n\n\nkernels = ['linear', 'poly', 'rbf']\n\nsplits     = cross_validation.train_test_split(X,y, test_size=0.2)\nX_train, X_test, y_train, y_test = splits\n\nfor kernel in kernels:\n    if kernel != 'poly':\n        model      = SVC(kernel=kernel)\n    else:\n        model      = SVC(kernel=kernel, degree=3)\n\nmodel.fit(X_train, y_train)\nexpected   = y_test\npredicted  = model.predict(X_test)\n\nSVC_report = classification_report(expected, predicted)\n\n\nplot_classification_report(SVC_report)\n\n\nfrom sklearn.metrics import precision_recall_curve\nprecision, recall, thresholds = precision_recall_curve(y_test, predicted)  \ndecision_threshold = np.append(thresholds, 1)\n\nplt.plot(decision_threshold, precision, color='red')  \nplt.plot(decision_threshold, recall, color='blue')  \nleg = plt.legend(('precision', 'recall'), frameon=True)  \nleg.get_frame().set_edgecolor('k')  \nplt.xlabel('decision_threshold')  \nplt.ylabel('%')  \nplt.show\n\n\n# Make predictions based on the test data\npredictions = model.predict(test[predictors])\n\n# Frame your 4th submission to Kaggle\nkgl_submission_svm = pd.DataFrame({\n        \"PassengerId\": test[\"PassengerId\"],\n        \"Survived\": predictions\n    })\nkgl_submission_svm.to_csv('svm_model.csv', index=False)\n\n",
      "execution_count": 31,
      "outputs": [
        {
          "output_type": "display_data",
          "data": {
            "image/png": "[encoded data removed]",
            "text/plain": "<Figure size 432x288 with 2 Axes>"
          },
          "metadata": {
            "needs_background": "light"
          }
        }
      ]
    },
    {
      "metadata": {
        "trusted": true
      },
      "cell_type": "code",
      "source": "",
      "execution_count": null,
      "outputs": []
    },
    {
      "metadata": {
        "trusted": true
      },
      "cell_type": "code",
      "source": "",
      "execution_count": null,
      "outputs": []
    },
    {
      "metadata": {
        "trusted": true
      },
      "cell_type": "code",
      "source": "",
      "execution_count": null,
      "outputs": []
    }
  ],
  "metadata": {
    "kernelspec": {
      "name": "python2",
      "display_name": "Python 2",
      "language": "python"
    },
    "language_info": {
      "mimetype": "text/x-python",
      "nbconvert_exporter": "python",
      "name": "python",
      "pygments_lexer": "ipython2",
      "version": "2.7.15",
      "file_extension": ".py",
      "codemirror_mode": {
        "version": 2,
        "name": "ipython"
      }
    }
  },
  "nbformat": 4,
  "nbformat_minor": 1
}