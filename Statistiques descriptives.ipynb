{
  "cells": [
    {
      "metadata": {},
      "cell_type": "markdown",
      "source": "# Statistiques descriptives"
    },
    {
      "metadata": {
        "trusted": true
      },
      "cell_type": "code",
      "source": "import numpy as np\nimport scipy.stats as stat\nimport pandas as pd",
      "execution_count": 1,
      "outputs": []
    },
    {
      "metadata": {
        "trusted": true
      },
      "cell_type": "code",
      "source": "d = np.array([0.553,0.57,0.576,0.601,0.606,0.606,0.609,0.611,0.615,0.628,0.654,0.662,0.668,0.67,0.672,0.69,0.693,0.749])",
      "execution_count": 2,
      "outputs": []
    },
    {
      "metadata": {
        "trusted": true
      },
      "cell_type": "code",
      "source": "stat_des = stat.describe(d)\nprint(stat_des)",
      "execution_count": 3,
      "outputs": [
        {
          "output_type": "stream",
          "text": "DescribeResult(nobs=18, minmax=(0.553, 0.749), mean=0.6351666666666667, variance=0.0025368529411764714, skewness=0.38763289979752136, kurtosis=-0.3587369048751916)\n",
          "name": "stdout"
        }
      ]
    },
    {
      "metadata": {
        "trusted": true
      },
      "cell_type": "code",
      "source": "print(stat_des[0])",
      "execution_count": 4,
      "outputs": [
        {
          "output_type": "stream",
          "text": "18\n",
          "name": "stdout"
        }
      ]
    },
    {
      "metadata": {
        "trusted": true
      },
      "cell_type": "code",
      "source": "#médiane de NumPy\nprint(np.median(d)) # 0.6215\n\n#fonction de répartition empirique\nprint(stat.percentileofscore(d,0.6215))",
      "execution_count": 5,
      "outputs": [
        {
          "output_type": "stream",
          "text": "0.6214999999999999\n50.0\n",
          "name": "stdout"
        }
      ]
    },
    {
      "metadata": {
        "trusted": true
      },
      "cell_type": "code",
      "source": "#loi normale centrée et réduite\nprint(stat.norm.ppf(0.95,loc=0,scale=1)) # quantile d’ordre 0.95 de la loi normale CR = 1.64485\nprint\nprint(stat.norm.cdf(1.96,loc=0,scale=1)) # 0.975",
      "execution_count": 6,
      "outputs": [
        {
          "output_type": "stream",
          "text": "1.6448536269514722\n0.9750021048517795\n",
          "name": "stdout"
        }
      ]
    },
    {
      "metadata": {
        "trusted": true
      },
      "cell_type": "code",
      "source": "#loi de Student - ddl = 30\nprint(stat.t.ppf(0.95,df=30)) # 1.6972\nprint\nprint(stat.t.cdf(1.96,df=30)) # 0.9703",
      "execution_count": 7,
      "outputs": [
        {
          "output_type": "stream",
          "text": "1.6972608943617378\n0.9703288435519748\n",
          "name": "stdout"
        }
      ]
    },
    {
      "metadata": {
        "trusted": true
      },
      "cell_type": "code",
      "source": "#loi du khi-2 - ddl = 10\nprint(stat.chi.ppf(0.95,df=10)) # 4.2787\nprint\nprint(stat.chi.cdf(4.84,df=10)) # 0.9907",
      "execution_count": 8,
      "outputs": [
        {
          "output_type": "stream",
          "text": "4.278672463892877\n0.9907199233490717\n",
          "name": "stdout"
        }
      ]
    },
    {
      "metadata": {
        "trusted": true
      },
      "cell_type": "code",
      "source": "#loi de Fisher, ddl numérateur = 1, ddl dénominateur = 30\nprint(stat.f.ppf(0.95,dfn=1,dfd=30)) # 4.1709\nprint\nprint(stat.f.cdf(3.48,dfn=1,dfd=30)) # 0.9281",
      "execution_count": 9,
      "outputs": [
        {
          "output_type": "stream",
          "text": "4.170876785766691\n0.9280786614651921\n",
          "name": "stdout"
        }
      ]
    },
    {
      "metadata": {
        "trusted": true
      },
      "cell_type": "code",
      "source": "#test de normalité d'Agostino\nag = stat.normaltest(d) # message d’avertissement, n est trop faible pour un test fiable\nprint(ag) # (0.714, 0.699), statistique de test et p-value (si p-value < α, rejet de l’hyp. de normalité)\n\n#test de Normalité Shapiro-Wilks\nsp = stat.shapiro(d)\nprint(sp) # (0.961, 0.628), statistique et p-value\nprint\n\n#test d'adéquation d'Anderson-Darling\nad = stat.anderson(d,dist=\"norm\") # test possible pour autre loi que « norm »\nprint(ad) # (0.3403, array([ 0.503, 0.573, 0.687, 0.802, 0.954]), array([ 15. , 10. , 5. , 2.5, 1. ]))  stat de test, seuils critiques pour chaque niveau de risque, on constate ici que la p-value est sup. à 15%",
      "execution_count": 10,
      "outputs": [
        {
          "output_type": "stream",
          "text": "NormaltestResult(statistic=0.7143907939185827, pvalue=0.699635777674135)\n(0.9613386988639832, 0.6276763677597046)\nAndersonResult(statistic=0.34029632368620355, critical_values=array([0.503, 0.573, 0.687, 0.802, 0.954]), significance_level=array([15. , 10. ,  5. ,  2.5,  1. ]))\n",
          "name": "stdout"
        },
        {
          "output_type": "stream",
          "text": "/home/nbuser/anaconda3_420/lib/python3.5/site-packages/scipy/stats/stats.py:1394: UserWarning: kurtosistest only valid for n>=20 ... continuing anyway, n=18\n  \"anyway, n=%i\" % int(n))\n",
          "name": "stderr"
        }
      ]
    },
    {
      "metadata": {
        "trusted": true
      },
      "cell_type": "code",
      "source": "#génération de valeurs aléatoires - loi normale (0, 1)\nalea1 = stat.norm.rvs(loc=0,scale=1,size=30)\nprint(stat.normaltest(alea1)) # (2.16, 0.338), compatible avec la loi normale (heureusement !)\nprint\n\n#génération - loi exponentielle\nalea2 = stat.expon.rvs(size=30)\nprint(stat.normaltest(alea2)) # (17.62, 0.00015), non compatible (bien sûr)\nprint\n\n#Numpy aussi propose un générateur\nalea3 = np.random.normal(loc=0,scale=1,size=30)\nprint(stat.normaltest(alea3)) # (2.41, 0.299), compatible\nprint\n\n#échantillonnage de m obs. parmi n\nd1 = np.random.choice(d,size=5,replace=False) #sans remise\nprint(d1) # (0.69 0.628 0.606 0.662 0.668)\nprint\n\nd2 = np.random.choice(d,size=5,replace=True) #avec remise\nprint(d2) # (0.654 0.67 0.628 0.654 0.609)",
      "execution_count": 11,
      "outputs": [
        {
          "output_type": "stream",
          "text": "NormaltestResult(statistic=0.287557486580451, pvalue=0.8660793527295024)\nNormaltestResult(statistic=4.3739354768060394, pvalue=0.112256624512113)\nNormaltestResult(statistic=0.1765290850356297, pvalue=0.9155186510761848)\n[0.662 0.606 0.628 0.672 0.611]\n[0.67  0.576 0.693 0.672 0.553]\n",
          "name": "stdout"
        }
      ]
    },
    {
      "metadata": {
        "trusted": true
      },
      "cell_type": "code",
      "source": "#test de conformité de la moyenne\nprint(stat.ttest_1samp(d,popmean=0.618))\nprint\n\n# (1.446, 0.166), stat. de test et p-value, p-value < α, rejet de H0\n#*** si l'on s’amuse à détailler les calculs ***\n#moyenne\nm = np.mean(d) # 0.6352\n\n#écart-type – ddof = 1 pour effectuer le calcul : 1/(n-1)\nsigma = np.std(d,ddof=1) # 0.0504\n\n#stat. de test t\nimport math\nt = (m - 0.618)/(sigma/math.sqrt(d.size))\nprint(t) # 1.446, on retrouve bien la bonne valeur de la stat de test\nprint\n#p-value – c’est un test bilatéral\n#t distribution de Student, cdf() : cumulative distribution function\n\np = 2.0 * (1.0 - stat.t.cdf(math.fabs(t),d.size-1))\nprint(p) # 0.166, et la bonne p-value",
      "execution_count": 12,
      "outputs": [
        {
          "output_type": "stream",
          "text": "Ttest_1sampResult(statistic=1.4460209354443436, pvalue=0.16635614378468758)\n1.4460209354443436\n0.16635614378468744\n",
          "name": "stdout"
        }
      ]
    },
    {
      "metadata": {
        "trusted": true
      },
      "cell_type": "code",
      "source": "import numpy as np\nimport scipy.stats as stat\n\n#treated – valeurs pour échantillon des individus ayant suivi le traitement\ndt = np.array([24,43,58,71,43,49,61,44,67,49,53,56,59,52,62,54,57,33,46,43,57])\n\n#control – échantillon de contrôle\ndc = np.array([42,43,55,26,62,37,33,41,19,54,20,85,46,10,17,60,53,42,37,42,55,28,48])\n\n#t-test – comparaison de param. de localisation – hyp. de variances égales\nprint(stat.ttest_ind(dt,dc)) # (t = 2.2665, p-value = 0.0286)\nprint\n\n#t-test de Welch – comparaison de moyennes – hyp. de variances inégales\nprint(stat.ttest_ind(dt,dc,equal_var=False)) # (2.3109, 0.0264)\nprint\n\n#test de Mann-Whitney - non paramétrique - avec correction de continuité\nprint(stat.mannwhitneyu(dt,dc)) # (stat. U = 135, p-value unilatérale = 0.00634)\nprint\n\n#test de Bartlett – comparaison de paramètres d’échelle (variance)\nprint(stat.bartlett(dt,dc)) # (stat. = 3.8455, p-value = 0.0498)\nprint\n\n#test de Ansari Bradley\nprint(stat.ansari(dt,dc)) # (stat. = 266, p-value = 0.2477)\nprint\n\n#test de Levene\nprint(stat.levene(dt,dc)) # (stat. = 2.342, p-value = 0.1334)\nprint\n\n#test de Kolomogorov-Smirnov – écart entre les fonctions de répartition empiriques\nprint(stat.ks_2samp(dt,dc)) # (stat. = 0.4699, p-value = 0.0099)",
      "execution_count": 13,
      "outputs": [
        {
          "output_type": "stream",
          "text": "Ttest_indResult(statistic=2.266551599585943, pvalue=0.028629482832245753)\nTtest_indResult(statistic=2.310889197854228, pvalue=0.02638241282442478)\nMannwhitneyuResult(statistic=135.0, pvalue=0.006338907890604657)\nBartlettResult(statistic=3.8455356421051388, pvalue=0.04987858739511786)\nAnsariResult(statistic=266.0, pvalue=0.24768048701691592)\nLeveneResult(statistic=2.3418185975754007, pvalue=0.133440294168933)\nKs_2sampResult(statistic=0.46997929606625255, pvalue=0.009902040336386678)\n",
          "name": "stdout"
        },
        {
          "output_type": "stream",
          "text": "/home/nbuser/anaconda3_420/lib/python3.5/site-packages/scipy/stats/morestats.py:1745: UserWarning: Ties preclude use of exact statistic.\n  warnings.warn(\"Ties preclude use of exact statistic.\")\n",
          "name": "stderr"
        }
      ]
    },
    {
      "metadata": {
        "collapsed": true
      },
      "cell_type": "markdown",
      "source": "### Comparaison de populations"
    },
    {
      "metadata": {
        "trusted": true
      },
      "cell_type": "code",
      "source": "#paired samples test\nd1968 = np.array([0.42,0.5,0.52,0.45,0.43,0.55,0.45,0.34,0.45,0.54,0.42,0.51,0.49,0.54,0.5,0.58,0.49,0.56,0.63])\nd1972 = np.array([0.45,0.5,0.52,0.45,0.46,0.55,0.60,0.49,0.35,0.55,0.52,0.53,0.57,0.53,0.59,0.64,0.5,0.57,0.64])\n\n#t-test related samples - paramétrique\nprint(stat.ttest_rel(d1968,d1972))# (stat.test = -2.45, p-value = 0.024)\nprint\n\n#test des rangs signés – non paramétrique\nprint(stat.wilcoxon(d1968,d1972)) # (stat = 16, p-value = 0.0122)",
      "execution_count": 14,
      "outputs": [
        {
          "output_type": "stream",
          "text": "Ttest_relResult(statistic=-2.457703815601802, pvalue=0.024352597586836344)\nWilcoxonResult(statistic=16.0, pvalue=0.0122241123197889)\n",
          "name": "stdout"
        }
      ]
    },
    {
      "metadata": {
        "collapsed": true
      },
      "cell_type": "markdown",
      "source": "### Associations"
    },
    {
      "metadata": {
        "trusted": true
      },
      "cell_type": "code",
      "source": "#données pour corrélation et régression (Irlande du Nord non incluse)\ndalc = np.array([6.47,6.13,6.19,4.89,5.63,4.52,5.89,4.79,5.27,6.08])\ndtob = np.array([4.03,3.76,3.77,3.34,3.47,2.92,3.2,2.71,3.53,4.51])\n\n#corrélation de Pearson\nprint(stat.pearsonr(dalc,dtob)) # (r = 0.7843, p-value pour test t = 0.0072)\nprint\n\n#corrélation de Spearman - basé sur les rangs\nprint(stat.spearmanr(dalc,dtob)) # (rho = 0.8303, p-value = 0.0029)\nprint\n\n#tau de Kendall - concordance et discordance\nprint(stat.kendalltau(dalc,dtob)) # (tau = 0.6444, p-value = 0.0095)\nprint\n\n#régression linéaire simple\nprint(stat.linregress(dalc,dtob)) # (pente = 0.6115, const = 0.1081, r = 0.7843, p-value test signif. pente = 0.0072, sigma err = 0.1710)",
      "execution_count": 15,
      "outputs": [
        {
          "output_type": "stream",
          "text": "(0.7842873201538677, 0.007234358351729502)\nSpearmanrResult(correlation=0.8303030303030302, pvalue=0.0029402270232795065)\nKendalltauResult(correlation=0.6444444444444444, pvalue=0.00949109605344092)\nLinregressResult(slope=0.6115012914647241, intercept=0.10815378587805125, rvalue=0.7842873201538676, pvalue=0.007234358351729509, stderr=0.17102020517368527)\n",
          "name": "stdout"
        }
      ]
    },
    {
      "metadata": {
        "collapsed": true
      },
      "cell_type": "markdown",
      "source": "### Comparaison de K populations"
    },
    {
      "metadata": {
        "trusted": true
      },
      "cell_type": "code",
      "source": "#Sodium – données pour tests K échantillons indép.\ndbeef = np.array([495,477,425,322,482,587,370,322,479,375,330,300,386,401,645,440,317,319,298,253])\ndmeat = np.array([458,506,473,545,496,360,387,386,507,393,405,372,144,511,405,428,339])\ndpoultry = np.array([430,375,396,383,387,542,359,357,528,513,426,513,358,581,588,522,545])\n\n#test égalité des dispersions (K variances)\nprint(stat.levene(dbeef,dmeat,dpoultry)) # (stat. = 0.2494, p-value = 0.7802)\nprint\n\n#ANOVA à 1 facteur - comparaison des moyennes - paramétrique\nprint(stat.f_oneway(dbeef,dmeat,dpoultry)) # (stat. F = 1.7778, p-value = 0.1793)\nprint\n\n#Test de Kruskal-Wallis – non-paramétrique\nprint(stat.kruskal(dbeef,dmeat,dpoultry)) # (stat. K = 4.1728, p-value = 0.0947)",
      "execution_count": 16,
      "outputs": [
        {
          "output_type": "stream",
          "text": "LeveneResult(statistic=0.24943197044211946, pvalue=0.7801883296333626)\nF_onewayResult(statistic=1.7777910697271164, pvalue=0.17932466808492342)\nKruskalResult(statistic=4.7128082695637135, pvalue=0.09476035676351431)\n",
          "name": "stdout"
        }
      ]
    },
    {
      "metadata": {
        "trusted": true
      },
      "cell_type": "code",
      "source": "",
      "execution_count": null,
      "outputs": []
    }
  ],
  "metadata": {
    "kernelspec": {
      "name": "python3",
      "display_name": "Python 3",
      "language": "python"
    },
    "language_info": {
      "mimetype": "text/x-python",
      "nbconvert_exporter": "python",
      "name": "python",
      "pygments_lexer": "ipython3",
      "version": "3.5.4",
      "file_extension": ".py",
      "codemirror_mode": {
        "version": 3,
        "name": "ipython"
      }
    }
  },
  "nbformat": 4,
  "nbformat_minor": 1
}