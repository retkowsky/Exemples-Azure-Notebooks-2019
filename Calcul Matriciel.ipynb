{
  "cells": [
    {
      "metadata": {},
      "cell_type": "markdown",
      "source": "# Matrices for data scientists"
    },
    {
      "metadata": {},
      "cell_type": "markdown",
      "source": "#### Guillermo Moncecchi"
    },
    {
      "metadata": {},
      "cell_type": "markdown",
      "source": "If you wanto to do machine learning, you need to work with matrices with the same fluency you have with numbers.This notebooks aims to review the main properties of matrices, show the intuition behind them, and inspect how to manipulate them using  `numpy` and `scipy` (see [the difference](http://www.scipy.org/scipylib/faq.html#what-is-the-difference-between-numpy-and-scipy)). It is not a numpy/scipy tutorial, but a brief introduction to matrices, showing also how to manipulate them using Python 3.\n"
    },
    {
      "metadata": {
        "trusted": true
      },
      "cell_type": "code",
      "source": "%matplotlib inline\nimport numpy as np, scipy as sp, matplotlib.pyplot as plt",
      "execution_count": 1,
      "outputs": []
    },
    {
      "metadata": {},
      "cell_type": "markdown",
      "source": "### 1. Very basic operations"
    },
    {
      "metadata": {},
      "cell_type": "markdown",
      "source": "First, let's create some numpy arrays, the common structure for dealing with n-dimensional matrices. I will mostly work with two-dimensional matrices since are easier to interpret, but most results admints n-dimensional  matrices."
    },
    {
      "metadata": {},
      "cell_type": "markdown",
      "source": "First, let's create a 2D-numpy array, and show that its elements are integers."
    },
    {
      "metadata": {
        "trusted": true
      },
      "cell_type": "code",
      "source": "# Specify each row of the matrix as a Python list\nA=np.array([[0,0,1],[1,1,0],[1,1,1]])\nprint (A)\nprint (A.dtype)\n\nprint (np.sum(A))\nprint (np.sum(A,axis=0))\nprint (np.sum(A,axis=1))",
      "execution_count": 2,
      "outputs": [
        {
          "output_type": "stream",
          "text": "[[0 0 1]\n [1 1 0]\n [1 1 1]]\nint64\n6\n[2 2 2]\n[1 2 3]\n",
          "name": "stdout"
        }
      ]
    },
    {
      "metadata": {},
      "cell_type": "markdown",
      "source": "Create an matrix of 3 rows by 4 columns, filled with zeros and another filled with ones."
    },
    {
      "metadata": {
        "trusted": true
      },
      "cell_type": "code",
      "source": "print (np.zeros((3,4)))\n",
      "execution_count": 3,
      "outputs": [
        {
          "output_type": "stream",
          "text": "[[0. 0. 0. 0.]\n [0. 0. 0. 0.]\n [0. 0. 0. 0.]]\n",
          "name": "stdout"
        }
      ]
    },
    {
      "metadata": {
        "trusted": true
      },
      "cell_type": "code",
      "source": "print (np.ones((3,4)))",
      "execution_count": 4,
      "outputs": [
        {
          "output_type": "stream",
          "text": "[[1. 1. 1. 1.]\n [1. 1. 1. 1.]\n [1. 1. 1. 1.]]\n",
          "name": "stdout"
        }
      ]
    },
    {
      "metadata": {},
      "cell_type": "markdown",
      "source": "1D-arrays in Python are always row vectors, i.e. **vectors are just $1\\times n$ matrices**:"
    },
    {
      "metadata": {
        "trusted": true
      },
      "cell_type": "code",
      "source": "print (np.ones(10))\nprint (\"Size:\"+ str(np.ones(10).size))",
      "execution_count": 5,
      "outputs": [
        {
          "output_type": "stream",
          "text": "[1. 1. 1. 1. 1. 1. 1. 1. 1. 1.]\nSize:10\n",
          "name": "stdout"
        }
      ]
    },
    {
      "metadata": {},
      "cell_type": "markdown",
      "source": "**First operation: matrix sum** (both matrices should have the same dimensionns)"
    },
    {
      "metadata": {
        "trusted": true
      },
      "cell_type": "code",
      "source": "A=np.array([0,1,1,0,0,1,1,1,1]).reshape((3,3))\nB=np.array([1,1,1,1,0,1,0,1,1]).reshape((3,3))\nprint (str(A + B))\n",
      "execution_count": 6,
      "outputs": [
        {
          "output_type": "stream",
          "text": "[[1 2 2]\n [1 0 2]\n [1 2 2]]\n",
          "name": "stdout"
        }
      ]
    },
    {
      "metadata": {},
      "cell_type": "markdown",
      "source": "If the two matrices have different dimensions, numpy __upcasts__ matrices (adding elements to make both matrices compatibles). In the following example the only row in b is repeated to make b a 2x2 matrix"
    },
    {
      "metadata": {
        "trusted": true
      },
      "cell_type": "code",
      "source": "A=np.array([0,1,2,1]).reshape((2,2))\nB=np.array([0,1])\n\nprint (A)\nprint (B)\nprint (A + B)",
      "execution_count": 7,
      "outputs": [
        {
          "output_type": "stream",
          "text": "[[0 1]\n [2 1]]\n[0 1]\n[[0 2]\n [2 2]]\n",
          "name": "stdout"
        }
      ]
    },
    {
      "metadata": {},
      "cell_type": "markdown",
      "source": "**Second operation: multiply a scalar by a matrix**. "
    },
    {
      "metadata": {
        "trusted": true
      },
      "cell_type": "code",
      "source": "a=8.1\nB=np.ones((2,3))\nprint (a*B)",
      "execution_count": 8,
      "outputs": [
        {
          "output_type": "stream",
          "text": "[[8.1 8.1 8.1]\n [8.1 8.1 8.1]]\n",
          "name": "stdout"
        }
      ]
    },
    {
      "metadata": {},
      "cell_type": "markdown",
      "source": "**Third operation: Matrix product**. Given $A(n,p)$ and $B(p,m)$, $A.B=C$, where $C=((c_{ij}))$ and $c_{ij}=\\Sigma_{h=1}^p a_{ih}b_{hj}$"
    },
    {
      "metadata": {
        "trusted": true
      },
      "cell_type": "code",
      "source": "A=np.array([1,2,1,0,1,1,0,1,1,0,0,0]).reshape(4,3)\nprint (A)\nB=np.array([[2,1],[1,1],[0,0]])\nprint (B)",
      "execution_count": 9,
      "outputs": [
        {
          "output_type": "stream",
          "text": "[[1 2 1]\n [0 1 1]\n [0 1 1]\n [0 0 0]]\n[[2 1]\n [1 1]\n [0 0]]\n",
          "name": "stdout"
        }
      ]
    },
    {
      "metadata": {
        "trusted": true
      },
      "cell_type": "code",
      "source": "print (A.dot(B) )",
      "execution_count": 10,
      "outputs": [
        {
          "output_type": "stream",
          "text": "[[4 3]\n [1 1]\n [1 1]\n [0 0]]\n",
          "name": "stdout"
        }
      ]
    },
    {
      "metadata": {},
      "cell_type": "markdown",
      "source": "or..."
    },
    {
      "metadata": {
        "trusted": true
      },
      "cell_type": "code",
      "source": "print (np.dot(A,B))",
      "execution_count": 11,
      "outputs": [
        {
          "output_type": "stream",
          "text": "[[4 3]\n [1 1]\n [1 1]\n [0 0]]\n",
          "name": "stdout"
        }
      ]
    },
    {
      "metadata": {},
      "cell_type": "markdown",
      "source": "I find easier to see matrix product as a matrix where each row in the product is the dot product of the corresponding row in A ($A_i$) and B. numpy allows to slice columns and rows:"
    },
    {
      "metadata": {
        "trusted": true
      },
      "cell_type": "code",
      "source": "print (\"Shape of A:\"+ str(A.shape))\nfor i in range(A.shape[0]):\n    print (np.dot(A[i],B))",
      "execution_count": 12,
      "outputs": [
        {
          "output_type": "stream",
          "text": "Shape of A:(4, 3)\n[4 3]\n[1 1]\n[1 1]\n[0 0]\n",
          "name": "stdout"
        }
      ]
    },
    {
      "metadata": {},
      "cell_type": "markdown",
      "source": "Alternatively, we can see the product matrix as a matrix where each column is the dot product of A and the corresponding column in B ($B^j$)"
    },
    {
      "metadata": {
        "trusted": true
      },
      "cell_type": "code",
      "source": "for j in range(B.shape[1]):\n    print (np.dot(A,B[:,j]))",
      "execution_count": 13,
      "outputs": [
        {
          "output_type": "stream",
          "text": "[4 1 1 0]\n[3 1 1 0]\n",
          "name": "stdout"
        }
      ]
    },
    {
      "metadata": {},
      "cell_type": "markdown",
      "source": "Note that resulting arrays are row arrays, not (as you could have expected) column arrays. The reason is simple: **1-D arrays in numpy are all the same (no matter if they row or column)**. If you want a column vector, you must use v.reshape(rows,1)"
    },
    {
      "metadata": {},
      "cell_type": "markdown",
      "source": "**Matrix transposition**: change columns into rows, and viceversa"
    },
    {
      "metadata": {
        "trusted": true
      },
      "cell_type": "code",
      "source": "print (A)\nprint (np.transpose(A))",
      "execution_count": 14,
      "outputs": [
        {
          "output_type": "stream",
          "text": "[[1 2 1]\n [0 1 1]\n [0 1 1]\n [0 0 0]]\n[[1 0 0 0]\n [2 1 1 0]\n [1 1 1 0]]\n",
          "name": "stdout"
        }
      ]
    },
    {
      "metadata": {},
      "cell_type": "markdown",
      "source": "An interesting property (prove it!): \n"
    },
    {
      "metadata": {},
      "cell_type": "markdown",
      "source": "$(A\\cdot B)^t = B^t \\cdot A^t$ **[1]**\n"
    },
    {
      "metadata": {
        "trusted": true
      },
      "cell_type": "code",
      "source": "print (np.transpose(A.dot(B)))\nprint (np.transpose(B).dot(np.transpose(A)))",
      "execution_count": 15,
      "outputs": [
        {
          "output_type": "stream",
          "text": "[[4 1 1 0]\n [3 1 1 0]]\n[[4 1 1 0]\n [3 1 1 0]]\n",
          "name": "stdout"
        }
      ]
    },
    {
      "metadata": {},
      "cell_type": "markdown",
      "source": "### 2. Matrices as linear transformations"
    },
    {
      "metadata": {},
      "cell_type": "markdown",
      "source": "From [Wikipedia](http://en.wikipedia.org/wiki/Matrix_%28mathematics%29): \n\n*A major application of matrices is to represent linear transformations, that is, generalizations of linear functions such as f(x) = 4x. For example, the rotation of vectors in three dimensional space is a linear transformation which can be represented by a rotation matrix R. If v is a column vector (a matrix with only one column) describing the position of a point in space, the product Rv is a column vector describing the position of that point after a rotation. **The product of two matrices is a matrix that represents the composition of two linear transformations.** *\n\nThe following picture shows how the unit square is transformed under a linear transformation represented by a 2-by-2 matrix. I found that this use of matrices can let us imagine better the abstract properties we will describe. \n\n"
    },
    {
      "metadata": {
        "trusted": true
      },
      "cell_type": "code",
      "source": "from IPython.display import Image\nImage(url='http://upload.wikimedia.org/wikipedia/commons/a/ad/Area_parallellogram_as_determinant.svg',width=350)\n",
      "execution_count": 16,
      "outputs": [
        {
          "output_type": "execute_result",
          "execution_count": 16,
          "data": {
            "text/html": "<img src=\"http://upload.wikimedia.org/wikipedia/commons/a/ad/Area_parallellogram_as_determinant.svg\" width=\"350\"/>",
            "text/plain": "<IPython.core.display.Image object>"
          },
          "metadata": {}
        }
      ]
    },
    {
      "metadata": {},
      "cell_type": "markdown",
      "source": "The vectors represented by a 2-by-2 matrix correspond to the sides of a unit square transformed into a parallelogram.\nLet's show this in Python. Suppose we have the matrix [[1,1],[2,1]]. This matrix represents a rotation, where each of point in $R^2$ (x,y) is mapped to (x+2y,x+y). Let's verify this:"
    },
    {
      "metadata": {
        "trusted": true
      },
      "cell_type": "code",
      "source": "Ex=np.array([[1,1],[2,1]])\nprint (np.dot([1,1],Ex)) # [1+2,1+1]",
      "execution_count": 17,
      "outputs": [
        {
          "output_type": "stream",
          "text": "[3 2]\n",
          "name": "stdout"
        }
      ]
    },
    {
      "metadata": {},
      "cell_type": "markdown",
      "source": "Let's see how the unit square is transformed under our Example matrix. First let us write a function that shows the transformation of the unit square under any matrix transformation"
    },
    {
      "metadata": {
        "trusted": true
      },
      "cell_type": "code",
      "source": "def transform_unit_square(A):\n    nxp=20\n    nxq=20\n    p = np.linspace(-1.0,1.0,nxp)\n    q = np.linspace(-1.0,1.0,nxq)\n    m=np.meshgrid(p,q)        # Create grid for plotting\n    xx=m[0]\n    yy=m[1]\n\n    # Apply transform to every point in grid.\n    for i in range(nxp):\n          for j in range(nxq):\n            x = np.array([xx[i][j], yy[i][j]])\n            y = np.dot(A,x)         \n            plt.plot(x[0], x[1], '.b', y[0], y[1], '.r')\n\n    plt.suptitle('Using the transform y=Ax on a grid of points')\n    plt.axis('equal')\n    plt.show()\n    \n",
      "execution_count": 18,
      "outputs": []
    },
    {
      "metadata": {
        "trusted": true
      },
      "cell_type": "code",
      "source": "transform_unit_square(Ex)",
      "execution_count": 19,
      "outputs": [
        {
          "output_type": "display_data",
          "data": {
            "image/png": "[encoded data removed]",
            "text/plain": "<matplotlib.figure.Figure at 0x7f97c033ea20>"
          },
          "metadata": {}
        }
      ]
    },
    {
      "metadata": {},
      "cell_type": "markdown",
      "source": "It will be useful for us to see how a matrix transforms the unit circle (note that the origin always remain unchanged)"
    },
    {
      "metadata": {
        "trusted": true
      },
      "cell_type": "code",
      "source": "def transform_unit_circle(A):\n    nrp=100\n    t = np.linspace(0,np.pi*2,nrp)\n\n\n\n    p = np.linspace(-1.0,1.0,nrp)\n    for i in range(100):\n        x=[np.cos(t),np.sin(t)]\n        y=np.dot(A,x)\n        plt.plot(x[0], x[1], '.b', y[0], y[1], '.r')\n    \n    plt.suptitle('Using the transform y=Ax on the unit circle')\n    plt.axis('equal')\n    plt.show()\n\ntransform_unit_circle(Ex)\n",
      "execution_count": 20,
      "outputs": [
        {
          "output_type": "display_data",
          "data": {
            "image/png": "[encoded data removed]",
            "text/plain": "<matplotlib.figure.Figure at 0x7f97bf478c50>"
          },
          "metadata": {}
        }
      ]
    },
    {
      "metadata": {},
      "cell_type": "markdown",
      "source": "What happens with the matrix [[1,1],[1,1]]?"
    },
    {
      "metadata": {
        "trusted": true
      },
      "cell_type": "code",
      "source": "transform_unit_square([[1,1],[1,1]])\ntransform_unit_circle([[1,1],[1,1]])",
      "execution_count": 21,
      "outputs": [
        {
          "output_type": "display_data",
          "data": {
            "image/png": "[encoded data removed]",
            "text/plain": "<matplotlib.figure.Figure at 0x7f97bf18d400>"
          },
          "metadata": {}
        },
        {
          "output_type": "display_data",
          "data": {
            "image/png": "[encoded data removed]",
            "text/plain": "<matplotlib.figure.Figure at 0x7f97bf18d358>"
          },
          "metadata": {}
        }
      ]
    },
    {
      "metadata": {},
      "cell_type": "markdown",
      "source": "### 3. Inverse Matrix"
    },
    {
      "metadata": {
        "trusted": true
      },
      "cell_type": "code",
      "source": "import scipy.linalg",
      "execution_count": 22,
      "outputs": []
    },
    {
      "metadata": {},
      "cell_type": "markdown",
      "source": "An $(n,n)$ matrix A is _invertible_ if there is a matrix B such that $A \\cdot B = I$, where $I$ is the identity matrix. B is the _inverse matrix_ of $A$. \n\n**For linear transformations (you guessed it), inverse matrices represent the linear transformation that gives back the original plane.**"
    },
    {
      "metadata": {
        "trusted": true
      },
      "cell_type": "code",
      "source": "A=np.array([1,1,1,0,1,1,1,2,1]).reshape((3,3))\nB=sp.linalg.inv(A)\nprint (B)",
      "execution_count": 23,
      "outputs": [
        {
          "output_type": "stream",
          "text": "[[ 1. -1.  0.]\n [-1.  0.  1.]\n [ 1.  1. -1.]]\n",
          "name": "stdout"
        }
      ]
    },
    {
      "metadata": {
        "trusted": true
      },
      "cell_type": "code",
      "source": "print (np.dot(A,B))",
      "execution_count": 24,
      "outputs": [
        {
          "output_type": "stream",
          "text": "[[1. 0. 0.]\n [0. 1. 0.]\n [0. 0. 1.]]\n",
          "name": "stdout"
        }
      ]
    },
    {
      "metadata": {
        "trusted": true
      },
      "cell_type": "code",
      "source": "print (np.dot(B,A))",
      "execution_count": 25,
      "outputs": [
        {
          "output_type": "stream",
          "text": "[[1. 0. 0.]\n [0. 1. 0.]\n [0. 0. 1.]]\n",
          "name": "stdout"
        }
      ]
    },
    {
      "metadata": {},
      "cell_type": "markdown",
      "source": "Find the inverse of some matrix, plot the way each of them modifies the unit circle:"
    },
    {
      "metadata": {
        "trusted": true
      },
      "cell_type": "code",
      "source": "A=np.array([2,-2,-1,3]).reshape((2,2))\nInv=sp.linalg.inv(A)\nprint(Inv)",
      "execution_count": 26,
      "outputs": [
        {
          "output_type": "stream",
          "text": "[[0.75 0.5 ]\n [0.25 0.5 ]]\n",
          "name": "stdout"
        }
      ]
    },
    {
      "metadata": {
        "trusted": true
      },
      "cell_type": "code",
      "source": "transform_unit_circle(A)\n\ntransform_unit_circle(Inv)\n\n",
      "execution_count": 27,
      "outputs": [
        {
          "output_type": "display_data",
          "data": {
            "image/png": "[encoded data removed]",
            "text/plain": "<matplotlib.figure.Figure at 0x7f97bf911518>"
          },
          "metadata": {}
        },
        {
          "output_type": "display_data",
          "data": {
            "image/png": "[encoded data removed]",
            "text/plain": "<matplotlib.figure.Figure at 0x7f97bf49aa58>"
          },
          "metadata": {}
        }
      ]
    },
    {
      "metadata": {},
      "cell_type": "markdown",
      "source": "### 4. Norms"
    },
    {
      "metadata": {},
      "cell_type": "markdown",
      "source": "The _norm_ of a vector $\\lVert x \\rVert$ is a measure of its \"length\". The _Euclidean_ or $l_2$ norm is:\n\n$ \\lVert x \\rVert _2 = \\sqrt{\\sum_{i=1}^n{x_i^2}}$\n\n... which is equivalent to $\\sqrt{x^Tx}$.\n\nOther examples of norms: \n\n$ \\lVert x \\rVert _1 = \\sum_{i=1}^n{|x_i|}$\n\n$ \\lVert x \\rVert _\\infty = \\max_{i}|x_i|$\n\nLet us calculate them using scipy.linalg.norm function:"
    },
    {
      "metadata": {
        "trusted": true
      },
      "cell_type": "code",
      "source": "v=np.array([1,2,3,5,5])\n\nprint(sp.linalg.norm(v,2))\nprint(sp.linalg.norm(v,1))\nprint(sp.linalg.norm(v,np.inf))\n\n\n",
      "execution_count": 28,
      "outputs": [
        {
          "output_type": "stream",
          "text": "8.0\n16.0\n5.0\n",
          "name": "stdout"
        }
      ]
    },
    {
      "metadata": {},
      "cell_type": "markdown",
      "source": "\n### 5. Some Basic Matrix Identities"
    },
    {
      "metadata": {
        "trusted": true
      },
      "cell_type": "code",
      "source": "A=np.array([1,1,1,0,1,1,1,2,1]).reshape((3,3))\nB=np.array([1,0,1,0,1,1,0,1,2]).reshape((3,3))\nprint (A)\nprint (B)\n",
      "execution_count": 29,
      "outputs": [
        {
          "output_type": "stream",
          "text": "[[1 1 1]\n [0 1 1]\n [1 2 1]]\n[[1 0 1]\n [0 1 1]\n [0 1 2]]\n",
          "name": "stdout"
        }
      ]
    },
    {
      "metadata": {},
      "cell_type": "markdown",
      "source": "*Property 1:*  "
    },
    {
      "metadata": {},
      "cell_type": "markdown",
      "source": "$A\\cdot A^{-1} = A^{-1}\\cdot A = I$ **[2]**."
    },
    {
      "metadata": {},
      "cell_type": "markdown",
      "source": "That is, _if we multiply a matrix by its inverse, we get the identity matrix (no matter the product order)_"
    },
    {
      "metadata": {
        "trusted": true
      },
      "cell_type": "code",
      "source": "print (np.dot(A,sp.linalg.inv(A)))",
      "execution_count": 30,
      "outputs": [
        {
          "output_type": "stream",
          "text": "[[1. 0. 0.]\n [0. 1. 0.]\n [0. 0. 1.]]\n",
          "name": "stdout"
        }
      ]
    },
    {
      "metadata": {
        "trusted": true
      },
      "cell_type": "code",
      "source": "print (np.dot(sp.linalg.inv(A),A))",
      "execution_count": 31,
      "outputs": [
        {
          "output_type": "stream",
          "text": "[[1. 0. 0.]\n [0. 1. 0.]\n [0. 0. 1.]]\n",
          "name": "stdout"
        }
      ]
    },
    {
      "metadata": {},
      "cell_type": "markdown",
      "source": "_Property 2_: $(AB)^{-1} = B^{-1}A^{-1}$ **[3]**. Proof: just left multiply with $AB$ both sides and get $I$"
    },
    {
      "metadata": {
        "trusted": true
      },
      "cell_type": "code",
      "source": "print (sp.linalg.inv(np.dot(A,B)))\nprint (sp.dot(sp.linalg.inv(B),sp.linalg.inv(A)))",
      "execution_count": 32,
      "outputs": [
        {
          "output_type": "stream",
          "text": "[[-1. -2.  2.]\n [-3. -1.  3.]\n [ 2.  1. -2.]]\n[[-1. -2.  2.]\n [-3. -1.  3.]\n [ 2.  1. -2.]]\n",
          "name": "stdout"
        }
      ]
    },
    {
      "metadata": {},
      "cell_type": "markdown",
      "source": "_Property 3_: $(A^T)^{-1}= (A^{-1})^T$ **[4]**. _The inverse of the trasposed is the trasposed inverted_ \n\nProof: using Property 1 and transposing, we get $(AA^{-1})^{T}=I$. Applying [1], we get $(A^{-1})^T A^T=I$. Multiplying both sides to the right by  $(A^T)^{-1}$, we get the result we were searching for. Let's verify it using our examples:"
    },
    {
      "metadata": {
        "trusted": true
      },
      "cell_type": "code",
      "source": "print (sp.linalg.inv(np.transpose(A)))\nprint (np.transpose(np.linalg.inv(A)))",
      "execution_count": 33,
      "outputs": [
        {
          "output_type": "stream",
          "text": "[[ 1. -1.  1.]\n [-1.  0.  1.]\n [ 0.  1. -1.]]\n[[ 1. -1.  1.]\n [-1.  0.  1.]\n [ 0.  1. -1.]]\n",
          "name": "stdout"
        }
      ]
    },
    {
      "metadata": {},
      "cell_type": "markdown",
      "source": "### Rank and linear independece\n\nA set of vectors is _linearly independent_ if none of the vectors can be expressed as a lineal combination of the reminder (or, equivalently, if $\\sum_{n} \\alpha_{n}a_n = 0$ only if all $\\alpha_{n}$). The _rank_ of a matrix is the maximum number of linearly independent rows (or, equivalently, columns). The rank measures how much \"information\" the matrix stores. If the number of columns is greater than the rank, we can somehow \"compress\" the matrix. "
    },
    {
      "metadata": {},
      "cell_type": "markdown",
      "source": "### 6. Traces and determinants."
    },
    {
      "metadata": {},
      "cell_type": "markdown",
      "source": "The _trace_ of a matrix is defined as the sum of the elements of its diagonal. "
    },
    {
      "metadata": {
        "trusted": true
      },
      "cell_type": "code",
      "source": "print (A)\nprint (np.trace(A))",
      "execution_count": 34,
      "outputs": [
        {
          "output_type": "stream",
          "text": "[[1 1 1]\n [0 1 1]\n [1 2 1]]\n3\n",
          "name": "stdout"
        }
      ]
    },
    {
      "metadata": {},
      "cell_type": "markdown",
      "source": "We have $Tr(AB)=Tr(BA)$ **[5]**"
    },
    {
      "metadata": {
        "trusted": true
      },
      "cell_type": "code",
      "source": "print (np.trace(np.dot(A,B)),\"=\",np.trace(np.dot(B,A)))",
      "execution_count": 35,
      "outputs": [
        {
          "output_type": "stream",
          "text": "8 = 8\n",
          "name": "stdout"
        }
      ]
    },
    {
      "metadata": {},
      "cell_type": "markdown",
      "source": "The determinant $|A|$ of a $N\\times N$ matrix is defined by:\n\n$|A| = \\sum (\\pm 1)A_{1i_1}A_{2i_2}\\ldots A_{Ni_N}$, where \"the sum is taken over all products consisting of precisely one element from each row and one element from each column, with a coefficient $+1$ or $-1$ according to whether the permutation $i_1i_2\\ldots i_N$ is even or odd, respectively\".  From Wikipedia: _\"A geometric interpretation can be given to the value of the determinant of a square matrix with real entries: **the absolute value of the determinant gives the scale factor by which area or volume (or a higher-dimensional analogue) is multiplied under the associated linear transformation, while its sign indicates whether the transformation preserves orientation**. Thus a 2 × 2 matrix with determinant −2, when applied to a region of the plane with finite area, will transform that region into one with twice the area, while reversing its orientation\"_\n\n"
    },
    {
      "metadata": {},
      "cell_type": "markdown",
      "source": "Property: $|AB| = |A||B|$ **[6]** (**The determinant of a product of matrices is the product of their determinants**)"
    },
    {
      "metadata": {
        "trusted": true
      },
      "cell_type": "code",
      "source": "print (np.linalg.det(np.dot(A,B)))\nprint (np.linalg.det(A), np.linalg.det(B))",
      "execution_count": 36,
      "outputs": [
        {
          "output_type": "stream",
          "text": "-1.0\n-1.0 1.0\n",
          "name": "stdout"
        }
      ]
    },
    {
      "metadata": {},
      "cell_type": "markdown",
      "source": "Determinant of the inverse matrix: $|A^{-1}| = \\frac{1}{|A|}$  **[7]**(**The determinant of the inverse of a matrix is the real inverse of its determinant**). Note that this implies that a matrix is invertible if it has a non-zero determinant!"
    },
    {
      "metadata": {
        "trusted": true
      },
      "cell_type": "code",
      "source": "C=np.array([2,-2,-1,3]).reshape((2,2))\nprint (np.linalg.det(np.linalg.inv(C)))\nprint (np.linalg.det(C))",
      "execution_count": 37,
      "outputs": [
        {
          "output_type": "stream",
          "text": "0.25000000000000006\n4.0\n",
          "name": "stdout"
        }
      ]
    },
    {
      "metadata": {},
      "cell_type": "markdown",
      "source": "### 7. Eigenvector Equation"
    },
    {
      "metadata": {},
      "cell_type": "markdown",
      "source": "If A is of size $M \\times M$, then the eigenvector equation is $Au_i = \\lambda _i u_i$ ($u_i$ is an _eigenvector_ and $\\lambda_i$ is its corresponding _eigenvalue_). If you have a vector $v$, and a matrix $A$, the dot product $Av$ produces another vector $v'$. If $v$ and $v'$ are parallel, then $v$ is an eigenvector of $A$, and the scale factor between $v$ and $v'$ is its eigenvalue. In the following picture (taken from the beautiful Wikipedia page for Eigenvalues and Eigenvectors), the transformation produced by the matrix [[2,1],[1,2]] is shown; blue and pink vectors are eigenvectors:"
    },
    {
      "metadata": {
        "trusted": true
      },
      "cell_type": "code",
      "source": "from IPython.display import Image\nImage(url='http://upload.wikimedia.org/wikipedia/commons/a/ad/Eigenvectors-extended.gif')",
      "execution_count": 38,
      "outputs": [
        {
          "output_type": "execute_result",
          "execution_count": 38,
          "data": {
            "text/html": "<img src=\"http://upload.wikimedia.org/wikipedia/commons/a/ad/Eigenvectors-extended.gif\"/>",
            "text/plain": "<IPython.core.display.Image object>"
          },
          "metadata": {}
        }
      ]
    },
    {
      "metadata": {},
      "cell_type": "markdown",
      "source": "**The eigenvalue equation for $A$ is $(A -\\lambda I)v =0$**. This equation has a non-zero solution iif its determinant $|A - \\lambda I|=0$; its roots are precisely the eigenvalues of A."
    },
    {
      "metadata": {},
      "cell_type": "markdown",
      "source": "Suppose we have the following A (Wikipedia, again!):"
    },
    {
      "metadata": {
        "trusted": true
      },
      "cell_type": "code",
      "source": "A=np.array([2,0,0,0,3,4,0,4,9]).reshape(3,3)\nprint (A)",
      "execution_count": 39,
      "outputs": [
        {
          "output_type": "stream",
          "text": "[[2 0 0]\n [0 3 4]\n [0 4 9]]\n",
          "name": "stdout"
        }
      ]
    },
    {
      "metadata": {},
      "cell_type": "markdown",
      "source": "Its rank is the number of nonzero eigenvalues:"
    },
    {
      "metadata": {
        "trusted": true
      },
      "cell_type": "code",
      "source": "print (np.linalg.matrix_rank(A))",
      "execution_count": 40,
      "outputs": [
        {
          "output_type": "stream",
          "text": "3\n",
          "name": "stdout"
        }
      ]
    },
    {
      "metadata": {},
      "cell_type": "markdown",
      "source": "Find the eigenvalues and eigenvectors (note that any non-zero multiple of an eigenvector is also an eigenvector)"
    },
    {
      "metadata": {
        "trusted": true
      },
      "cell_type": "code",
      "source": "print (np.linalg.eig(A)[0]) #Eigenvalues\nprint (np.linalg.eig(A)[1]) #Eigenvectors are columns!\n",
      "execution_count": 41,
      "outputs": [
        {
          "output_type": "stream",
          "text": "[11.  1.  2.]\n[[ 0.          0.          1.        ]\n [ 0.4472136   0.89442719  0.        ]\n [ 0.89442719 -0.4472136   0.        ]]\n",
          "name": "stdout"
        }
      ]
    },
    {
      "metadata": {},
      "cell_type": "markdown",
      "source": "**The eigenvectors of a matrix can be choosen to be orthonormal** (i.e. $u_i^Tu_j = I_{ij}$, and, by normalizing, can be set to unit length)"
    },
    {
      "metadata": {
        "trusted": true
      },
      "cell_type": "code",
      "source": "ev=np.linalg.eig(A)[1]\nprint (ev)\nprint (ev[:,0])\nprint (np.dot(ev[:,0],ev[:,1]))\nprint (np.dot(ev[:,1],ev[:,2]))\nprint (np.dot(ev[:,1],ev[:,1]))\nprint (np.linalg.norm(ev[:,1]))",
      "execution_count": 42,
      "outputs": [
        {
          "output_type": "stream",
          "text": "[[ 0.          0.          1.        ]\n [ 0.4472136   0.89442719  0.        ]\n [ 0.89442719 -0.4472136   0.        ]]\n[0.         0.4472136  0.89442719]\n0.0\n0.0\n0.9999999999999999\n0.9999999999999999\n",
          "name": "stdout"
        }
      ]
    },
    {
      "metadata": {},
      "cell_type": "markdown",
      "source": "Symmetric matrices have the property that $A^T=A$. Matrices where $A=-A^T$ are *antisymmetric*. \nThe inverse of a symmetric matrix is also symmetric (demonstrate). **For symmetric matrices, the eigenvalues are real**. See, for example:"
    },
    {
      "metadata": {
        "trusted": true
      },
      "cell_type": "code",
      "source": "S=np.array([3,1,1,1,5,0,1,0,1]).reshape(3,3)\nprint (S)\nevS=np.linalg.eigvals(A)\nprint (evS)",
      "execution_count": 43,
      "outputs": [
        {
          "output_type": "stream",
          "text": "[[3 1 1]\n [1 5 0]\n [1 0 1]]\n[11.  1.  2.]\n",
          "name": "stdout"
        }
      ]
    },
    {
      "metadata": {},
      "cell_type": "markdown",
      "source": "**Any M-dimensional vector can be expressed as a linear combination of the eigenvectors.**\n\nLet's define an $M \\times M$ matriz **U**, where the eigenvectors $u_i$ are the columns. This matrix satisfies $U^TU=I$. This matrix is _orthogonal_. The eigenvector equation can be defined now as: $AU = U\\Lambda$ **[8]**, where $\\Lambda$ is a diagonal matrix whose elements are the eigenvalues. It can be shown that multiplication by $U$ can be interpreted as a rigid rotation or a reflection of the coordinate system."
    },
    {
      "metadata": {
        "trusted": true
      },
      "cell_type": "code",
      "source": "# Show the eigenvectors of A\nprint (ev)\n",
      "execution_count": 44,
      "outputs": [
        {
          "output_type": "stream",
          "text": "[[ 0.          0.          1.        ]\n [ 0.4472136   0.89442719  0.        ]\n [ 0.89442719 -0.4472136   0.        ]]\n",
          "name": "stdout"
        }
      ]
    },
    {
      "metadata": {
        "trusted": true
      },
      "cell_type": "code",
      "source": "print(A)",
      "execution_count": 45,
      "outputs": [
        {
          "output_type": "stream",
          "text": "[[2 0 0]\n [0 3 4]\n [0 4 9]]\n",
          "name": "stdout"
        }
      ]
    },
    {
      "metadata": {
        "trusted": true
      },
      "cell_type": "code",
      "source": "# Verify that AU = U\\Lambda\nprint (np.dot(A,ev))\n\nlmbda= np.diag(np.linalg.eigvals(A))\nprint (np.dot(ev,lmbda))",
      "execution_count": 46,
      "outputs": [
        {
          "output_type": "stream",
          "text": "[[ 0.          0.          2.        ]\n [ 4.91934955  0.89442719  0.        ]\n [ 9.8386991  -0.4472136   0.        ]]\n[[ 0.          0.          2.        ]\n [ 4.91934955  0.89442719  0.        ]\n [ 9.8386991  -0.4472136   0.        ]]\n",
          "name": "stdout"
        }
      ]
    },
    {
      "metadata": {},
      "cell_type": "markdown",
      "source": "From $AU = U\\Lambda$, it follows $U^TAU = \\Lambda$  ($A$ is _diagonalized_ by $U$). From this, left multiplying by $U$, right multiplying by $U^T$, we get \n\n$A = U \\Lambda U^T$, or $A = \\sum_{i=1}^M {\\lambda_i} u_i u_i^T$ **[9]**\n\n"
    },
    {
      "metadata": {},
      "cell_type": "markdown",
      "source": "Let us draw the linear transformation for each matrix in the A descomposition: since $U$ is orthogonal, it represents a rotation;after that, multiplying by $\\lambda$ scales the axis using the eigenvalues; finally $U^T$ rotates the axis back..."
    },
    {
      "metadata": {
        "trusted": true
      },
      "cell_type": "code",
      "source": "Ex=np.array([3,1,1,1]).reshape(2,2)\n# Find eigenvectors\nU=np.linalg.eig(Ex)[1]\nlmbda1= np.diag(np.linalg.eigvals(Ex))\n\ntransform_unit_square(Ex)\ntransform_unit_square(U)\ntransform_unit_square(lmbda1)\ntransform_unit_square(np.transpose(U))\n\n\n\n",
      "execution_count": 47,
      "outputs": [
        {
          "output_type": "display_data",
          "data": {
            "image/png": "[encoded data removed]",
            "text/plain": "<matplotlib.figure.Figure at 0x7f97bf548c88>"
          },
          "metadata": {}
        },
        {
          "output_type": "display_data",
          "data": {
            "image/png": "[encoded data removed]",
            "text/plain": "<matplotlib.figure.Figure at 0x7f97bf548ba8>"
          },
          "metadata": {}
        },
        {
          "output_type": "display_data",
          "data": {
            "image/png": "[encoded data removed]",
            "text/plain": "<matplotlib.figure.Figure at 0x7f97bf57fac8>"
          },
          "metadata": {}
        },
        {
          "output_type": "display_data",
          "data": {
            "image/png": "[encoded data removed]",
            "text/plain": "<matplotlib.figure.Figure at 0x7f97bf472160>"
          },
          "metadata": {}
        }
      ]
    },
    {
      "metadata": {},
      "cell_type": "markdown",
      "source": "Taking inverse and given $U^{-1} = U^T$ (since U is orthogonal), we have: \n\n$A^{-1} = U \\Lambda^{-1} U^T$, or \n\n$A^{-1} = \\sum_{i=1}^M \\frac{1}{\\lambda_i} u_i u_i^T$ **[10]**"
    },
    {
      "metadata": {
        "trusted": true
      },
      "cell_type": "code",
      "source": "# Calculate the inverse of A\nprint (ev.dot(np.linalg.inv(lmbda).dot(np.transpose(ev))))\n\nprint (np.linalg.inv(A))\n",
      "execution_count": 48,
      "outputs": [
        {
          "output_type": "stream",
          "text": "[[ 0.5         0.          0.        ]\n [ 0.          0.81818182 -0.36363636]\n [ 0.         -0.36363636  0.27272727]]\n[[ 0.5         0.          0.        ]\n [ 0.          0.81818182 -0.36363636]\n [-0.         -0.36363636  0.27272727]]\n",
          "name": "stdout"
        }
      ]
    },
    {
      "metadata": {},
      "cell_type": "markdown",
      "source": "We can also show that **the determinant of a matrix is the products of its eigenvalues**:\n\n$|A| = \\prod_{i=1}^{M}\\lambda_i$ **[11]**\n\nAnd that **the trace of a matrix is the sum of its eigenvalues**\n\n$Tr(A) = \\sum_{i=1}^{M}\\lambda_i$ **[12]**\n\n"
    },
    {
      "metadata": {
        "trusted": true
      },
      "cell_type": "code",
      "source": "print (str(np.prod(np.linalg.eigvals(A))) + ','+ str(np.linalg.det(A)))\n\nprint (str(np.sum(np.linalg.eigvals(A))) + ','+ str(np.trace(A)))",
      "execution_count": 49,
      "outputs": [
        {
          "output_type": "stream",
          "text": "22.0,21.999999999999996\n14.0,14\n",
          "name": "stdout"
        }
      ]
    },
    {
      "metadata": {},
      "cell_type": "markdown",
      "source": "A symmetric matrix A is _positive (semi)definite_ if, for all w, $w^T A w >(\\geq) 0$ ($w^T A w $ is called the _quadratic form_). A positive definite matrix has all positive eigenvalues. The intution behind definite matrices is that they are a multi-dimensional version of a positive scalar.  When you multiply a vector with a matrix, you multiply the vector by different factors in the different space directions. If the matrix is positive definite, this is all true, but just like with a positive scalar, the new vector and the old vector go \"in the same direction\" in the sense that their angle is less than 90 degrees. More precisely: the old and the new have a positive inner product. (Taken from https://www.quora.com/What-is-a-positive-definite-matrix-in-laymans-terms).\n\nOne important property of positive definite and negative definite matrices is that they are always full rank, and hence, invertibles.\n\nGiven $A \\in {\\rm I\\!R}^{n \\times n}$ there is a special matrix $G =A^TA$, called the _Gram Matrix_, always positive semidefinite, and if $m \\geq n$, $G$ is positive definite.\n\n"
    },
    {
      "metadata": {},
      "cell_type": "markdown",
      "source": "### 9. Matrix Derivatives"
    },
    {
      "metadata": {},
      "cell_type": "markdown",
      "source": "Given a function $f$ mapping from $m$-by-$n$ matrices to real numbers, we can define the _gradient_ $\\nabla_A f(A)$ as an $m$-by-$n$ matrix whose $(i,j)$ element is $\\partial f/\\partial A_{ij}$. Some properties of gradients (see Bishop's appendix for details), are the following:\n\n- $\\nabla_{A}Tr(AB)=B^T$ **[11]**\n- $\\nabla_{A}Tr(A^TB)=B$ **[12]**\n- $\\nabla_{A}Tr(A)=I$ **[13]**\n- $ \\nabla_{A}Tr(ABA^T)=A(B+B^T)$**[14]**\n\nAnd the beautiful\n\n- $\\nabla_{A}\\ln|A|=(A^{-1})^T$**[15]**\n\nYet another two properties of gradients (from Andrew Ng's course notes, see next section):\n\n- $\\nabla_{A^T} f(A)= (\\nabla_{A} f(A))^T$ **[16]**\n- $\\nabla_{A} Tr(ABA^TC) = CAB + C^TAB^T$ **[17]**"
    },
    {
      "metadata": {},
      "cell_type": "markdown",
      "source": "### 10. Matrices for Machine Learning"
    },
    {
      "metadata": {},
      "cell_type": "markdown",
      "source": "It is difficult to find a machine learning method that does _not_ use matrices. From linear regression to deep neural networks, going through Principal Component Analysis, things are much easier if we use matrices and vectors. Just as an example, let's show how to find a closed-form solution for the problem of linear regression, following exactly the [notes](http://cs229.stanford.edu/notes/cs229-notes1.pdf) of Mr. @andrewyng. In the next section, we will see how to implement everything using Python.\n\nFirst, let's define the problem of linear regression: we have a number of input _features_ from $\\mathbb{R}^n$, noted as $x$, and an associated _target value_ $y$ in $\\mathbb{R}$. Our _hypothesis_ is that, given $x$, $h(x) = \\sum_{i=0}^{i=n} \\theta_i x_i$ (assuming that $x_0=1$), or, using matrix notation (see how easier it looks):\n\n$h(x)=\\theta^T x$\n\n"
    },
    {
      "metadata": {},
      "cell_type": "markdown",
      "source": "(Note that, by convention, an instance from $\\mathbb{R}^n$ is considered a column vector). What we want to do is to find $\\theta^T$, given a training set (i.e. instances from $\\mathbb{R}^n$ and their associated target value). The cost function we want to minimize wrt $\\theta$ is the following:\n\n$J(\\theta) = \\frac{1}{2}\\sum_{i=1}^{i=m} (h_\\theta(x^{(i)})- y^{(i)})^2$\n\nwhere $x^{(i)}$ denotes the i-th instance, and $y^{(i)}$ its value. Note we are squaring the difference to take into account only the absolute value of the differences. \n\nThis method is called _ordinary least squares_.\n"
    },
    {
      "metadata": {},
      "cell_type": "markdown",
      "source": "A typical way for minimizing $J$ is using some numerical method, i.e. _gradient descent_, which allows to minimize any convex function of multiple variables. For ordinary least squares, however, there is a _closed form_ solution, which we will show. The use of matrix notation will make things much easier than if we had to use index notation. \n\nFirst, let's rewrite J using matrix notation.\n\n$J(\\theta) = \\frac{1}{2}(X\\theta - y)^T(X\\theta - y)$\n\nwhere $X$ is the _design matrix_ that includes the training instances input values as rows, and $y$ is a column matrix including the corresponding target values (you can use index notation to check the equivalence, keeping in mind that $zz^T$ equals the sum of the squared elements of $z$!)\n\n\n"
    },
    {
      "metadata": {},
      "cell_type": "markdown",
      "source": "From now on, things are easy (especially if you compare to using index notation). First, use [1]:"
    },
    {
      "metadata": {},
      "cell_type": "markdown",
      "source": "$$\n\\nabla_\\theta J(\\theta) =\\nabla_\\theta\\frac{1}{2}(X\\theta - y)^T(X\\theta - y) = \\nabla_\\theta\\frac{1}{2} (\\theta^TX^TX\\theta - \\theta^TX^Ty - y^TX\\theta+ yy^T) \n$$\n"
    },
    {
      "metadata": {},
      "cell_type": "markdown",
      "source": "Now, since $J(\\theta)$ is a real number, its trace is the same number"
    },
    {
      "metadata": {},
      "cell_type": "markdown",
      "source": "$$\n\\nabla_\\theta J(\\theta) =\\nabla_\\theta\\mathrm{Tr}(\\frac{1}{2} (\\theta^TX^TX\\theta - \\theta^TX^Ty - y^TX\\theta+ yy^T))\n$$\n\n\n"
    },
    {
      "metadata": {
        "collapsed": true
      },
      "cell_type": "markdown",
      "source": "Now, since $\\mathrm{Tr}(A) = \\mathrm{Tr}(A^T)$:\n\n$$\n\\nabla_\\theta J(\\theta) = \\frac{1}{2} \\nabla_\\theta(\\mathrm{Tr}(\\theta^TX^TX\\theta) - 2 \\mathrm{Tr}(\\theta^TX^Ty) + \\mathrm{Tr}(yy^T))\n$$"
    },
    {
      "metadata": {
        "collapsed": true
      },
      "cell_type": "markdown",
      "source": "Applying [16] and [17] we get:"
    },
    {
      "metadata": {},
      "cell_type": "markdown",
      "source": "$$\n\\nabla_\\theta J(\\theta) = \\frac{1}{2} (X^TX\\theta + X^TX\\theta -2X^Ty )= X^TX\\theta -X^Ty\n$$"
    },
    {
      "metadata": {},
      "cell_type": "markdown",
      "source": "To minimize $J$, we just equals its gradient to 0, obtaining,\n\n$$\nX^TX\\theta = X^Ty\n$$\n\nand, from here, we get a closed formula for our parameter vector $\\theta$:\n\n$$\n\\theta = (X^TX)^{-1}X^Ty\n$$"
    },
    {
      "metadata": {},
      "cell_type": "markdown",
      "source": "### 11. Linear regression with Python"
    },
    {
      "metadata": {},
      "cell_type": "markdown",
      "source": "Suppose we have target class _y_ (say, a house's price), dependent on 3 real-valued attributes $x_1,x_2,x_3$ (for example, number of rooms, minimum tax and house age). Suppose that we have the attributes and prices for 10 houses.  _If we assume_ that the price of a house is a _linear combination_ of the three attributes,  $y = \\theta_0 + \\theta_1x_1 + \\theta_2x_2 + \\theta_3x_3$, and that we should find the $\\theta$ values. Now, we can define $X$ (the design matrix) and $y$"
    },
    {
      "metadata": {
        "trusted": true
      },
      "cell_type": "code",
      "source": "X=np.array([\n[1.0,1.0,1.9,1.1],\n[1.0,0.1,1.0,1.0],\n[1.0,1.1,1.0,0.1],\n[1.0,1.1,1.1,0.9],\n[1.0,2.1,1.2,1.0],\n[1.0,0.9,1.0,3.0],\n[1.0,3.1,0.9,3.0],\n[1.0,1.9,0.9,2.1],\n[1.0,0.0,-0.1,1.1],\n[1.0,1.0,1.0,0.1]\n])\nprint (X)\n",
      "execution_count": 50,
      "outputs": [
        {
          "output_type": "stream",
          "text": "[[ 1.   1.   1.9  1.1]\n [ 1.   0.1  1.   1. ]\n [ 1.   1.1  1.   0.1]\n [ 1.   1.1  1.1  0.9]\n [ 1.   2.1  1.2  1. ]\n [ 1.   0.9  1.   3. ]\n [ 1.   3.1  0.9  3. ]\n [ 1.   1.9  0.9  2.1]\n [ 1.   0.  -0.1  1.1]\n [ 1.   1.   1.   0.1]]\n",
          "name": "stdout"
        }
      ]
    },
    {
      "metadata": {
        "trusted": true
      },
      "cell_type": "code",
      "source": "y=np.array([5.0,2.0,4.1,3.0,5.0,1.0,2.8,2.6,-0.4,4.1])\nprint (y)\n",
      "execution_count": 51,
      "outputs": [
        {
          "output_type": "stream",
          "text": "[ 5.   2.   4.1  3.   5.   1.   2.8  2.6 -0.4  4.1]\n",
          "name": "stdout"
        }
      ]
    },
    {
      "metadata": {},
      "cell_type": "markdown",
      "source": "Note that we added a left column to the matrix, each cell valued with 1. This is to add a new $x_0$ attribute, as before. We can now calculate the parameters for the hyperplane that minimizes the sum of squares using the previous formula ($\\theta = (X^TX)^{-1}X^Ty$):"
    },
    {
      "metadata": {
        "trusted": true
      },
      "cell_type": "code",
      "source": "theta=np.dot(np.dot(np.linalg.inv(np.dot(np.transpose(X),X)),np.transpose(X)),y)\nprint (theta)",
      "execution_count": 52,
      "outputs": [
        {
          "output_type": "stream",
          "text": "[ 0.87782702  1.051817    2.18366554 -1.05476926]\n",
          "name": "stdout"
        }
      ]
    },
    {
      "metadata": {},
      "cell_type": "markdown",
      "source": "Let's verify that our just found parameter vector, dot the attributes of each instance, gives us (approximately) the corresponding $y$ cell. We can do this for every training examples, just calculating $X\\theta$"
    },
    {
      "metadata": {
        "trusted": true
      },
      "cell_type": "code",
      "source": "print (np.dot(X,theta))\n",
      "execution_count": 53,
      "outputs": [
        {
          "output_type": "stream",
          "text": "[ 4.91836235  2.111905    4.11301432  3.48756547  4.6522721   0.84382008\n  2.93945092  2.62656285 -0.50078572  4.00783262]\n",
          "name": "stdout"
        }
      ]
    },
    {
      "metadata": {},
      "cell_type": "markdown",
      "source": "Of course, a) ordinary least squares is a very simple method for regression and b) every statistical/machine learning package includes much more efficient ways of finding $\\theta$. For example, using the linalg library:"
    },
    {
      "metadata": {
        "trusted": true
      },
      "cell_type": "code",
      "source": "print (np.linalg.lstsq(X, y)[0])",
      "execution_count": 54,
      "outputs": [
        {
          "output_type": "stream",
          "text": "[ 0.87782702  1.051817    2.18366554 -1.05476926]\n",
          "name": "stdout"
        },
        {
          "output_type": "stream",
          "text": "/home/nbuser/anaconda3_420/lib/python3.5/site-packages/ipykernel/__main__.py:1: FutureWarning: `rcond` parameter will change to the default of machine precision times ``max(M, N)`` where M and N are the input matrix dimensions.\nTo use the future default and silence this warning we advise to pass `rcond=None`, to keep using the old, explicitly pass `rcond=-1`.\n  if __name__ == '__main__':\n",
          "name": "stderr"
        }
      ]
    }
  ],
  "metadata": {
    "kernelspec": {
      "name": "python3",
      "display_name": "Python 3",
      "language": "python"
    },
    "language_info": {
      "mimetype": "text/x-python",
      "nbconvert_exporter": "python",
      "name": "python",
      "file_extension": ".py",
      "version": "3.5.4",
      "pygments_lexer": "ipython3",
      "codemirror_mode": {
        "version": 3,
        "name": "ipython"
      }
    }
  },
  "nbformat": 4,
  "nbformat_minor": 1
}