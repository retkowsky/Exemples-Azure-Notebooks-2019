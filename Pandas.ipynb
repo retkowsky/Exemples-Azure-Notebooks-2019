{
  "cells": [
    {
      "metadata": {},
      "cell_type": "markdown",
      "source": "# Basics of Pandas\n\nAdopted from http://pandas.pydata.org/pandas-docs/version/0.15.2/10min.html"
    },
    {
      "metadata": {
        "trusted": true
      },
      "cell_type": "code",
      "source": "import pandas as pd\nimport numpy as np",
      "execution_count": 1,
      "outputs": []
    },
    {
      "metadata": {},
      "cell_type": "markdown",
      "source": "## Object Creation"
    },
    {
      "metadata": {
        "trusted": true
      },
      "cell_type": "code",
      "source": "s = pd.Series([1,3,5,np.nan,6,8])\ns",
      "execution_count": 2,
      "outputs": [
        {
          "output_type": "execute_result",
          "execution_count": 2,
          "data": {
            "text/plain": "0    1.0\n1    3.0\n2    5.0\n3    NaN\n4    6.0\n5    8.0\ndtype: float64"
          },
          "metadata": {}
        }
      ]
    },
    {
      "metadata": {
        "trusted": true
      },
      "cell_type": "code",
      "source": "# Creating a DataFrame by passing a numpy array, with a datetime index and labeled columns.\ndates = pd.date_range('20130101',periods=6)\ndates",
      "execution_count": 3,
      "outputs": [
        {
          "output_type": "execute_result",
          "execution_count": 3,
          "data": {
            "text/plain": "DatetimeIndex(['2013-01-01', '2013-01-02', '2013-01-03', '2013-01-04',\n               '2013-01-05', '2013-01-06'],\n              dtype='datetime64[ns]', freq='D')"
          },
          "metadata": {}
        }
      ]
    },
    {
      "metadata": {
        "trusted": true
      },
      "cell_type": "code",
      "source": "df = pd.DataFrame(np.random.randn(6,4),index=dates,columns=list('ABCD'))\ndf",
      "execution_count": 4,
      "outputs": [
        {
          "output_type": "execute_result",
          "execution_count": 4,
          "data": {
            "text/html": "<div>\n<style scoped>\n    .dataframe tbody tr th:only-of-type {\n        vertical-align: middle;\n    }\n\n    .dataframe tbody tr th {\n        vertical-align: top;\n    }\n\n    .dataframe thead th {\n        text-align: right;\n    }\n</style>\n<table border=\"1\" class=\"dataframe\">\n  <thead>\n    <tr style=\"text-align: right;\">\n      <th></th>\n      <th>A</th>\n      <th>B</th>\n      <th>C</th>\n      <th>D</th>\n    </tr>\n  </thead>\n  <tbody>\n    <tr>\n      <th>2013-01-01</th>\n      <td>0.378866</td>\n      <td>0.504119</td>\n      <td>0.464499</td>\n      <td>-0.171301</td>\n    </tr>\n    <tr>\n      <th>2013-01-02</th>\n      <td>-0.002160</td>\n      <td>-1.257661</td>\n      <td>-2.019852</td>\n      <td>-0.898494</td>\n    </tr>\n    <tr>\n      <th>2013-01-03</th>\n      <td>-0.201606</td>\n      <td>0.411771</td>\n      <td>-1.356667</td>\n      <td>-1.785855</td>\n    </tr>\n    <tr>\n      <th>2013-01-04</th>\n      <td>0.100729</td>\n      <td>-0.288633</td>\n      <td>-1.323152</td>\n      <td>0.161654</td>\n    </tr>\n    <tr>\n      <th>2013-01-05</th>\n      <td>0.319141</td>\n      <td>0.701684</td>\n      <td>-0.990322</td>\n      <td>-0.938994</td>\n    </tr>\n    <tr>\n      <th>2013-01-06</th>\n      <td>-1.994991</td>\n      <td>1.471600</td>\n      <td>-2.063802</td>\n      <td>-0.053743</td>\n    </tr>\n  </tbody>\n</table>\n</div>",
            "text/plain": "                   A         B         C         D\n2013-01-01  0.378866  0.504119  0.464499 -0.171301\n2013-01-02 -0.002160 -1.257661 -2.019852 -0.898494\n2013-01-03 -0.201606  0.411771 -1.356667 -1.785855\n2013-01-04  0.100729 -0.288633 -1.323152  0.161654\n2013-01-05  0.319141  0.701684 -0.990322 -0.938994\n2013-01-06 -1.994991  1.471600 -2.063802 -0.053743"
          },
          "metadata": {}
        }
      ]
    },
    {
      "metadata": {
        "trusted": true
      },
      "cell_type": "code",
      "source": "# Creating a DataFrame by passing a dict of objects that can be converted to series-like.\ndf2 = pd.DataFrame({ 'A' : 1.,\n                 'B' : pd.Timestamp('20130102'),\n                 'C' : pd.Series(1,index=range(4),dtype='float32'),\n                 'D' : np.array([3] * 4,dtype='int32'),\n                 'E' : 'foo' })\n    \ndf2",
      "execution_count": 5,
      "outputs": [
        {
          "output_type": "execute_result",
          "execution_count": 5,
          "data": {
            "text/html": "<div>\n<style scoped>\n    .dataframe tbody tr th:only-of-type {\n        vertical-align: middle;\n    }\n\n    .dataframe tbody tr th {\n        vertical-align: top;\n    }\n\n    .dataframe thead th {\n        text-align: right;\n    }\n</style>\n<table border=\"1\" class=\"dataframe\">\n  <thead>\n    <tr style=\"text-align: right;\">\n      <th></th>\n      <th>A</th>\n      <th>B</th>\n      <th>C</th>\n      <th>D</th>\n      <th>E</th>\n    </tr>\n  </thead>\n  <tbody>\n    <tr>\n      <th>0</th>\n      <td>1.0</td>\n      <td>2013-01-02</td>\n      <td>1.0</td>\n      <td>3</td>\n      <td>foo</td>\n    </tr>\n    <tr>\n      <th>1</th>\n      <td>1.0</td>\n      <td>2013-01-02</td>\n      <td>1.0</td>\n      <td>3</td>\n      <td>foo</td>\n    </tr>\n    <tr>\n      <th>2</th>\n      <td>1.0</td>\n      <td>2013-01-02</td>\n      <td>1.0</td>\n      <td>3</td>\n      <td>foo</td>\n    </tr>\n    <tr>\n      <th>3</th>\n      <td>1.0</td>\n      <td>2013-01-02</td>\n      <td>1.0</td>\n      <td>3</td>\n      <td>foo</td>\n    </tr>\n  </tbody>\n</table>\n</div>",
            "text/plain": "     A          B    C  D    E\n0  1.0 2013-01-02  1.0  3  foo\n1  1.0 2013-01-02  1.0  3  foo\n2  1.0 2013-01-02  1.0  3  foo\n3  1.0 2013-01-02  1.0  3  foo"
          },
          "metadata": {}
        }
      ]
    },
    {
      "metadata": {
        "trusted": true
      },
      "cell_type": "code",
      "source": "# Having specific dtypes\ndf2.dtypes",
      "execution_count": 6,
      "outputs": [
        {
          "output_type": "execute_result",
          "execution_count": 6,
          "data": {
            "text/plain": "A           float64\nB    datetime64[ns]\nC           float32\nD             int32\nE            object\ndtype: object"
          },
          "metadata": {}
        }
      ]
    },
    {
      "metadata": {},
      "cell_type": "markdown",
      "source": "## Viewing Data"
    },
    {
      "metadata": {
        "trusted": true
      },
      "cell_type": "code",
      "source": "df.head()",
      "execution_count": 7,
      "outputs": [
        {
          "output_type": "execute_result",
          "execution_count": 7,
          "data": {
            "text/html": "<div>\n<style scoped>\n    .dataframe tbody tr th:only-of-type {\n        vertical-align: middle;\n    }\n\n    .dataframe tbody tr th {\n        vertical-align: top;\n    }\n\n    .dataframe thead th {\n        text-align: right;\n    }\n</style>\n<table border=\"1\" class=\"dataframe\">\n  <thead>\n    <tr style=\"text-align: right;\">\n      <th></th>\n      <th>A</th>\n      <th>B</th>\n      <th>C</th>\n      <th>D</th>\n    </tr>\n  </thead>\n  <tbody>\n    <tr>\n      <th>2013-01-01</th>\n      <td>0.378866</td>\n      <td>0.504119</td>\n      <td>0.464499</td>\n      <td>-0.171301</td>\n    </tr>\n    <tr>\n      <th>2013-01-02</th>\n      <td>-0.002160</td>\n      <td>-1.257661</td>\n      <td>-2.019852</td>\n      <td>-0.898494</td>\n    </tr>\n    <tr>\n      <th>2013-01-03</th>\n      <td>-0.201606</td>\n      <td>0.411771</td>\n      <td>-1.356667</td>\n      <td>-1.785855</td>\n    </tr>\n    <tr>\n      <th>2013-01-04</th>\n      <td>0.100729</td>\n      <td>-0.288633</td>\n      <td>-1.323152</td>\n      <td>0.161654</td>\n    </tr>\n    <tr>\n      <th>2013-01-05</th>\n      <td>0.319141</td>\n      <td>0.701684</td>\n      <td>-0.990322</td>\n      <td>-0.938994</td>\n    </tr>\n  </tbody>\n</table>\n</div>",
            "text/plain": "                   A         B         C         D\n2013-01-01  0.378866  0.504119  0.464499 -0.171301\n2013-01-02 -0.002160 -1.257661 -2.019852 -0.898494\n2013-01-03 -0.201606  0.411771 -1.356667 -1.785855\n2013-01-04  0.100729 -0.288633 -1.323152  0.161654\n2013-01-05  0.319141  0.701684 -0.990322 -0.938994"
          },
          "metadata": {}
        }
      ]
    },
    {
      "metadata": {
        "trusted": true
      },
      "cell_type": "code",
      "source": "#Display the index,columns, and the underlying numpy data\ndf.index",
      "execution_count": 8,
      "outputs": [
        {
          "output_type": "execute_result",
          "execution_count": 8,
          "data": {
            "text/plain": "DatetimeIndex(['2013-01-01', '2013-01-02', '2013-01-03', '2013-01-04',\n               '2013-01-05', '2013-01-06'],\n              dtype='datetime64[ns]', freq='D')"
          },
          "metadata": {}
        }
      ]
    },
    {
      "metadata": {
        "scrolled": true,
        "trusted": true
      },
      "cell_type": "code",
      "source": "df.columns",
      "execution_count": 9,
      "outputs": [
        {
          "output_type": "execute_result",
          "execution_count": 9,
          "data": {
            "text/plain": "Index(['A', 'B', 'C', 'D'], dtype='object')"
          },
          "metadata": {}
        }
      ]
    },
    {
      "metadata": {
        "trusted": true
      },
      "cell_type": "code",
      "source": "df.values",
      "execution_count": 10,
      "outputs": [
        {
          "output_type": "execute_result",
          "execution_count": 10,
          "data": {
            "text/plain": "array([[ 0.37886622,  0.50411921,  0.46449905, -0.17130109],\n       [-0.0021604 , -1.25766086, -2.0198519 , -0.89849399],\n       [-0.20160556,  0.41177092, -1.35666734, -1.78585541],\n       [ 0.10072864, -0.28863305, -1.32315171,  0.16165443],\n       [ 0.31914111,  0.70168434, -0.99032174, -0.93899426],\n       [-1.99499146,  1.47159958, -2.0638021 , -0.05374273]])"
          },
          "metadata": {}
        }
      ]
    },
    {
      "metadata": {
        "trusted": true
      },
      "cell_type": "code",
      "source": "#Describe shows a quick statistic summary of your data\ndf.describe()",
      "execution_count": 11,
      "outputs": [
        {
          "output_type": "execute_result",
          "execution_count": 11,
          "data": {
            "text/html": "<div>\n<style scoped>\n    .dataframe tbody tr th:only-of-type {\n        vertical-align: middle;\n    }\n\n    .dataframe tbody tr th {\n        vertical-align: top;\n    }\n\n    .dataframe thead th {\n        text-align: right;\n    }\n</style>\n<table border=\"1\" class=\"dataframe\">\n  <thead>\n    <tr style=\"text-align: right;\">\n      <th></th>\n      <th>A</th>\n      <th>B</th>\n      <th>C</th>\n      <th>D</th>\n    </tr>\n  </thead>\n  <tbody>\n    <tr>\n      <th>count</th>\n      <td>6.000000</td>\n      <td>6.000000</td>\n      <td>6.000000</td>\n      <td>6.000000</td>\n    </tr>\n    <tr>\n      <th>mean</th>\n      <td>-0.233337</td>\n      <td>0.257147</td>\n      <td>-1.214883</td>\n      <td>-0.614456</td>\n    </tr>\n    <tr>\n      <th>std</th>\n      <td>0.888763</td>\n      <td>0.932731</td>\n      <td>0.924253</td>\n      <td>0.730933</td>\n    </tr>\n    <tr>\n      <th>min</th>\n      <td>-1.994991</td>\n      <td>-1.257661</td>\n      <td>-2.063802</td>\n      <td>-1.785855</td>\n    </tr>\n    <tr>\n      <th>25%</th>\n      <td>-0.151744</td>\n      <td>-0.113532</td>\n      <td>-1.854056</td>\n      <td>-0.928869</td>\n    </tr>\n    <tr>\n      <th>50%</th>\n      <td>0.049284</td>\n      <td>0.457945</td>\n      <td>-1.339910</td>\n      <td>-0.534898</td>\n    </tr>\n    <tr>\n      <th>75%</th>\n      <td>0.264538</td>\n      <td>0.652293</td>\n      <td>-1.073529</td>\n      <td>-0.083132</td>\n    </tr>\n    <tr>\n      <th>max</th>\n      <td>0.378866</td>\n      <td>1.471600</td>\n      <td>0.464499</td>\n      <td>0.161654</td>\n    </tr>\n  </tbody>\n</table>\n</div>",
            "text/plain": "              A         B         C         D\ncount  6.000000  6.000000  6.000000  6.000000\nmean  -0.233337  0.257147 -1.214883 -0.614456\nstd    0.888763  0.932731  0.924253  0.730933\nmin   -1.994991 -1.257661 -2.063802 -1.785855\n25%   -0.151744 -0.113532 -1.854056 -0.928869\n50%    0.049284  0.457945 -1.339910 -0.534898\n75%    0.264538  0.652293 -1.073529 -0.083132\nmax    0.378866  1.471600  0.464499  0.161654"
          },
          "metadata": {}
        }
      ]
    },
    {
      "metadata": {
        "trusted": true
      },
      "cell_type": "code",
      "source": "#Transpose\ndf.T",
      "execution_count": 12,
      "outputs": [
        {
          "output_type": "execute_result",
          "execution_count": 12,
          "data": {
            "text/html": "<div>\n<style scoped>\n    .dataframe tbody tr th:only-of-type {\n        vertical-align: middle;\n    }\n\n    .dataframe tbody tr th {\n        vertical-align: top;\n    }\n\n    .dataframe thead th {\n        text-align: right;\n    }\n</style>\n<table border=\"1\" class=\"dataframe\">\n  <thead>\n    <tr style=\"text-align: right;\">\n      <th></th>\n      <th>2013-01-01 00:00:00</th>\n      <th>2013-01-02 00:00:00</th>\n      <th>2013-01-03 00:00:00</th>\n      <th>2013-01-04 00:00:00</th>\n      <th>2013-01-05 00:00:00</th>\n      <th>2013-01-06 00:00:00</th>\n    </tr>\n  </thead>\n  <tbody>\n    <tr>\n      <th>A</th>\n      <td>0.378866</td>\n      <td>-0.002160</td>\n      <td>-0.201606</td>\n      <td>0.100729</td>\n      <td>0.319141</td>\n      <td>-1.994991</td>\n    </tr>\n    <tr>\n      <th>B</th>\n      <td>0.504119</td>\n      <td>-1.257661</td>\n      <td>0.411771</td>\n      <td>-0.288633</td>\n      <td>0.701684</td>\n      <td>1.471600</td>\n    </tr>\n    <tr>\n      <th>C</th>\n      <td>0.464499</td>\n      <td>-2.019852</td>\n      <td>-1.356667</td>\n      <td>-1.323152</td>\n      <td>-0.990322</td>\n      <td>-2.063802</td>\n    </tr>\n    <tr>\n      <th>D</th>\n      <td>-0.171301</td>\n      <td>-0.898494</td>\n      <td>-1.785855</td>\n      <td>0.161654</td>\n      <td>-0.938994</td>\n      <td>-0.053743</td>\n    </tr>\n  </tbody>\n</table>\n</div>",
            "text/plain": "   2013-01-01  2013-01-02  2013-01-03  2013-01-04  2013-01-05  2013-01-06\nA    0.378866   -0.002160   -0.201606    0.100729    0.319141   -1.994991\nB    0.504119   -1.257661    0.411771   -0.288633    0.701684    1.471600\nC    0.464499   -2.019852   -1.356667   -1.323152   -0.990322   -2.063802\nD   -0.171301   -0.898494   -1.785855    0.161654   -0.938994   -0.053743"
          },
          "metadata": {}
        }
      ]
    },
    {
      "metadata": {
        "scrolled": true,
        "trusted": true
      },
      "cell_type": "code",
      "source": "# Sorting by an axis\ndf.sort_index(axis=1, ascending=False)",
      "execution_count": 13,
      "outputs": [
        {
          "output_type": "execute_result",
          "execution_count": 13,
          "data": {
            "text/html": "<div>\n<style scoped>\n    .dataframe tbody tr th:only-of-type {\n        vertical-align: middle;\n    }\n\n    .dataframe tbody tr th {\n        vertical-align: top;\n    }\n\n    .dataframe thead th {\n        text-align: right;\n    }\n</style>\n<table border=\"1\" class=\"dataframe\">\n  <thead>\n    <tr style=\"text-align: right;\">\n      <th></th>\n      <th>D</th>\n      <th>C</th>\n      <th>B</th>\n      <th>A</th>\n    </tr>\n  </thead>\n  <tbody>\n    <tr>\n      <th>2013-01-01</th>\n      <td>-0.171301</td>\n      <td>0.464499</td>\n      <td>0.504119</td>\n      <td>0.378866</td>\n    </tr>\n    <tr>\n      <th>2013-01-02</th>\n      <td>-0.898494</td>\n      <td>-2.019852</td>\n      <td>-1.257661</td>\n      <td>-0.002160</td>\n    </tr>\n    <tr>\n      <th>2013-01-03</th>\n      <td>-1.785855</td>\n      <td>-1.356667</td>\n      <td>0.411771</td>\n      <td>-0.201606</td>\n    </tr>\n    <tr>\n      <th>2013-01-04</th>\n      <td>0.161654</td>\n      <td>-1.323152</td>\n      <td>-0.288633</td>\n      <td>0.100729</td>\n    </tr>\n    <tr>\n      <th>2013-01-05</th>\n      <td>-0.938994</td>\n      <td>-0.990322</td>\n      <td>0.701684</td>\n      <td>0.319141</td>\n    </tr>\n    <tr>\n      <th>2013-01-06</th>\n      <td>-0.053743</td>\n      <td>-2.063802</td>\n      <td>1.471600</td>\n      <td>-1.994991</td>\n    </tr>\n  </tbody>\n</table>\n</div>",
            "text/plain": "                   D         C         B         A\n2013-01-01 -0.171301  0.464499  0.504119  0.378866\n2013-01-02 -0.898494 -2.019852 -1.257661 -0.002160\n2013-01-03 -1.785855 -1.356667  0.411771 -0.201606\n2013-01-04  0.161654 -1.323152 -0.288633  0.100729\n2013-01-05 -0.938994 -0.990322  0.701684  0.319141\n2013-01-06 -0.053743 -2.063802  1.471600 -1.994991"
          },
          "metadata": {}
        }
      ]
    },
    {
      "metadata": {},
      "cell_type": "markdown",
      "source": "## Selection"
    },
    {
      "metadata": {
        "scrolled": true,
        "trusted": true
      },
      "cell_type": "code",
      "source": "# Selecting a single column, which yields a Series, equivalent to df.A\ndf['A']",
      "execution_count": 15,
      "outputs": [
        {
          "output_type": "execute_result",
          "execution_count": 15,
          "data": {
            "text/plain": "2013-01-01    0.378866\n2013-01-02   -0.002160\n2013-01-03   -0.201606\n2013-01-04    0.100729\n2013-01-05    0.319141\n2013-01-06   -1.994991\nFreq: D, Name: A, dtype: float64"
          },
          "metadata": {}
        }
      ]
    },
    {
      "metadata": {
        "scrolled": true,
        "trusted": true
      },
      "cell_type": "code",
      "source": "# Selecting via [], which slices the rows.\ndf[0:3]",
      "execution_count": 16,
      "outputs": [
        {
          "output_type": "execute_result",
          "execution_count": 16,
          "data": {
            "text/html": "<div>\n<style scoped>\n    .dataframe tbody tr th:only-of-type {\n        vertical-align: middle;\n    }\n\n    .dataframe tbody tr th {\n        vertical-align: top;\n    }\n\n    .dataframe thead th {\n        text-align: right;\n    }\n</style>\n<table border=\"1\" class=\"dataframe\">\n  <thead>\n    <tr style=\"text-align: right;\">\n      <th></th>\n      <th>A</th>\n      <th>B</th>\n      <th>C</th>\n      <th>D</th>\n    </tr>\n  </thead>\n  <tbody>\n    <tr>\n      <th>2013-01-01</th>\n      <td>0.378866</td>\n      <td>0.504119</td>\n      <td>0.464499</td>\n      <td>-0.171301</td>\n    </tr>\n    <tr>\n      <th>2013-01-02</th>\n      <td>-0.002160</td>\n      <td>-1.257661</td>\n      <td>-2.019852</td>\n      <td>-0.898494</td>\n    </tr>\n    <tr>\n      <th>2013-01-03</th>\n      <td>-0.201606</td>\n      <td>0.411771</td>\n      <td>-1.356667</td>\n      <td>-1.785855</td>\n    </tr>\n  </tbody>\n</table>\n</div>",
            "text/plain": "                   A         B         C         D\n2013-01-01  0.378866  0.504119  0.464499 -0.171301\n2013-01-02 -0.002160 -1.257661 -2.019852 -0.898494\n2013-01-03 -0.201606  0.411771 -1.356667 -1.785855"
          },
          "metadata": {}
        }
      ]
    },
    {
      "metadata": {
        "scrolled": true,
        "trusted": true
      },
      "cell_type": "code",
      "source": "df[pd.Timestamp('20130102'):pd.Timestamp('20130104')]",
      "execution_count": 17,
      "outputs": [
        {
          "output_type": "execute_result",
          "execution_count": 17,
          "data": {
            "text/html": "<div>\n<style scoped>\n    .dataframe tbody tr th:only-of-type {\n        vertical-align: middle;\n    }\n\n    .dataframe tbody tr th {\n        vertical-align: top;\n    }\n\n    .dataframe thead th {\n        text-align: right;\n    }\n</style>\n<table border=\"1\" class=\"dataframe\">\n  <thead>\n    <tr style=\"text-align: right;\">\n      <th></th>\n      <th>A</th>\n      <th>B</th>\n      <th>C</th>\n      <th>D</th>\n    </tr>\n  </thead>\n  <tbody>\n    <tr>\n      <th>2013-01-02</th>\n      <td>-0.002160</td>\n      <td>-1.257661</td>\n      <td>-2.019852</td>\n      <td>-0.898494</td>\n    </tr>\n    <tr>\n      <th>2013-01-03</th>\n      <td>-0.201606</td>\n      <td>0.411771</td>\n      <td>-1.356667</td>\n      <td>-1.785855</td>\n    </tr>\n    <tr>\n      <th>2013-01-04</th>\n      <td>0.100729</td>\n      <td>-0.288633</td>\n      <td>-1.323152</td>\n      <td>0.161654</td>\n    </tr>\n  </tbody>\n</table>\n</div>",
            "text/plain": "                   A         B         C         D\n2013-01-02 -0.002160 -1.257661 -2.019852 -0.898494\n2013-01-03 -0.201606  0.411771 -1.356667 -1.785855\n2013-01-04  0.100729 -0.288633 -1.323152  0.161654"
          },
          "metadata": {}
        }
      ]
    },
    {
      "metadata": {},
      "cell_type": "markdown",
      "source": "### Selection by Label"
    },
    {
      "metadata": {
        "scrolled": true,
        "trusted": true
      },
      "cell_type": "code",
      "source": "# Selecting via [], which slices the rows.\ndf.loc[dates[0]]",
      "execution_count": 18,
      "outputs": [
        {
          "output_type": "execute_result",
          "execution_count": 18,
          "data": {
            "text/plain": "A    0.378866\nB    0.504119\nC    0.464499\nD   -0.171301\nName: 2013-01-01 00:00:00, dtype: float64"
          },
          "metadata": {}
        }
      ]
    },
    {
      "metadata": {
        "trusted": true
      },
      "cell_type": "code",
      "source": "# Selecting on a multi-axis by label\ndf.loc[:,['A','B']]",
      "execution_count": 19,
      "outputs": [
        {
          "output_type": "execute_result",
          "execution_count": 19,
          "data": {
            "text/html": "<div>\n<style scoped>\n    .dataframe tbody tr th:only-of-type {\n        vertical-align: middle;\n    }\n\n    .dataframe tbody tr th {\n        vertical-align: top;\n    }\n\n    .dataframe thead th {\n        text-align: right;\n    }\n</style>\n<table border=\"1\" class=\"dataframe\">\n  <thead>\n    <tr style=\"text-align: right;\">\n      <th></th>\n      <th>A</th>\n      <th>B</th>\n    </tr>\n  </thead>\n  <tbody>\n    <tr>\n      <th>2013-01-01</th>\n      <td>0.378866</td>\n      <td>0.504119</td>\n    </tr>\n    <tr>\n      <th>2013-01-02</th>\n      <td>-0.002160</td>\n      <td>-1.257661</td>\n    </tr>\n    <tr>\n      <th>2013-01-03</th>\n      <td>-0.201606</td>\n      <td>0.411771</td>\n    </tr>\n    <tr>\n      <th>2013-01-04</th>\n      <td>0.100729</td>\n      <td>-0.288633</td>\n    </tr>\n    <tr>\n      <th>2013-01-05</th>\n      <td>0.319141</td>\n      <td>0.701684</td>\n    </tr>\n    <tr>\n      <th>2013-01-06</th>\n      <td>-1.994991</td>\n      <td>1.471600</td>\n    </tr>\n  </tbody>\n</table>\n</div>",
            "text/plain": "                   A         B\n2013-01-01  0.378866  0.504119\n2013-01-02 -0.002160 -1.257661\n2013-01-03 -0.201606  0.411771\n2013-01-04  0.100729 -0.288633\n2013-01-05  0.319141  0.701684\n2013-01-06 -1.994991  1.471600"
          },
          "metadata": {}
        }
      ]
    },
    {
      "metadata": {
        "trusted": true
      },
      "cell_type": "code",
      "source": "#Showing label slicing, both endpoints are included\ndf.loc[pd.Timestamp('20130102'):pd.Timestamp('20130104'),['A','B']]",
      "execution_count": 20,
      "outputs": [
        {
          "output_type": "execute_result",
          "execution_count": 20,
          "data": {
            "text/html": "<div>\n<style scoped>\n    .dataframe tbody tr th:only-of-type {\n        vertical-align: middle;\n    }\n\n    .dataframe tbody tr th {\n        vertical-align: top;\n    }\n\n    .dataframe thead th {\n        text-align: right;\n    }\n</style>\n<table border=\"1\" class=\"dataframe\">\n  <thead>\n    <tr style=\"text-align: right;\">\n      <th></th>\n      <th>A</th>\n      <th>B</th>\n    </tr>\n  </thead>\n  <tbody>\n    <tr>\n      <th>2013-01-02</th>\n      <td>-0.002160</td>\n      <td>-1.257661</td>\n    </tr>\n    <tr>\n      <th>2013-01-03</th>\n      <td>-0.201606</td>\n      <td>0.411771</td>\n    </tr>\n    <tr>\n      <th>2013-01-04</th>\n      <td>0.100729</td>\n      <td>-0.288633</td>\n    </tr>\n  </tbody>\n</table>\n</div>",
            "text/plain": "                   A         B\n2013-01-02 -0.002160 -1.257661\n2013-01-03 -0.201606  0.411771\n2013-01-04  0.100729 -0.288633"
          },
          "metadata": {}
        }
      ]
    },
    {
      "metadata": {
        "trusted": true
      },
      "cell_type": "code",
      "source": "# Reduction in the dimensions of the returned object\ndf.loc['20130102',['A','B']]",
      "execution_count": 21,
      "outputs": [
        {
          "output_type": "execute_result",
          "execution_count": 21,
          "data": {
            "text/plain": "A   -0.002160\nB   -1.257661\nName: 2013-01-02 00:00:00, dtype: float64"
          },
          "metadata": {}
        }
      ]
    },
    {
      "metadata": {
        "trusted": true
      },
      "cell_type": "code",
      "source": "# For getting a scalar value\ndf.loc[dates[0],'A']",
      "execution_count": 22,
      "outputs": [
        {
          "output_type": "execute_result",
          "execution_count": 22,
          "data": {
            "text/plain": "0.3788662243872122"
          },
          "metadata": {}
        }
      ]
    },
    {
      "metadata": {
        "trusted": true
      },
      "cell_type": "code",
      "source": "# For getting fast access to a scalar (equiv to the prior method)\ndf.at[dates[0],'A']",
      "execution_count": 23,
      "outputs": [
        {
          "output_type": "execute_result",
          "execution_count": 23,
          "data": {
            "text/plain": "0.3788662243872122"
          },
          "metadata": {}
        }
      ]
    },
    {
      "metadata": {},
      "cell_type": "markdown",
      "source": "### selecting by position"
    },
    {
      "metadata": {
        "trusted": true
      },
      "cell_type": "code",
      "source": "# Select via the position of the passed integers\ndf.iloc[3]",
      "execution_count": 24,
      "outputs": [
        {
          "output_type": "execute_result",
          "execution_count": 24,
          "data": {
            "text/plain": "A    0.100729\nB   -0.288633\nC   -1.323152\nD    0.161654\nName: 2013-01-04 00:00:00, dtype: float64"
          },
          "metadata": {}
        }
      ]
    },
    {
      "metadata": {
        "trusted": true
      },
      "cell_type": "code",
      "source": "# By integer slices, acting similar to numpy/python\ndf.iloc[3:5,0:2]",
      "execution_count": 25,
      "outputs": [
        {
          "output_type": "execute_result",
          "execution_count": 25,
          "data": {
            "text/html": "<div>\n<style scoped>\n    .dataframe tbody tr th:only-of-type {\n        vertical-align: middle;\n    }\n\n    .dataframe tbody tr th {\n        vertical-align: top;\n    }\n\n    .dataframe thead th {\n        text-align: right;\n    }\n</style>\n<table border=\"1\" class=\"dataframe\">\n  <thead>\n    <tr style=\"text-align: right;\">\n      <th></th>\n      <th>A</th>\n      <th>B</th>\n    </tr>\n  </thead>\n  <tbody>\n    <tr>\n      <th>2013-01-04</th>\n      <td>0.100729</td>\n      <td>-0.288633</td>\n    </tr>\n    <tr>\n      <th>2013-01-05</th>\n      <td>0.319141</td>\n      <td>0.701684</td>\n    </tr>\n  </tbody>\n</table>\n</div>",
            "text/plain": "                   A         B\n2013-01-04  0.100729 -0.288633\n2013-01-05  0.319141  0.701684"
          },
          "metadata": {}
        }
      ]
    },
    {
      "metadata": {
        "trusted": true
      },
      "cell_type": "code",
      "source": "#By lists of integer position locations, similar to the numpy/python style\ndf.iloc[[1,2,4],[0,2]]",
      "execution_count": 26,
      "outputs": [
        {
          "output_type": "execute_result",
          "execution_count": 26,
          "data": {
            "text/html": "<div>\n<style scoped>\n    .dataframe tbody tr th:only-of-type {\n        vertical-align: middle;\n    }\n\n    .dataframe tbody tr th {\n        vertical-align: top;\n    }\n\n    .dataframe thead th {\n        text-align: right;\n    }\n</style>\n<table border=\"1\" class=\"dataframe\">\n  <thead>\n    <tr style=\"text-align: right;\">\n      <th></th>\n      <th>A</th>\n      <th>C</th>\n    </tr>\n  </thead>\n  <tbody>\n    <tr>\n      <th>2013-01-02</th>\n      <td>-0.002160</td>\n      <td>-2.019852</td>\n    </tr>\n    <tr>\n      <th>2013-01-03</th>\n      <td>-0.201606</td>\n      <td>-1.356667</td>\n    </tr>\n    <tr>\n      <th>2013-01-05</th>\n      <td>0.319141</td>\n      <td>-0.990322</td>\n    </tr>\n  </tbody>\n</table>\n</div>",
            "text/plain": "                   A         C\n2013-01-02 -0.002160 -2.019852\n2013-01-03 -0.201606 -1.356667\n2013-01-05  0.319141 -0.990322"
          },
          "metadata": {}
        }
      ]
    },
    {
      "metadata": {
        "trusted": true
      },
      "cell_type": "code",
      "source": "# For slicing rows explicitly\ndf.iloc[1:3,:]",
      "execution_count": 27,
      "outputs": [
        {
          "output_type": "execute_result",
          "execution_count": 27,
          "data": {
            "text/html": "<div>\n<style scoped>\n    .dataframe tbody tr th:only-of-type {\n        vertical-align: middle;\n    }\n\n    .dataframe tbody tr th {\n        vertical-align: top;\n    }\n\n    .dataframe thead th {\n        text-align: right;\n    }\n</style>\n<table border=\"1\" class=\"dataframe\">\n  <thead>\n    <tr style=\"text-align: right;\">\n      <th></th>\n      <th>A</th>\n      <th>B</th>\n      <th>C</th>\n      <th>D</th>\n    </tr>\n  </thead>\n  <tbody>\n    <tr>\n      <th>2013-01-02</th>\n      <td>-0.002160</td>\n      <td>-1.257661</td>\n      <td>-2.019852</td>\n      <td>-0.898494</td>\n    </tr>\n    <tr>\n      <th>2013-01-03</th>\n      <td>-0.201606</td>\n      <td>0.411771</td>\n      <td>-1.356667</td>\n      <td>-1.785855</td>\n    </tr>\n  </tbody>\n</table>\n</div>",
            "text/plain": "                   A         B         C         D\n2013-01-02 -0.002160 -1.257661 -2.019852 -0.898494\n2013-01-03 -0.201606  0.411771 -1.356667 -1.785855"
          },
          "metadata": {}
        }
      ]
    },
    {
      "metadata": {
        "trusted": true
      },
      "cell_type": "code",
      "source": "# For slicing columns explicitly\ndf.iloc[:,1:3]",
      "execution_count": 28,
      "outputs": [
        {
          "output_type": "execute_result",
          "execution_count": 28,
          "data": {
            "text/html": "<div>\n<style scoped>\n    .dataframe tbody tr th:only-of-type {\n        vertical-align: middle;\n    }\n\n    .dataframe tbody tr th {\n        vertical-align: top;\n    }\n\n    .dataframe thead th {\n        text-align: right;\n    }\n</style>\n<table border=\"1\" class=\"dataframe\">\n  <thead>\n    <tr style=\"text-align: right;\">\n      <th></th>\n      <th>B</th>\n      <th>C</th>\n    </tr>\n  </thead>\n  <tbody>\n    <tr>\n      <th>2013-01-01</th>\n      <td>0.504119</td>\n      <td>0.464499</td>\n    </tr>\n    <tr>\n      <th>2013-01-02</th>\n      <td>-1.257661</td>\n      <td>-2.019852</td>\n    </tr>\n    <tr>\n      <th>2013-01-03</th>\n      <td>0.411771</td>\n      <td>-1.356667</td>\n    </tr>\n    <tr>\n      <th>2013-01-04</th>\n      <td>-0.288633</td>\n      <td>-1.323152</td>\n    </tr>\n    <tr>\n      <th>2013-01-05</th>\n      <td>0.701684</td>\n      <td>-0.990322</td>\n    </tr>\n    <tr>\n      <th>2013-01-06</th>\n      <td>1.471600</td>\n      <td>-2.063802</td>\n    </tr>\n  </tbody>\n</table>\n</div>",
            "text/plain": "                   B         C\n2013-01-01  0.504119  0.464499\n2013-01-02 -1.257661 -2.019852\n2013-01-03  0.411771 -1.356667\n2013-01-04 -0.288633 -1.323152\n2013-01-05  0.701684 -0.990322\n2013-01-06  1.471600 -2.063802"
          },
          "metadata": {}
        }
      ]
    },
    {
      "metadata": {
        "trusted": true
      },
      "cell_type": "code",
      "source": "#For getting a value explicitly\ndf.iloc[1,1]",
      "execution_count": 29,
      "outputs": [
        {
          "output_type": "execute_result",
          "execution_count": 29,
          "data": {
            "text/plain": "-1.2576608555036974"
          },
          "metadata": {}
        }
      ]
    },
    {
      "metadata": {
        "trusted": true
      },
      "cell_type": "code",
      "source": "#For getting fast access to a scalar (equiv to the prior method)\ndf.iat[1,1]",
      "execution_count": 30,
      "outputs": [
        {
          "output_type": "execute_result",
          "execution_count": 30,
          "data": {
            "text/plain": "-1.2576608555036974"
          },
          "metadata": {}
        }
      ]
    },
    {
      "metadata": {},
      "cell_type": "markdown",
      "source": "## Boolean Indexing"
    },
    {
      "metadata": {
        "trusted": true
      },
      "cell_type": "code",
      "source": "# Using a single column’s values to select data.\ndf[df.A > 0]",
      "execution_count": 31,
      "outputs": [
        {
          "output_type": "execute_result",
          "execution_count": 31,
          "data": {
            "text/html": "<div>\n<style scoped>\n    .dataframe tbody tr th:only-of-type {\n        vertical-align: middle;\n    }\n\n    .dataframe tbody tr th {\n        vertical-align: top;\n    }\n\n    .dataframe thead th {\n        text-align: right;\n    }\n</style>\n<table border=\"1\" class=\"dataframe\">\n  <thead>\n    <tr style=\"text-align: right;\">\n      <th></th>\n      <th>A</th>\n      <th>B</th>\n      <th>C</th>\n      <th>D</th>\n    </tr>\n  </thead>\n  <tbody>\n    <tr>\n      <th>2013-01-01</th>\n      <td>0.378866</td>\n      <td>0.504119</td>\n      <td>0.464499</td>\n      <td>-0.171301</td>\n    </tr>\n    <tr>\n      <th>2013-01-04</th>\n      <td>0.100729</td>\n      <td>-0.288633</td>\n      <td>-1.323152</td>\n      <td>0.161654</td>\n    </tr>\n    <tr>\n      <th>2013-01-05</th>\n      <td>0.319141</td>\n      <td>0.701684</td>\n      <td>-0.990322</td>\n      <td>-0.938994</td>\n    </tr>\n  </tbody>\n</table>\n</div>",
            "text/plain": "                   A         B         C         D\n2013-01-01  0.378866  0.504119  0.464499 -0.171301\n2013-01-04  0.100729 -0.288633 -1.323152  0.161654\n2013-01-05  0.319141  0.701684 -0.990322 -0.938994"
          },
          "metadata": {}
        }
      ]
    },
    {
      "metadata": {
        "scrolled": true,
        "trusted": true
      },
      "cell_type": "code",
      "source": "# A where operation for getting.\ndf[df > 0]",
      "execution_count": 32,
      "outputs": [
        {
          "output_type": "execute_result",
          "execution_count": 32,
          "data": {
            "text/html": "<div>\n<style scoped>\n    .dataframe tbody tr th:only-of-type {\n        vertical-align: middle;\n    }\n\n    .dataframe tbody tr th {\n        vertical-align: top;\n    }\n\n    .dataframe thead th {\n        text-align: right;\n    }\n</style>\n<table border=\"1\" class=\"dataframe\">\n  <thead>\n    <tr style=\"text-align: right;\">\n      <th></th>\n      <th>A</th>\n      <th>B</th>\n      <th>C</th>\n      <th>D</th>\n    </tr>\n  </thead>\n  <tbody>\n    <tr>\n      <th>2013-01-01</th>\n      <td>0.378866</td>\n      <td>0.504119</td>\n      <td>0.464499</td>\n      <td>NaN</td>\n    </tr>\n    <tr>\n      <th>2013-01-02</th>\n      <td>NaN</td>\n      <td>NaN</td>\n      <td>NaN</td>\n      <td>NaN</td>\n    </tr>\n    <tr>\n      <th>2013-01-03</th>\n      <td>NaN</td>\n      <td>0.411771</td>\n      <td>NaN</td>\n      <td>NaN</td>\n    </tr>\n    <tr>\n      <th>2013-01-04</th>\n      <td>0.100729</td>\n      <td>NaN</td>\n      <td>NaN</td>\n      <td>0.161654</td>\n    </tr>\n    <tr>\n      <th>2013-01-05</th>\n      <td>0.319141</td>\n      <td>0.701684</td>\n      <td>NaN</td>\n      <td>NaN</td>\n    </tr>\n    <tr>\n      <th>2013-01-06</th>\n      <td>NaN</td>\n      <td>1.471600</td>\n      <td>NaN</td>\n      <td>NaN</td>\n    </tr>\n  </tbody>\n</table>\n</div>",
            "text/plain": "                   A         B         C         D\n2013-01-01  0.378866  0.504119  0.464499       NaN\n2013-01-02       NaN       NaN       NaN       NaN\n2013-01-03       NaN  0.411771       NaN       NaN\n2013-01-04  0.100729       NaN       NaN  0.161654\n2013-01-05  0.319141  0.701684       NaN       NaN\n2013-01-06       NaN  1.471600       NaN       NaN"
          },
          "metadata": {}
        }
      ]
    },
    {
      "metadata": {
        "trusted": true
      },
      "cell_type": "code",
      "source": "# Using the isin() method for filtering:\ndf2 = df.copy()\ndf2['E']=['one', 'one','two','three','four','three']",
      "execution_count": 33,
      "outputs": []
    },
    {
      "metadata": {
        "scrolled": true,
        "trusted": true
      },
      "cell_type": "code",
      "source": "df2",
      "execution_count": 34,
      "outputs": [
        {
          "output_type": "execute_result",
          "execution_count": 34,
          "data": {
            "text/html": "<div>\n<style scoped>\n    .dataframe tbody tr th:only-of-type {\n        vertical-align: middle;\n    }\n\n    .dataframe tbody tr th {\n        vertical-align: top;\n    }\n\n    .dataframe thead th {\n        text-align: right;\n    }\n</style>\n<table border=\"1\" class=\"dataframe\">\n  <thead>\n    <tr style=\"text-align: right;\">\n      <th></th>\n      <th>A</th>\n      <th>B</th>\n      <th>C</th>\n      <th>D</th>\n      <th>E</th>\n    </tr>\n  </thead>\n  <tbody>\n    <tr>\n      <th>2013-01-01</th>\n      <td>0.378866</td>\n      <td>0.504119</td>\n      <td>0.464499</td>\n      <td>-0.171301</td>\n      <td>one</td>\n    </tr>\n    <tr>\n      <th>2013-01-02</th>\n      <td>-0.002160</td>\n      <td>-1.257661</td>\n      <td>-2.019852</td>\n      <td>-0.898494</td>\n      <td>one</td>\n    </tr>\n    <tr>\n      <th>2013-01-03</th>\n      <td>-0.201606</td>\n      <td>0.411771</td>\n      <td>-1.356667</td>\n      <td>-1.785855</td>\n      <td>two</td>\n    </tr>\n    <tr>\n      <th>2013-01-04</th>\n      <td>0.100729</td>\n      <td>-0.288633</td>\n      <td>-1.323152</td>\n      <td>0.161654</td>\n      <td>three</td>\n    </tr>\n    <tr>\n      <th>2013-01-05</th>\n      <td>0.319141</td>\n      <td>0.701684</td>\n      <td>-0.990322</td>\n      <td>-0.938994</td>\n      <td>four</td>\n    </tr>\n    <tr>\n      <th>2013-01-06</th>\n      <td>-1.994991</td>\n      <td>1.471600</td>\n      <td>-2.063802</td>\n      <td>-0.053743</td>\n      <td>three</td>\n    </tr>\n  </tbody>\n</table>\n</div>",
            "text/plain": "                   A         B         C         D      E\n2013-01-01  0.378866  0.504119  0.464499 -0.171301    one\n2013-01-02 -0.002160 -1.257661 -2.019852 -0.898494    one\n2013-01-03 -0.201606  0.411771 -1.356667 -1.785855    two\n2013-01-04  0.100729 -0.288633 -1.323152  0.161654  three\n2013-01-05  0.319141  0.701684 -0.990322 -0.938994   four\n2013-01-06 -1.994991  1.471600 -2.063802 -0.053743  three"
          },
          "metadata": {}
        }
      ]
    },
    {
      "metadata": {
        "trusted": true
      },
      "cell_type": "code",
      "source": "df2[df2['E'].isin(['two','four'])]",
      "execution_count": 35,
      "outputs": [
        {
          "output_type": "execute_result",
          "execution_count": 35,
          "data": {
            "text/html": "<div>\n<style scoped>\n    .dataframe tbody tr th:only-of-type {\n        vertical-align: middle;\n    }\n\n    .dataframe tbody tr th {\n        vertical-align: top;\n    }\n\n    .dataframe thead th {\n        text-align: right;\n    }\n</style>\n<table border=\"1\" class=\"dataframe\">\n  <thead>\n    <tr style=\"text-align: right;\">\n      <th></th>\n      <th>A</th>\n      <th>B</th>\n      <th>C</th>\n      <th>D</th>\n      <th>E</th>\n    </tr>\n  </thead>\n  <tbody>\n    <tr>\n      <th>2013-01-03</th>\n      <td>-0.201606</td>\n      <td>0.411771</td>\n      <td>-1.356667</td>\n      <td>-1.785855</td>\n      <td>two</td>\n    </tr>\n    <tr>\n      <th>2013-01-05</th>\n      <td>0.319141</td>\n      <td>0.701684</td>\n      <td>-0.990322</td>\n      <td>-0.938994</td>\n      <td>four</td>\n    </tr>\n  </tbody>\n</table>\n</div>",
            "text/plain": "                   A         B         C         D     E\n2013-01-03 -0.201606  0.411771 -1.356667 -1.785855   two\n2013-01-05  0.319141  0.701684 -0.990322 -0.938994  four"
          },
          "metadata": {}
        }
      ]
    },
    {
      "metadata": {},
      "cell_type": "markdown",
      "source": "## missing data"
    },
    {
      "metadata": {},
      "cell_type": "markdown",
      "source": "Pandas primarily uses the value np.nan to represent missing data. It is by default not included in computations. \n\nReindexing allows you to change/add/delete the index on a specified axis. This returns a copy of the data."
    },
    {
      "metadata": {
        "trusted": true
      },
      "cell_type": "code",
      "source": "df1 = df.reindex(index=dates[0:4],columns=list(df.columns) + ['E'])",
      "execution_count": 36,
      "outputs": []
    },
    {
      "metadata": {
        "scrolled": true,
        "trusted": true
      },
      "cell_type": "code",
      "source": "df1.loc[dates[0]:dates[1],'E'] = 1",
      "execution_count": 37,
      "outputs": []
    },
    {
      "metadata": {
        "trusted": true
      },
      "cell_type": "code",
      "source": "df1",
      "execution_count": 38,
      "outputs": [
        {
          "output_type": "execute_result",
          "execution_count": 38,
          "data": {
            "text/html": "<div>\n<style scoped>\n    .dataframe tbody tr th:only-of-type {\n        vertical-align: middle;\n    }\n\n    .dataframe tbody tr th {\n        vertical-align: top;\n    }\n\n    .dataframe thead th {\n        text-align: right;\n    }\n</style>\n<table border=\"1\" class=\"dataframe\">\n  <thead>\n    <tr style=\"text-align: right;\">\n      <th></th>\n      <th>A</th>\n      <th>B</th>\n      <th>C</th>\n      <th>D</th>\n      <th>E</th>\n    </tr>\n  </thead>\n  <tbody>\n    <tr>\n      <th>2013-01-01</th>\n      <td>0.378866</td>\n      <td>0.504119</td>\n      <td>0.464499</td>\n      <td>-0.171301</td>\n      <td>1.0</td>\n    </tr>\n    <tr>\n      <th>2013-01-02</th>\n      <td>-0.002160</td>\n      <td>-1.257661</td>\n      <td>-2.019852</td>\n      <td>-0.898494</td>\n      <td>1.0</td>\n    </tr>\n    <tr>\n      <th>2013-01-03</th>\n      <td>-0.201606</td>\n      <td>0.411771</td>\n      <td>-1.356667</td>\n      <td>-1.785855</td>\n      <td>NaN</td>\n    </tr>\n    <tr>\n      <th>2013-01-04</th>\n      <td>0.100729</td>\n      <td>-0.288633</td>\n      <td>-1.323152</td>\n      <td>0.161654</td>\n      <td>NaN</td>\n    </tr>\n  </tbody>\n</table>\n</div>",
            "text/plain": "                   A         B         C         D    E\n2013-01-01  0.378866  0.504119  0.464499 -0.171301  1.0\n2013-01-02 -0.002160 -1.257661 -2.019852 -0.898494  1.0\n2013-01-03 -0.201606  0.411771 -1.356667 -1.785855  NaN\n2013-01-04  0.100729 -0.288633 -1.323152  0.161654  NaN"
          },
          "metadata": {}
        }
      ]
    },
    {
      "metadata": {
        "scrolled": true,
        "trusted": true
      },
      "cell_type": "code",
      "source": "# To drop any rows that have missing data.\ndf1.dropna(how='any')",
      "execution_count": 39,
      "outputs": [
        {
          "output_type": "execute_result",
          "execution_count": 39,
          "data": {
            "text/html": "<div>\n<style scoped>\n    .dataframe tbody tr th:only-of-type {\n        vertical-align: middle;\n    }\n\n    .dataframe tbody tr th {\n        vertical-align: top;\n    }\n\n    .dataframe thead th {\n        text-align: right;\n    }\n</style>\n<table border=\"1\" class=\"dataframe\">\n  <thead>\n    <tr style=\"text-align: right;\">\n      <th></th>\n      <th>A</th>\n      <th>B</th>\n      <th>C</th>\n      <th>D</th>\n      <th>E</th>\n    </tr>\n  </thead>\n  <tbody>\n    <tr>\n      <th>2013-01-01</th>\n      <td>0.378866</td>\n      <td>0.504119</td>\n      <td>0.464499</td>\n      <td>-0.171301</td>\n      <td>1.0</td>\n    </tr>\n    <tr>\n      <th>2013-01-02</th>\n      <td>-0.002160</td>\n      <td>-1.257661</td>\n      <td>-2.019852</td>\n      <td>-0.898494</td>\n      <td>1.0</td>\n    </tr>\n  </tbody>\n</table>\n</div>",
            "text/plain": "                   A         B         C         D    E\n2013-01-01  0.378866  0.504119  0.464499 -0.171301  1.0\n2013-01-02 -0.002160 -1.257661 -2.019852 -0.898494  1.0"
          },
          "metadata": {}
        }
      ]
    },
    {
      "metadata": {
        "trusted": true
      },
      "cell_type": "code",
      "source": "#Filling missing data\ndf1.fillna(value=5)",
      "execution_count": 40,
      "outputs": [
        {
          "output_type": "execute_result",
          "execution_count": 40,
          "data": {
            "text/html": "<div>\n<style scoped>\n    .dataframe tbody tr th:only-of-type {\n        vertical-align: middle;\n    }\n\n    .dataframe tbody tr th {\n        vertical-align: top;\n    }\n\n    .dataframe thead th {\n        text-align: right;\n    }\n</style>\n<table border=\"1\" class=\"dataframe\">\n  <thead>\n    <tr style=\"text-align: right;\">\n      <th></th>\n      <th>A</th>\n      <th>B</th>\n      <th>C</th>\n      <th>D</th>\n      <th>E</th>\n    </tr>\n  </thead>\n  <tbody>\n    <tr>\n      <th>2013-01-01</th>\n      <td>0.378866</td>\n      <td>0.504119</td>\n      <td>0.464499</td>\n      <td>-0.171301</td>\n      <td>1.0</td>\n    </tr>\n    <tr>\n      <th>2013-01-02</th>\n      <td>-0.002160</td>\n      <td>-1.257661</td>\n      <td>-2.019852</td>\n      <td>-0.898494</td>\n      <td>1.0</td>\n    </tr>\n    <tr>\n      <th>2013-01-03</th>\n      <td>-0.201606</td>\n      <td>0.411771</td>\n      <td>-1.356667</td>\n      <td>-1.785855</td>\n      <td>5.0</td>\n    </tr>\n    <tr>\n      <th>2013-01-04</th>\n      <td>0.100729</td>\n      <td>-0.288633</td>\n      <td>-1.323152</td>\n      <td>0.161654</td>\n      <td>5.0</td>\n    </tr>\n  </tbody>\n</table>\n</div>",
            "text/plain": "                   A         B         C         D    E\n2013-01-01  0.378866  0.504119  0.464499 -0.171301  1.0\n2013-01-02 -0.002160 -1.257661 -2.019852 -0.898494  1.0\n2013-01-03 -0.201606  0.411771 -1.356667 -1.785855  5.0\n2013-01-04  0.100729 -0.288633 -1.323152  0.161654  5.0"
          },
          "metadata": {}
        }
      ]
    },
    {
      "metadata": {
        "trusted": true
      },
      "cell_type": "code",
      "source": "# To get the boolean mask where values are nan\npd.isnull(df1)",
      "execution_count": 41,
      "outputs": [
        {
          "output_type": "execute_result",
          "execution_count": 41,
          "data": {
            "text/html": "<div>\n<style scoped>\n    .dataframe tbody tr th:only-of-type {\n        vertical-align: middle;\n    }\n\n    .dataframe tbody tr th {\n        vertical-align: top;\n    }\n\n    .dataframe thead th {\n        text-align: right;\n    }\n</style>\n<table border=\"1\" class=\"dataframe\">\n  <thead>\n    <tr style=\"text-align: right;\">\n      <th></th>\n      <th>A</th>\n      <th>B</th>\n      <th>C</th>\n      <th>D</th>\n      <th>E</th>\n    </tr>\n  </thead>\n  <tbody>\n    <tr>\n      <th>2013-01-01</th>\n      <td>False</td>\n      <td>False</td>\n      <td>False</td>\n      <td>False</td>\n      <td>False</td>\n    </tr>\n    <tr>\n      <th>2013-01-02</th>\n      <td>False</td>\n      <td>False</td>\n      <td>False</td>\n      <td>False</td>\n      <td>False</td>\n    </tr>\n    <tr>\n      <th>2013-01-03</th>\n      <td>False</td>\n      <td>False</td>\n      <td>False</td>\n      <td>False</td>\n      <td>True</td>\n    </tr>\n    <tr>\n      <th>2013-01-04</th>\n      <td>False</td>\n      <td>False</td>\n      <td>False</td>\n      <td>False</td>\n      <td>True</td>\n    </tr>\n  </tbody>\n</table>\n</div>",
            "text/plain": "                A      B      C      D      E\n2013-01-01  False  False  False  False  False\n2013-01-02  False  False  False  False  False\n2013-01-03  False  False  False  False   True\n2013-01-04  False  False  False  False   True"
          },
          "metadata": {}
        }
      ]
    },
    {
      "metadata": {},
      "cell_type": "markdown",
      "source": "# Operations"
    },
    {
      "metadata": {},
      "cell_type": "markdown",
      "source": "## Stats\nOperations in general exclude missing data."
    },
    {
      "metadata": {
        "trusted": true
      },
      "cell_type": "code",
      "source": "# Performing a descriptive statistic\ndf.mean()",
      "execution_count": 42,
      "outputs": [
        {
          "output_type": "execute_result",
          "execution_count": 42,
          "data": {
            "text/plain": "A   -0.233337\nB    0.257147\nC   -1.214883\nD   -0.614456\ndtype: float64"
          },
          "metadata": {}
        }
      ]
    },
    {
      "metadata": {
        "trusted": true
      },
      "cell_type": "code",
      "source": "# Same operation on the other axis\ndf.mean(1)",
      "execution_count": 43,
      "outputs": [
        {
          "output_type": "execute_result",
          "execution_count": 43,
          "data": {
            "text/plain": "2013-01-01    0.294046\n2013-01-02   -1.044542\n2013-01-03   -0.733089\n2013-01-04   -0.337350\n2013-01-05   -0.227123\n2013-01-06   -0.660234\nFreq: D, dtype: float64"
          },
          "metadata": {}
        }
      ]
    },
    {
      "metadata": {
        "trusted": true
      },
      "cell_type": "code",
      "source": "# Operating with objects that have different dimensionality and need alignment. In addition, pandas automatically broadcasts along the specified dimension.\ns = pd.Series([1,3,5,np.nan,6,8],index=dates).shift(2)\ns",
      "execution_count": 44,
      "outputs": [
        {
          "output_type": "execute_result",
          "execution_count": 44,
          "data": {
            "text/plain": "2013-01-01    NaN\n2013-01-02    NaN\n2013-01-03    1.0\n2013-01-04    3.0\n2013-01-05    5.0\n2013-01-06    NaN\nFreq: D, dtype: float64"
          },
          "metadata": {}
        }
      ]
    },
    {
      "metadata": {
        "scrolled": true,
        "trusted": true
      },
      "cell_type": "code",
      "source": "df.sub(s,axis='index')",
      "execution_count": 45,
      "outputs": [
        {
          "output_type": "execute_result",
          "execution_count": 45,
          "data": {
            "text/html": "<div>\n<style scoped>\n    .dataframe tbody tr th:only-of-type {\n        vertical-align: middle;\n    }\n\n    .dataframe tbody tr th {\n        vertical-align: top;\n    }\n\n    .dataframe thead th {\n        text-align: right;\n    }\n</style>\n<table border=\"1\" class=\"dataframe\">\n  <thead>\n    <tr style=\"text-align: right;\">\n      <th></th>\n      <th>A</th>\n      <th>B</th>\n      <th>C</th>\n      <th>D</th>\n    </tr>\n  </thead>\n  <tbody>\n    <tr>\n      <th>2013-01-01</th>\n      <td>NaN</td>\n      <td>NaN</td>\n      <td>NaN</td>\n      <td>NaN</td>\n    </tr>\n    <tr>\n      <th>2013-01-02</th>\n      <td>NaN</td>\n      <td>NaN</td>\n      <td>NaN</td>\n      <td>NaN</td>\n    </tr>\n    <tr>\n      <th>2013-01-03</th>\n      <td>-1.201606</td>\n      <td>-0.588229</td>\n      <td>-2.356667</td>\n      <td>-2.785855</td>\n    </tr>\n    <tr>\n      <th>2013-01-04</th>\n      <td>-2.899271</td>\n      <td>-3.288633</td>\n      <td>-4.323152</td>\n      <td>-2.838346</td>\n    </tr>\n    <tr>\n      <th>2013-01-05</th>\n      <td>-4.680859</td>\n      <td>-4.298316</td>\n      <td>-5.990322</td>\n      <td>-5.938994</td>\n    </tr>\n    <tr>\n      <th>2013-01-06</th>\n      <td>NaN</td>\n      <td>NaN</td>\n      <td>NaN</td>\n      <td>NaN</td>\n    </tr>\n  </tbody>\n</table>\n</div>",
            "text/plain": "                   A         B         C         D\n2013-01-01       NaN       NaN       NaN       NaN\n2013-01-02       NaN       NaN       NaN       NaN\n2013-01-03 -1.201606 -0.588229 -2.356667 -2.785855\n2013-01-04 -2.899271 -3.288633 -4.323152 -2.838346\n2013-01-05 -4.680859 -4.298316 -5.990322 -5.938994\n2013-01-06       NaN       NaN       NaN       NaN"
          },
          "metadata": {}
        }
      ]
    },
    {
      "metadata": {},
      "cell_type": "markdown",
      "source": "## Apply\nApplying functions to the data"
    },
    {
      "metadata": {
        "trusted": true
      },
      "cell_type": "code",
      "source": "df.apply(np.cumsum)",
      "execution_count": 46,
      "outputs": [
        {
          "output_type": "execute_result",
          "execution_count": 46,
          "data": {
            "text/html": "<div>\n<style scoped>\n    .dataframe tbody tr th:only-of-type {\n        vertical-align: middle;\n    }\n\n    .dataframe tbody tr th {\n        vertical-align: top;\n    }\n\n    .dataframe thead th {\n        text-align: right;\n    }\n</style>\n<table border=\"1\" class=\"dataframe\">\n  <thead>\n    <tr style=\"text-align: right;\">\n      <th></th>\n      <th>A</th>\n      <th>B</th>\n      <th>C</th>\n      <th>D</th>\n    </tr>\n  </thead>\n  <tbody>\n    <tr>\n      <th>2013-01-01</th>\n      <td>0.378866</td>\n      <td>0.504119</td>\n      <td>0.464499</td>\n      <td>-0.171301</td>\n    </tr>\n    <tr>\n      <th>2013-01-02</th>\n      <td>0.376706</td>\n      <td>-0.753542</td>\n      <td>-1.555353</td>\n      <td>-1.069795</td>\n    </tr>\n    <tr>\n      <th>2013-01-03</th>\n      <td>0.175100</td>\n      <td>-0.341771</td>\n      <td>-2.912020</td>\n      <td>-2.855650</td>\n    </tr>\n    <tr>\n      <th>2013-01-04</th>\n      <td>0.275829</td>\n      <td>-0.630404</td>\n      <td>-4.235172</td>\n      <td>-2.693996</td>\n    </tr>\n    <tr>\n      <th>2013-01-05</th>\n      <td>0.594970</td>\n      <td>0.071281</td>\n      <td>-5.225494</td>\n      <td>-3.632990</td>\n    </tr>\n    <tr>\n      <th>2013-01-06</th>\n      <td>-1.400021</td>\n      <td>1.542880</td>\n      <td>-7.289296</td>\n      <td>-3.686733</td>\n    </tr>\n  </tbody>\n</table>\n</div>",
            "text/plain": "                   A         B         C         D\n2013-01-01  0.378866  0.504119  0.464499 -0.171301\n2013-01-02  0.376706 -0.753542 -1.555353 -1.069795\n2013-01-03  0.175100 -0.341771 -2.912020 -2.855650\n2013-01-04  0.275829 -0.630404 -4.235172 -2.693996\n2013-01-05  0.594970  0.071281 -5.225494 -3.632990\n2013-01-06 -1.400021  1.542880 -7.289296 -3.686733"
          },
          "metadata": {}
        }
      ]
    },
    {
      "metadata": {
        "trusted": true
      },
      "cell_type": "code",
      "source": "df.apply(lambda x: x.max() - x.min())",
      "execution_count": 47,
      "outputs": [
        {
          "output_type": "execute_result",
          "execution_count": 47,
          "data": {
            "text/plain": "A    2.373858\nB    2.729260\nC    2.528301\nD    1.947510\ndtype: float64"
          },
          "metadata": {}
        }
      ]
    },
    {
      "metadata": {},
      "cell_type": "markdown",
      "source": "## Histogramming"
    },
    {
      "metadata": {
        "scrolled": true,
        "trusted": true
      },
      "cell_type": "code",
      "source": "s = pd.Series(np.random.randint(0,7,size=10))\ns",
      "execution_count": 48,
      "outputs": [
        {
          "output_type": "execute_result",
          "execution_count": 48,
          "data": {
            "text/plain": "0    4\n1    5\n2    4\n3    0\n4    4\n5    3\n6    0\n7    2\n8    3\n9    6\ndtype: int64"
          },
          "metadata": {}
        }
      ]
    },
    {
      "metadata": {
        "trusted": true
      },
      "cell_type": "code",
      "source": "s.value_counts()",
      "execution_count": 49,
      "outputs": [
        {
          "output_type": "execute_result",
          "execution_count": 49,
          "data": {
            "text/plain": "4    3\n3    2\n0    2\n6    1\n5    1\n2    1\ndtype: int64"
          },
          "metadata": {}
        }
      ]
    },
    {
      "metadata": {},
      "cell_type": "markdown",
      "source": "# String Methods\nSeries is equipped with a set of string processing methods in the str attribute that make it easy to operate on each element of the array, as in the code snippet below. Note that pattern-matching in str generally uses regular expressions by default (and in some cases always uses them)."
    },
    {
      "metadata": {
        "trusted": true
      },
      "cell_type": "code",
      "source": "s = pd.Series(['A', 'B', 'C', 'Aaba', 'Baca', np.nan, 'CABA', 'dog', 'cat'])\n\ns.str.lower()",
      "execution_count": 50,
      "outputs": [
        {
          "output_type": "execute_result",
          "execution_count": 50,
          "data": {
            "text/plain": "0       a\n1       b\n2       c\n3    aaba\n4    baca\n5     NaN\n6    caba\n7     dog\n8     cat\ndtype: object"
          },
          "metadata": {}
        }
      ]
    },
    {
      "metadata": {},
      "cell_type": "markdown",
      "source": "# Merge"
    },
    {
      "metadata": {},
      "cell_type": "markdown",
      "source": "## Concat\n\nPandas provides various facilities for easily combining together Series, DataFrame, and Panel objects with various kinds of set logic for the indexes and relational algebra functionality in the case of join / merge-type operations."
    },
    {
      "metadata": {
        "trusted": true
      },
      "cell_type": "code",
      "source": "df = pd.DataFrame(np.random.randn(10, 4))\ndf",
      "execution_count": 51,
      "outputs": [
        {
          "output_type": "execute_result",
          "execution_count": 51,
          "data": {
            "text/html": "<div>\n<style scoped>\n    .dataframe tbody tr th:only-of-type {\n        vertical-align: middle;\n    }\n\n    .dataframe tbody tr th {\n        vertical-align: top;\n    }\n\n    .dataframe thead th {\n        text-align: right;\n    }\n</style>\n<table border=\"1\" class=\"dataframe\">\n  <thead>\n    <tr style=\"text-align: right;\">\n      <th></th>\n      <th>0</th>\n      <th>1</th>\n      <th>2</th>\n      <th>3</th>\n    </tr>\n  </thead>\n  <tbody>\n    <tr>\n      <th>0</th>\n      <td>-0.611264</td>\n      <td>-0.212933</td>\n      <td>0.256423</td>\n      <td>-0.671282</td>\n    </tr>\n    <tr>\n      <th>1</th>\n      <td>1.957363</td>\n      <td>-1.267875</td>\n      <td>-1.805190</td>\n      <td>-1.007707</td>\n    </tr>\n    <tr>\n      <th>2</th>\n      <td>0.308139</td>\n      <td>-0.111322</td>\n      <td>-0.517199</td>\n      <td>0.940925</td>\n    </tr>\n    <tr>\n      <th>3</th>\n      <td>-0.951705</td>\n      <td>-1.330151</td>\n      <td>-0.552584</td>\n      <td>1.170849</td>\n    </tr>\n    <tr>\n      <th>4</th>\n      <td>0.724299</td>\n      <td>0.723344</td>\n      <td>-1.291415</td>\n      <td>0.629146</td>\n    </tr>\n    <tr>\n      <th>5</th>\n      <td>0.011429</td>\n      <td>0.235123</td>\n      <td>-0.863051</td>\n      <td>-0.804096</td>\n    </tr>\n    <tr>\n      <th>6</th>\n      <td>0.444483</td>\n      <td>-1.337166</td>\n      <td>0.114056</td>\n      <td>0.648041</td>\n    </tr>\n    <tr>\n      <th>7</th>\n      <td>-0.505045</td>\n      <td>1.335703</td>\n      <td>-0.676492</td>\n      <td>0.760155</td>\n    </tr>\n    <tr>\n      <th>8</th>\n      <td>-0.716108</td>\n      <td>0.139719</td>\n      <td>0.868435</td>\n      <td>1.480763</td>\n    </tr>\n    <tr>\n      <th>9</th>\n      <td>-1.027664</td>\n      <td>0.378294</td>\n      <td>-0.852323</td>\n      <td>0.284244</td>\n    </tr>\n  </tbody>\n</table>\n</div>",
            "text/plain": "          0         1         2         3\n0 -0.611264 -0.212933  0.256423 -0.671282\n1  1.957363 -1.267875 -1.805190 -1.007707\n2  0.308139 -0.111322 -0.517199  0.940925\n3 -0.951705 -1.330151 -0.552584  1.170849\n4  0.724299  0.723344 -1.291415  0.629146\n5  0.011429  0.235123 -0.863051 -0.804096\n6  0.444483 -1.337166  0.114056  0.648041\n7 -0.505045  1.335703 -0.676492  0.760155\n8 -0.716108  0.139719  0.868435  1.480763\n9 -1.027664  0.378294 -0.852323  0.284244"
          },
          "metadata": {}
        }
      ]
    },
    {
      "metadata": {
        "trusted": true
      },
      "cell_type": "code",
      "source": "# break it into pieces\npieces = [df[:3], df[3:7], df[7:]]",
      "execution_count": 52,
      "outputs": []
    },
    {
      "metadata": {
        "trusted": true
      },
      "cell_type": "code",
      "source": "pd.concat(pieces)",
      "execution_count": 53,
      "outputs": [
        {
          "output_type": "execute_result",
          "execution_count": 53,
          "data": {
            "text/html": "<div>\n<style scoped>\n    .dataframe tbody tr th:only-of-type {\n        vertical-align: middle;\n    }\n\n    .dataframe tbody tr th {\n        vertical-align: top;\n    }\n\n    .dataframe thead th {\n        text-align: right;\n    }\n</style>\n<table border=\"1\" class=\"dataframe\">\n  <thead>\n    <tr style=\"text-align: right;\">\n      <th></th>\n      <th>0</th>\n      <th>1</th>\n      <th>2</th>\n      <th>3</th>\n    </tr>\n  </thead>\n  <tbody>\n    <tr>\n      <th>0</th>\n      <td>-0.611264</td>\n      <td>-0.212933</td>\n      <td>0.256423</td>\n      <td>-0.671282</td>\n    </tr>\n    <tr>\n      <th>1</th>\n      <td>1.957363</td>\n      <td>-1.267875</td>\n      <td>-1.805190</td>\n      <td>-1.007707</td>\n    </tr>\n    <tr>\n      <th>2</th>\n      <td>0.308139</td>\n      <td>-0.111322</td>\n      <td>-0.517199</td>\n      <td>0.940925</td>\n    </tr>\n    <tr>\n      <th>3</th>\n      <td>-0.951705</td>\n      <td>-1.330151</td>\n      <td>-0.552584</td>\n      <td>1.170849</td>\n    </tr>\n    <tr>\n      <th>4</th>\n      <td>0.724299</td>\n      <td>0.723344</td>\n      <td>-1.291415</td>\n      <td>0.629146</td>\n    </tr>\n    <tr>\n      <th>5</th>\n      <td>0.011429</td>\n      <td>0.235123</td>\n      <td>-0.863051</td>\n      <td>-0.804096</td>\n    </tr>\n    <tr>\n      <th>6</th>\n      <td>0.444483</td>\n      <td>-1.337166</td>\n      <td>0.114056</td>\n      <td>0.648041</td>\n    </tr>\n    <tr>\n      <th>7</th>\n      <td>-0.505045</td>\n      <td>1.335703</td>\n      <td>-0.676492</td>\n      <td>0.760155</td>\n    </tr>\n    <tr>\n      <th>8</th>\n      <td>-0.716108</td>\n      <td>0.139719</td>\n      <td>0.868435</td>\n      <td>1.480763</td>\n    </tr>\n    <tr>\n      <th>9</th>\n      <td>-1.027664</td>\n      <td>0.378294</td>\n      <td>-0.852323</td>\n      <td>0.284244</td>\n    </tr>\n  </tbody>\n</table>\n</div>",
            "text/plain": "          0         1         2         3\n0 -0.611264 -0.212933  0.256423 -0.671282\n1  1.957363 -1.267875 -1.805190 -1.007707\n2  0.308139 -0.111322 -0.517199  0.940925\n3 -0.951705 -1.330151 -0.552584  1.170849\n4  0.724299  0.723344 -1.291415  0.629146\n5  0.011429  0.235123 -0.863051 -0.804096\n6  0.444483 -1.337166  0.114056  0.648041\n7 -0.505045  1.335703 -0.676492  0.760155\n8 -0.716108  0.139719  0.868435  1.480763\n9 -1.027664  0.378294 -0.852323  0.284244"
          },
          "metadata": {}
        }
      ]
    },
    {
      "metadata": {},
      "cell_type": "markdown",
      "source": "## Join\nSQL style merges."
    },
    {
      "metadata": {
        "trusted": true
      },
      "cell_type": "code",
      "source": "left = pd.DataFrame({'key': ['foo', 'foo'], 'lval': [1, 2]})",
      "execution_count": 54,
      "outputs": []
    },
    {
      "metadata": {
        "trusted": true
      },
      "cell_type": "code",
      "source": "right = pd.DataFrame({'key': ['foo', 'foo'], 'rval': [4, 5]})",
      "execution_count": 55,
      "outputs": []
    },
    {
      "metadata": {
        "trusted": true
      },
      "cell_type": "code",
      "source": "left",
      "execution_count": 56,
      "outputs": [
        {
          "output_type": "execute_result",
          "execution_count": 56,
          "data": {
            "text/html": "<div>\n<style scoped>\n    .dataframe tbody tr th:only-of-type {\n        vertical-align: middle;\n    }\n\n    .dataframe tbody tr th {\n        vertical-align: top;\n    }\n\n    .dataframe thead th {\n        text-align: right;\n    }\n</style>\n<table border=\"1\" class=\"dataframe\">\n  <thead>\n    <tr style=\"text-align: right;\">\n      <th></th>\n      <th>key</th>\n      <th>lval</th>\n    </tr>\n  </thead>\n  <tbody>\n    <tr>\n      <th>0</th>\n      <td>foo</td>\n      <td>1</td>\n    </tr>\n    <tr>\n      <th>1</th>\n      <td>foo</td>\n      <td>2</td>\n    </tr>\n  </tbody>\n</table>\n</div>",
            "text/plain": "   key  lval\n0  foo     1\n1  foo     2"
          },
          "metadata": {}
        }
      ]
    },
    {
      "metadata": {
        "trusted": true
      },
      "cell_type": "code",
      "source": "right",
      "execution_count": 57,
      "outputs": [
        {
          "output_type": "execute_result",
          "execution_count": 57,
          "data": {
            "text/html": "<div>\n<style scoped>\n    .dataframe tbody tr th:only-of-type {\n        vertical-align: middle;\n    }\n\n    .dataframe tbody tr th {\n        vertical-align: top;\n    }\n\n    .dataframe thead th {\n        text-align: right;\n    }\n</style>\n<table border=\"1\" class=\"dataframe\">\n  <thead>\n    <tr style=\"text-align: right;\">\n      <th></th>\n      <th>key</th>\n      <th>rval</th>\n    </tr>\n  </thead>\n  <tbody>\n    <tr>\n      <th>0</th>\n      <td>foo</td>\n      <td>4</td>\n    </tr>\n    <tr>\n      <th>1</th>\n      <td>foo</td>\n      <td>5</td>\n    </tr>\n  </tbody>\n</table>\n</div>",
            "text/plain": "   key  rval\n0  foo     4\n1  foo     5"
          },
          "metadata": {}
        }
      ]
    },
    {
      "metadata": {
        "trusted": true
      },
      "cell_type": "code",
      "source": "pd.merge(left, right, on='key')",
      "execution_count": 58,
      "outputs": [
        {
          "output_type": "execute_result",
          "execution_count": 58,
          "data": {
            "text/html": "<div>\n<style scoped>\n    .dataframe tbody tr th:only-of-type {\n        vertical-align: middle;\n    }\n\n    .dataframe tbody tr th {\n        vertical-align: top;\n    }\n\n    .dataframe thead th {\n        text-align: right;\n    }\n</style>\n<table border=\"1\" class=\"dataframe\">\n  <thead>\n    <tr style=\"text-align: right;\">\n      <th></th>\n      <th>key</th>\n      <th>lval</th>\n      <th>rval</th>\n    </tr>\n  </thead>\n  <tbody>\n    <tr>\n      <th>0</th>\n      <td>foo</td>\n      <td>1</td>\n      <td>4</td>\n    </tr>\n    <tr>\n      <th>1</th>\n      <td>foo</td>\n      <td>1</td>\n      <td>5</td>\n    </tr>\n    <tr>\n      <th>2</th>\n      <td>foo</td>\n      <td>2</td>\n      <td>4</td>\n    </tr>\n    <tr>\n      <th>3</th>\n      <td>foo</td>\n      <td>2</td>\n      <td>5</td>\n    </tr>\n  </tbody>\n</table>\n</div>",
            "text/plain": "   key  lval  rval\n0  foo     1     4\n1  foo     1     5\n2  foo     2     4\n3  foo     2     5"
          },
          "metadata": {}
        }
      ]
    },
    {
      "metadata": {
        "trusted": true
      },
      "cell_type": "code",
      "source": "## Append Append rows to a dataframe",
      "execution_count": 59,
      "outputs": []
    },
    {
      "metadata": {
        "trusted": true
      },
      "cell_type": "code",
      "source": "df = pd.DataFrame(np.random.randn(8, 4), columns=['A','B','C','D'])\ndf",
      "execution_count": 60,
      "outputs": [
        {
          "output_type": "execute_result",
          "execution_count": 60,
          "data": {
            "text/html": "<div>\n<style scoped>\n    .dataframe tbody tr th:only-of-type {\n        vertical-align: middle;\n    }\n\n    .dataframe tbody tr th {\n        vertical-align: top;\n    }\n\n    .dataframe thead th {\n        text-align: right;\n    }\n</style>\n<table border=\"1\" class=\"dataframe\">\n  <thead>\n    <tr style=\"text-align: right;\">\n      <th></th>\n      <th>A</th>\n      <th>B</th>\n      <th>C</th>\n      <th>D</th>\n    </tr>\n  </thead>\n  <tbody>\n    <tr>\n      <th>0</th>\n      <td>0.195164</td>\n      <td>1.324728</td>\n      <td>0.222723</td>\n      <td>-0.606958</td>\n    </tr>\n    <tr>\n      <th>1</th>\n      <td>-0.321575</td>\n      <td>-0.795861</td>\n      <td>0.488580</td>\n      <td>1.489665</td>\n    </tr>\n    <tr>\n      <th>2</th>\n      <td>-0.183220</td>\n      <td>-0.326759</td>\n      <td>0.419601</td>\n      <td>-0.615405</td>\n    </tr>\n    <tr>\n      <th>3</th>\n      <td>-0.013440</td>\n      <td>-0.419009</td>\n      <td>-0.501189</td>\n      <td>-0.292469</td>\n    </tr>\n    <tr>\n      <th>4</th>\n      <td>1.383113</td>\n      <td>0.657937</td>\n      <td>1.329530</td>\n      <td>1.334977</td>\n    </tr>\n    <tr>\n      <th>5</th>\n      <td>0.692911</td>\n      <td>0.022253</td>\n      <td>-0.699612</td>\n      <td>-1.126033</td>\n    </tr>\n    <tr>\n      <th>6</th>\n      <td>-0.659687</td>\n      <td>-0.419730</td>\n      <td>-1.136536</td>\n      <td>-0.704735</td>\n    </tr>\n    <tr>\n      <th>7</th>\n      <td>-0.096768</td>\n      <td>-0.877521</td>\n      <td>-0.038830</td>\n      <td>-0.704820</td>\n    </tr>\n  </tbody>\n</table>\n</div>",
            "text/plain": "          A         B         C         D\n0  0.195164  1.324728  0.222723 -0.606958\n1 -0.321575 -0.795861  0.488580  1.489665\n2 -0.183220 -0.326759  0.419601 -0.615405\n3 -0.013440 -0.419009 -0.501189 -0.292469\n4  1.383113  0.657937  1.329530  1.334977\n5  0.692911  0.022253 -0.699612 -1.126033\n6 -0.659687 -0.419730 -1.136536 -0.704735\n7 -0.096768 -0.877521 -0.038830 -0.704820"
          },
          "metadata": {}
        }
      ]
    },
    {
      "metadata": {
        "trusted": true
      },
      "cell_type": "code",
      "source": "s = df.iloc[3]",
      "execution_count": 61,
      "outputs": []
    },
    {
      "metadata": {
        "scrolled": true,
        "trusted": true
      },
      "cell_type": "code",
      "source": "df.append(s, ignore_index=True)",
      "execution_count": 62,
      "outputs": [
        {
          "output_type": "execute_result",
          "execution_count": 62,
          "data": {
            "text/html": "<div>\n<style scoped>\n    .dataframe tbody tr th:only-of-type {\n        vertical-align: middle;\n    }\n\n    .dataframe tbody tr th {\n        vertical-align: top;\n    }\n\n    .dataframe thead th {\n        text-align: right;\n    }\n</style>\n<table border=\"1\" class=\"dataframe\">\n  <thead>\n    <tr style=\"text-align: right;\">\n      <th></th>\n      <th>A</th>\n      <th>B</th>\n      <th>C</th>\n      <th>D</th>\n    </tr>\n  </thead>\n  <tbody>\n    <tr>\n      <th>0</th>\n      <td>0.195164</td>\n      <td>1.324728</td>\n      <td>0.222723</td>\n      <td>-0.606958</td>\n    </tr>\n    <tr>\n      <th>1</th>\n      <td>-0.321575</td>\n      <td>-0.795861</td>\n      <td>0.488580</td>\n      <td>1.489665</td>\n    </tr>\n    <tr>\n      <th>2</th>\n      <td>-0.183220</td>\n      <td>-0.326759</td>\n      <td>0.419601</td>\n      <td>-0.615405</td>\n    </tr>\n    <tr>\n      <th>3</th>\n      <td>-0.013440</td>\n      <td>-0.419009</td>\n      <td>-0.501189</td>\n      <td>-0.292469</td>\n    </tr>\n    <tr>\n      <th>4</th>\n      <td>1.383113</td>\n      <td>0.657937</td>\n      <td>1.329530</td>\n      <td>1.334977</td>\n    </tr>\n    <tr>\n      <th>5</th>\n      <td>0.692911</td>\n      <td>0.022253</td>\n      <td>-0.699612</td>\n      <td>-1.126033</td>\n    </tr>\n    <tr>\n      <th>6</th>\n      <td>-0.659687</td>\n      <td>-0.419730</td>\n      <td>-1.136536</td>\n      <td>-0.704735</td>\n    </tr>\n    <tr>\n      <th>7</th>\n      <td>-0.096768</td>\n      <td>-0.877521</td>\n      <td>-0.038830</td>\n      <td>-0.704820</td>\n    </tr>\n    <tr>\n      <th>8</th>\n      <td>-0.013440</td>\n      <td>-0.419009</td>\n      <td>-0.501189</td>\n      <td>-0.292469</td>\n    </tr>\n  </tbody>\n</table>\n</div>",
            "text/plain": "          A         B         C         D\n0  0.195164  1.324728  0.222723 -0.606958\n1 -0.321575 -0.795861  0.488580  1.489665\n2 -0.183220 -0.326759  0.419601 -0.615405\n3 -0.013440 -0.419009 -0.501189 -0.292469\n4  1.383113  0.657937  1.329530  1.334977\n5  0.692911  0.022253 -0.699612 -1.126033\n6 -0.659687 -0.419730 -1.136536 -0.704735\n7 -0.096768 -0.877521 -0.038830 -0.704820\n8 -0.013440 -0.419009 -0.501189 -0.292469"
          },
          "metadata": {}
        }
      ]
    },
    {
      "metadata": {},
      "cell_type": "markdown",
      "source": "## Grouping\nBy “group by” we are referring to a process involving one or more of the following steps\n\nSplitting the data into groups based on some criteria\nApplying a function to each group independently\nCombining the results into a data structure"
    },
    {
      "metadata": {
        "scrolled": true,
        "trusted": true
      },
      "cell_type": "code",
      "source": " df = pd.DataFrame({'A' : ['foo', 'bar', 'foo', 'bar',\n   ....:                          'foo', 'bar', 'foo', 'foo'],\n   ....:                    'B' : ['one', 'one', 'two', 'three',\n   ....:                          'two', 'two', 'one', 'three'],\n   ....:                    'C' : np.random.randn(8),\n   ....:                    'D' : np.random.randn(8)})\n    \ndf",
      "execution_count": 63,
      "outputs": [
        {
          "output_type": "execute_result",
          "execution_count": 63,
          "data": {
            "text/html": "<div>\n<style scoped>\n    .dataframe tbody tr th:only-of-type {\n        vertical-align: middle;\n    }\n\n    .dataframe tbody tr th {\n        vertical-align: top;\n    }\n\n    .dataframe thead th {\n        text-align: right;\n    }\n</style>\n<table border=\"1\" class=\"dataframe\">\n  <thead>\n    <tr style=\"text-align: right;\">\n      <th></th>\n      <th>A</th>\n      <th>B</th>\n      <th>C</th>\n      <th>D</th>\n    </tr>\n  </thead>\n  <tbody>\n    <tr>\n      <th>0</th>\n      <td>foo</td>\n      <td>one</td>\n      <td>1.771627</td>\n      <td>1.582669</td>\n    </tr>\n    <tr>\n      <th>1</th>\n      <td>bar</td>\n      <td>one</td>\n      <td>-0.856327</td>\n      <td>0.176162</td>\n    </tr>\n    <tr>\n      <th>2</th>\n      <td>foo</td>\n      <td>two</td>\n      <td>1.574207</td>\n      <td>-0.737903</td>\n    </tr>\n    <tr>\n      <th>3</th>\n      <td>bar</td>\n      <td>three</td>\n      <td>1.836078</td>\n      <td>-1.060784</td>\n    </tr>\n    <tr>\n      <th>4</th>\n      <td>foo</td>\n      <td>two</td>\n      <td>1.372603</td>\n      <td>-1.834043</td>\n    </tr>\n    <tr>\n      <th>5</th>\n      <td>bar</td>\n      <td>two</td>\n      <td>0.583202</td>\n      <td>0.118357</td>\n    </tr>\n    <tr>\n      <th>6</th>\n      <td>foo</td>\n      <td>one</td>\n      <td>-1.319198</td>\n      <td>-0.503940</td>\n    </tr>\n    <tr>\n      <th>7</th>\n      <td>foo</td>\n      <td>three</td>\n      <td>-0.574550</td>\n      <td>-0.618069</td>\n    </tr>\n  </tbody>\n</table>\n</div>",
            "text/plain": "     A      B         C         D\n0  foo    one  1.771627  1.582669\n1  bar    one -0.856327  0.176162\n2  foo    two  1.574207 -0.737903\n3  bar  three  1.836078 -1.060784\n4  foo    two  1.372603 -1.834043\n5  bar    two  0.583202  0.118357\n6  foo    one -1.319198 -0.503940\n7  foo  three -0.574550 -0.618069"
          },
          "metadata": {}
        }
      ]
    },
    {
      "metadata": {
        "scrolled": true,
        "trusted": true
      },
      "cell_type": "code",
      "source": "# Grouping and then applying a function sum to the resulting groups\ndf.groupby('A').sum()",
      "execution_count": 64,
      "outputs": [
        {
          "output_type": "execute_result",
          "execution_count": 64,
          "data": {
            "text/html": "<div>\n<style scoped>\n    .dataframe tbody tr th:only-of-type {\n        vertical-align: middle;\n    }\n\n    .dataframe tbody tr th {\n        vertical-align: top;\n    }\n\n    .dataframe thead th {\n        text-align: right;\n    }\n</style>\n<table border=\"1\" class=\"dataframe\">\n  <thead>\n    <tr style=\"text-align: right;\">\n      <th></th>\n      <th>C</th>\n      <th>D</th>\n    </tr>\n    <tr>\n      <th>A</th>\n      <th></th>\n      <th></th>\n    </tr>\n  </thead>\n  <tbody>\n    <tr>\n      <th>bar</th>\n      <td>1.562953</td>\n      <td>-0.766264</td>\n    </tr>\n    <tr>\n      <th>foo</th>\n      <td>2.824689</td>\n      <td>-2.111286</td>\n    </tr>\n  </tbody>\n</table>\n</div>",
            "text/plain": "            C         D\nA                      \nbar  1.562953 -0.766264\nfoo  2.824689 -2.111286"
          },
          "metadata": {}
        }
      ]
    },
    {
      "metadata": {
        "scrolled": true,
        "trusted": true
      },
      "cell_type": "code",
      "source": "#Grouping by multiple columns forms a hierarchical index, which we then apply the function.\ndf.groupby(['A','B']).sum()",
      "execution_count": 65,
      "outputs": [
        {
          "output_type": "execute_result",
          "execution_count": 65,
          "data": {
            "text/html": "<div>\n<style scoped>\n    .dataframe tbody tr th:only-of-type {\n        vertical-align: middle;\n    }\n\n    .dataframe tbody tr th {\n        vertical-align: top;\n    }\n\n    .dataframe thead th {\n        text-align: right;\n    }\n</style>\n<table border=\"1\" class=\"dataframe\">\n  <thead>\n    <tr style=\"text-align: right;\">\n      <th></th>\n      <th></th>\n      <th>C</th>\n      <th>D</th>\n    </tr>\n    <tr>\n      <th>A</th>\n      <th>B</th>\n      <th></th>\n      <th></th>\n    </tr>\n  </thead>\n  <tbody>\n    <tr>\n      <th rowspan=\"3\" valign=\"top\">bar</th>\n      <th>one</th>\n      <td>-0.856327</td>\n      <td>0.176162</td>\n    </tr>\n    <tr>\n      <th>three</th>\n      <td>1.836078</td>\n      <td>-1.060784</td>\n    </tr>\n    <tr>\n      <th>two</th>\n      <td>0.583202</td>\n      <td>0.118357</td>\n    </tr>\n    <tr>\n      <th rowspan=\"3\" valign=\"top\">foo</th>\n      <th>one</th>\n      <td>0.452430</td>\n      <td>1.078729</td>\n    </tr>\n    <tr>\n      <th>three</th>\n      <td>-0.574550</td>\n      <td>-0.618069</td>\n    </tr>\n    <tr>\n      <th>two</th>\n      <td>2.946810</td>\n      <td>-2.571946</td>\n    </tr>\n  </tbody>\n</table>\n</div>",
            "text/plain": "                  C         D\nA   B                        \nbar one   -0.856327  0.176162\n    three  1.836078 -1.060784\n    two    0.583202  0.118357\nfoo one    0.452430  1.078729\n    three -0.574550 -0.618069\n    two    2.946810 -2.571946"
          },
          "metadata": {}
        }
      ]
    },
    {
      "metadata": {},
      "cell_type": "markdown",
      "source": "## Reshaping"
    },
    {
      "metadata": {
        "scrolled": true,
        "trusted": true
      },
      "cell_type": "code",
      "source": "tuples = list(zip(*[['bar', 'bar', 'baz', 'baz',\n                         'foo', 'foo', 'qux', 'qux'],\n                        ['one', 'two', 'one', 'two',\n                         'one', 'two', 'one', 'two']]))\ntuples",
      "execution_count": 66,
      "outputs": [
        {
          "output_type": "execute_result",
          "execution_count": 66,
          "data": {
            "text/plain": "[('bar', 'one'),\n ('bar', 'two'),\n ('baz', 'one'),\n ('baz', 'two'),\n ('foo', 'one'),\n ('foo', 'two'),\n ('qux', 'one'),\n ('qux', 'two')]"
          },
          "metadata": {}
        }
      ]
    },
    {
      "metadata": {
        "trusted": true
      },
      "cell_type": "code",
      "source": "index = pd.MultiIndex.from_tuples(tuples, names=['first', 'second'])",
      "execution_count": 67,
      "outputs": []
    },
    {
      "metadata": {
        "trusted": true
      },
      "cell_type": "code",
      "source": "df = pd.DataFrame(np.random.randn(8, 2), index=index, columns=['A', 'B'])",
      "execution_count": 68,
      "outputs": []
    },
    {
      "metadata": {
        "scrolled": true,
        "trusted": true
      },
      "cell_type": "code",
      "source": "df2 = df[:4]\ndf2",
      "execution_count": 69,
      "outputs": [
        {
          "output_type": "execute_result",
          "execution_count": 69,
          "data": {
            "text/html": "<div>\n<style scoped>\n    .dataframe tbody tr th:only-of-type {\n        vertical-align: middle;\n    }\n\n    .dataframe tbody tr th {\n        vertical-align: top;\n    }\n\n    .dataframe thead th {\n        text-align: right;\n    }\n</style>\n<table border=\"1\" class=\"dataframe\">\n  <thead>\n    <tr style=\"text-align: right;\">\n      <th></th>\n      <th></th>\n      <th>A</th>\n      <th>B</th>\n    </tr>\n    <tr>\n      <th>first</th>\n      <th>second</th>\n      <th></th>\n      <th></th>\n    </tr>\n  </thead>\n  <tbody>\n    <tr>\n      <th rowspan=\"2\" valign=\"top\">bar</th>\n      <th>one</th>\n      <td>-0.455406</td>\n      <td>-0.776401</td>\n    </tr>\n    <tr>\n      <th>two</th>\n      <td>1.278701</td>\n      <td>-0.188073</td>\n    </tr>\n    <tr>\n      <th rowspan=\"2\" valign=\"top\">baz</th>\n      <th>one</th>\n      <td>-0.208782</td>\n      <td>-1.315471</td>\n    </tr>\n    <tr>\n      <th>two</th>\n      <td>-0.725471</td>\n      <td>0.396161</td>\n    </tr>\n  </tbody>\n</table>\n</div>",
            "text/plain": "                     A         B\nfirst second                    \nbar   one    -0.455406 -0.776401\n      two     1.278701 -0.188073\nbaz   one    -0.208782 -1.315471\n      two    -0.725471  0.396161"
          },
          "metadata": {}
        }
      ]
    },
    {
      "metadata": {
        "scrolled": true,
        "trusted": true
      },
      "cell_type": "code",
      "source": "#The stack function “compresses” a level in the DataFrame’s columns.\nstacked = df2.stack()\nstacked",
      "execution_count": 70,
      "outputs": [
        {
          "output_type": "execute_result",
          "execution_count": 70,
          "data": {
            "text/plain": "first  second   \nbar    one     A   -0.455406\n               B   -0.776401\n       two     A    1.278701\n               B   -0.188073\nbaz    one     A   -0.208782\n               B   -1.315471\n       two     A   -0.725471\n               B    0.396161\ndtype: float64"
          },
          "metadata": {}
        }
      ]
    },
    {
      "metadata": {
        "trusted": true
      },
      "cell_type": "code",
      "source": "# With a “stacked” DataFrame or Series (having a MultiIndex as the index), the inverse operation of stack is unstack, which by default unstacks the last level:\nstacked.unstack()",
      "execution_count": 71,
      "outputs": [
        {
          "output_type": "execute_result",
          "execution_count": 71,
          "data": {
            "text/html": "<div>\n<style scoped>\n    .dataframe tbody tr th:only-of-type {\n        vertical-align: middle;\n    }\n\n    .dataframe tbody tr th {\n        vertical-align: top;\n    }\n\n    .dataframe thead th {\n        text-align: right;\n    }\n</style>\n<table border=\"1\" class=\"dataframe\">\n  <thead>\n    <tr style=\"text-align: right;\">\n      <th></th>\n      <th></th>\n      <th>A</th>\n      <th>B</th>\n    </tr>\n    <tr>\n      <th>first</th>\n      <th>second</th>\n      <th></th>\n      <th></th>\n    </tr>\n  </thead>\n  <tbody>\n    <tr>\n      <th rowspan=\"2\" valign=\"top\">bar</th>\n      <th>one</th>\n      <td>-0.455406</td>\n      <td>-0.776401</td>\n    </tr>\n    <tr>\n      <th>two</th>\n      <td>1.278701</td>\n      <td>-0.188073</td>\n    </tr>\n    <tr>\n      <th rowspan=\"2\" valign=\"top\">baz</th>\n      <th>one</th>\n      <td>-0.208782</td>\n      <td>-1.315471</td>\n    </tr>\n    <tr>\n      <th>two</th>\n      <td>-0.725471</td>\n      <td>0.396161</td>\n    </tr>\n  </tbody>\n</table>\n</div>",
            "text/plain": "                     A         B\nfirst second                    \nbar   one    -0.455406 -0.776401\n      two     1.278701 -0.188073\nbaz   one    -0.208782 -1.315471\n      two    -0.725471  0.396161"
          },
          "metadata": {}
        }
      ]
    },
    {
      "metadata": {
        "trusted": true
      },
      "cell_type": "code",
      "source": "stacked.unstack(1)",
      "execution_count": 72,
      "outputs": [
        {
          "output_type": "execute_result",
          "execution_count": 72,
          "data": {
            "text/html": "<div>\n<style scoped>\n    .dataframe tbody tr th:only-of-type {\n        vertical-align: middle;\n    }\n\n    .dataframe tbody tr th {\n        vertical-align: top;\n    }\n\n    .dataframe thead th {\n        text-align: right;\n    }\n</style>\n<table border=\"1\" class=\"dataframe\">\n  <thead>\n    <tr style=\"text-align: right;\">\n      <th></th>\n      <th>second</th>\n      <th>one</th>\n      <th>two</th>\n    </tr>\n    <tr>\n      <th>first</th>\n      <th></th>\n      <th></th>\n      <th></th>\n    </tr>\n  </thead>\n  <tbody>\n    <tr>\n      <th rowspan=\"2\" valign=\"top\">bar</th>\n      <th>A</th>\n      <td>-0.455406</td>\n      <td>1.278701</td>\n    </tr>\n    <tr>\n      <th>B</th>\n      <td>-0.776401</td>\n      <td>-0.188073</td>\n    </tr>\n    <tr>\n      <th rowspan=\"2\" valign=\"top\">baz</th>\n      <th>A</th>\n      <td>-0.208782</td>\n      <td>-0.725471</td>\n    </tr>\n    <tr>\n      <th>B</th>\n      <td>-1.315471</td>\n      <td>0.396161</td>\n    </tr>\n  </tbody>\n</table>\n</div>",
            "text/plain": "second        one       two\nfirst                      \nbar   A -0.455406  1.278701\n      B -0.776401 -0.188073\nbaz   A -0.208782 -0.725471\n      B -1.315471  0.396161"
          },
          "metadata": {}
        }
      ]
    },
    {
      "metadata": {
        "trusted": true
      },
      "cell_type": "code",
      "source": "stacked.unstack(0)",
      "execution_count": 73,
      "outputs": [
        {
          "output_type": "execute_result",
          "execution_count": 73,
          "data": {
            "text/html": "<div>\n<style scoped>\n    .dataframe tbody tr th:only-of-type {\n        vertical-align: middle;\n    }\n\n    .dataframe tbody tr th {\n        vertical-align: top;\n    }\n\n    .dataframe thead th {\n        text-align: right;\n    }\n</style>\n<table border=\"1\" class=\"dataframe\">\n  <thead>\n    <tr style=\"text-align: right;\">\n      <th></th>\n      <th>first</th>\n      <th>bar</th>\n      <th>baz</th>\n    </tr>\n    <tr>\n      <th>second</th>\n      <th></th>\n      <th></th>\n      <th></th>\n    </tr>\n  </thead>\n  <tbody>\n    <tr>\n      <th rowspan=\"2\" valign=\"top\">one</th>\n      <th>A</th>\n      <td>-0.455406</td>\n      <td>-0.208782</td>\n    </tr>\n    <tr>\n      <th>B</th>\n      <td>-0.776401</td>\n      <td>-1.315471</td>\n    </tr>\n    <tr>\n      <th rowspan=\"2\" valign=\"top\">two</th>\n      <th>A</th>\n      <td>1.278701</td>\n      <td>-0.725471</td>\n    </tr>\n    <tr>\n      <th>B</th>\n      <td>-0.188073</td>\n      <td>0.396161</td>\n    </tr>\n  </tbody>\n</table>\n</div>",
            "text/plain": "first          bar       baz\nsecond                      \none    A -0.455406 -0.208782\n       B -0.776401 -1.315471\ntwo    A  1.278701 -0.725471\n       B -0.188073  0.396161"
          },
          "metadata": {}
        }
      ]
    },
    {
      "metadata": {
        "trusted": true
      },
      "cell_type": "code",
      "source": "## Pivot Tables",
      "execution_count": 74,
      "outputs": []
    },
    {
      "metadata": {
        "scrolled": true,
        "trusted": true
      },
      "cell_type": "code",
      "source": "df = pd.DataFrame({'A' : ['one', 'one', 'two', 'three'] * 3,\n   .....:                    'B' : ['A', 'B', 'C'] * 4,\n   .....:                    'C' : ['foo', 'foo', 'foo', 'bar', 'bar', 'bar'] * 2,\n   .....:                    'D' : np.random.randn(12),\n   .....:                    'E' : np.random.randn(12)})\ndf",
      "execution_count": 75,
      "outputs": [
        {
          "output_type": "execute_result",
          "execution_count": 75,
          "data": {
            "text/html": "<div>\n<style scoped>\n    .dataframe tbody tr th:only-of-type {\n        vertical-align: middle;\n    }\n\n    .dataframe tbody tr th {\n        vertical-align: top;\n    }\n\n    .dataframe thead th {\n        text-align: right;\n    }\n</style>\n<table border=\"1\" class=\"dataframe\">\n  <thead>\n    <tr style=\"text-align: right;\">\n      <th></th>\n      <th>A</th>\n      <th>B</th>\n      <th>C</th>\n      <th>D</th>\n      <th>E</th>\n    </tr>\n  </thead>\n  <tbody>\n    <tr>\n      <th>0</th>\n      <td>one</td>\n      <td>A</td>\n      <td>foo</td>\n      <td>-0.127909</td>\n      <td>-0.504176</td>\n    </tr>\n    <tr>\n      <th>1</th>\n      <td>one</td>\n      <td>B</td>\n      <td>foo</td>\n      <td>1.146535</td>\n      <td>-0.473020</td>\n    </tr>\n    <tr>\n      <th>2</th>\n      <td>two</td>\n      <td>C</td>\n      <td>foo</td>\n      <td>0.960276</td>\n      <td>1.266475</td>\n    </tr>\n    <tr>\n      <th>3</th>\n      <td>three</td>\n      <td>A</td>\n      <td>bar</td>\n      <td>0.383106</td>\n      <td>1.925530</td>\n    </tr>\n    <tr>\n      <th>4</th>\n      <td>one</td>\n      <td>B</td>\n      <td>bar</td>\n      <td>-0.019908</td>\n      <td>1.604353</td>\n    </tr>\n    <tr>\n      <th>5</th>\n      <td>one</td>\n      <td>C</td>\n      <td>bar</td>\n      <td>-1.061746</td>\n      <td>1.542318</td>\n    </tr>\n    <tr>\n      <th>6</th>\n      <td>two</td>\n      <td>A</td>\n      <td>foo</td>\n      <td>3.183924</td>\n      <td>-0.265422</td>\n    </tr>\n    <tr>\n      <th>7</th>\n      <td>three</td>\n      <td>B</td>\n      <td>foo</td>\n      <td>2.030150</td>\n      <td>0.026082</td>\n    </tr>\n    <tr>\n      <th>8</th>\n      <td>one</td>\n      <td>C</td>\n      <td>foo</td>\n      <td>0.489750</td>\n      <td>-1.266668</td>\n    </tr>\n    <tr>\n      <th>9</th>\n      <td>one</td>\n      <td>A</td>\n      <td>bar</td>\n      <td>0.482984</td>\n      <td>0.236726</td>\n    </tr>\n    <tr>\n      <th>10</th>\n      <td>two</td>\n      <td>B</td>\n      <td>bar</td>\n      <td>0.865775</td>\n      <td>-0.317788</td>\n    </tr>\n    <tr>\n      <th>11</th>\n      <td>three</td>\n      <td>C</td>\n      <td>bar</td>\n      <td>-0.669264</td>\n      <td>-0.665496</td>\n    </tr>\n  </tbody>\n</table>\n</div>",
            "text/plain": "        A  B    C         D         E\n0     one  A  foo -0.127909 -0.504176\n1     one  B  foo  1.146535 -0.473020\n2     two  C  foo  0.960276  1.266475\n3   three  A  bar  0.383106  1.925530\n4     one  B  bar -0.019908  1.604353\n5     one  C  bar -1.061746  1.542318\n6     two  A  foo  3.183924 -0.265422\n7   three  B  foo  2.030150  0.026082\n8     one  C  foo  0.489750 -1.266668\n9     one  A  bar  0.482984  0.236726\n10    two  B  bar  0.865775 -0.317788\n11  three  C  bar -0.669264 -0.665496"
          },
          "metadata": {}
        }
      ]
    },
    {
      "metadata": {
        "scrolled": true,
        "trusted": true
      },
      "cell_type": "code",
      "source": "#We can produce pivot tables from this data very easily:\npd.pivot_table(df, values='D', index=['A', 'B'], columns=['C'])",
      "execution_count": 76,
      "outputs": [
        {
          "output_type": "execute_result",
          "execution_count": 76,
          "data": {
            "text/html": "<div>\n<style scoped>\n    .dataframe tbody tr th:only-of-type {\n        vertical-align: middle;\n    }\n\n    .dataframe tbody tr th {\n        vertical-align: top;\n    }\n\n    .dataframe thead th {\n        text-align: right;\n    }\n</style>\n<table border=\"1\" class=\"dataframe\">\n  <thead>\n    <tr style=\"text-align: right;\">\n      <th></th>\n      <th>C</th>\n      <th>bar</th>\n      <th>foo</th>\n    </tr>\n    <tr>\n      <th>A</th>\n      <th>B</th>\n      <th></th>\n      <th></th>\n    </tr>\n  </thead>\n  <tbody>\n    <tr>\n      <th rowspan=\"3\" valign=\"top\">one</th>\n      <th>A</th>\n      <td>0.482984</td>\n      <td>-0.127909</td>\n    </tr>\n    <tr>\n      <th>B</th>\n      <td>-0.019908</td>\n      <td>1.146535</td>\n    </tr>\n    <tr>\n      <th>C</th>\n      <td>-1.061746</td>\n      <td>0.489750</td>\n    </tr>\n    <tr>\n      <th rowspan=\"3\" valign=\"top\">three</th>\n      <th>A</th>\n      <td>0.383106</td>\n      <td>NaN</td>\n    </tr>\n    <tr>\n      <th>B</th>\n      <td>NaN</td>\n      <td>2.030150</td>\n    </tr>\n    <tr>\n      <th>C</th>\n      <td>-0.669264</td>\n      <td>NaN</td>\n    </tr>\n    <tr>\n      <th rowspan=\"3\" valign=\"top\">two</th>\n      <th>A</th>\n      <td>NaN</td>\n      <td>3.183924</td>\n    </tr>\n    <tr>\n      <th>B</th>\n      <td>0.865775</td>\n      <td>NaN</td>\n    </tr>\n    <tr>\n      <th>C</th>\n      <td>NaN</td>\n      <td>0.960276</td>\n    </tr>\n  </tbody>\n</table>\n</div>",
            "text/plain": "C             bar       foo\nA     B                    \none   A  0.482984 -0.127909\n      B -0.019908  1.146535\n      C -1.061746  0.489750\nthree A  0.383106       NaN\n      B       NaN  2.030150\n      C -0.669264       NaN\ntwo   A       NaN  3.183924\n      B  0.865775       NaN\n      C       NaN  0.960276"
          },
          "metadata": {}
        }
      ]
    },
    {
      "metadata": {},
      "cell_type": "markdown",
      "source": "# Time series"
    },
    {
      "metadata": {},
      "cell_type": "markdown",
      "source": "Pandas has simple, powerful, and efficient functionality for performing resampling operations during frequency conversion (e.g., converting secondly data into 5-minutely data). This is extremely common in, but not limited to, financial applications."
    },
    {
      "metadata": {
        "trusted": true
      },
      "cell_type": "code",
      "source": "rng = pd.date_range('1/1/2012', periods=100, freq='S')",
      "execution_count": 77,
      "outputs": []
    },
    {
      "metadata": {
        "trusted": true
      },
      "cell_type": "code",
      "source": "ts = pd.Series(np.random.randint(0, 500, len(rng)), index=rng)",
      "execution_count": 78,
      "outputs": []
    },
    {
      "metadata": {
        "trusted": true
      },
      "cell_type": "code",
      "source": "ts.resample('5Min', how='sum')",
      "execution_count": 79,
      "outputs": [
        {
          "output_type": "stream",
          "text": "/home/nbuser/anaconda3_501/lib/python3.6/site-packages/ipykernel/__main__.py:1: FutureWarning: how in .resample() is deprecated\nthe new syntax is .resample(...).sum()\n  if __name__ == '__main__':\n",
          "name": "stderr"
        },
        {
          "output_type": "execute_result",
          "execution_count": 79,
          "data": {
            "text/plain": "2012-01-01    23519\nFreq: 5T, dtype: int64"
          },
          "metadata": {}
        }
      ]
    },
    {
      "metadata": {
        "scrolled": true,
        "trusted": true
      },
      "cell_type": "code",
      "source": "#Time zone representation\nrng = pd.date_range('3/6/2012 00:00', periods=5, freq='D')\nts = pd.Series(np.random.randn(len(rng)), rng)\nts",
      "execution_count": 80,
      "outputs": [
        {
          "output_type": "execute_result",
          "execution_count": 80,
          "data": {
            "text/plain": "2012-03-06    0.348661\n2012-03-07    1.495119\n2012-03-08    0.192361\n2012-03-09    0.291598\n2012-03-10    0.909447\nFreq: D, dtype: float64"
          },
          "metadata": {}
        }
      ]
    },
    {
      "metadata": {
        "scrolled": true,
        "trusted": true
      },
      "cell_type": "code",
      "source": "ts_utc = ts.tz_localize('UTC')\nts_utc",
      "execution_count": 81,
      "outputs": [
        {
          "output_type": "execute_result",
          "execution_count": 81,
          "data": {
            "text/plain": "2012-03-06 00:00:00+00:00    0.348661\n2012-03-07 00:00:00+00:00    1.495119\n2012-03-08 00:00:00+00:00    0.192361\n2012-03-09 00:00:00+00:00    0.291598\n2012-03-10 00:00:00+00:00    0.909447\nFreq: D, dtype: float64"
          },
          "metadata": {}
        }
      ]
    },
    {
      "metadata": {
        "trusted": true
      },
      "cell_type": "code",
      "source": "#Convert to another time zone\nts_utc.tz_convert('US/Eastern')",
      "execution_count": 82,
      "outputs": [
        {
          "output_type": "execute_result",
          "execution_count": 82,
          "data": {
            "text/plain": "2012-03-05 19:00:00-05:00    0.348661\n2012-03-06 19:00:00-05:00    1.495119\n2012-03-07 19:00:00-05:00    0.192361\n2012-03-08 19:00:00-05:00    0.291598\n2012-03-09 19:00:00-05:00    0.909447\nFreq: D, dtype: float64"
          },
          "metadata": {}
        }
      ]
    },
    {
      "metadata": {
        "trusted": true
      },
      "cell_type": "code",
      "source": "#Converting between time span representations\nrng = pd.date_range('1/1/2012', periods=5, freq='M')\nts = pd.Series(np.random.randn(len(rng)), index=rng)\nts",
      "execution_count": 83,
      "outputs": [
        {
          "output_type": "execute_result",
          "execution_count": 83,
          "data": {
            "text/plain": "2012-01-31    0.148368\n2012-02-29   -0.058736\n2012-03-31   -0.405698\n2012-04-30    2.173459\n2012-05-31   -1.387402\nFreq: M, dtype: float64"
          },
          "metadata": {}
        }
      ]
    },
    {
      "metadata": {
        "scrolled": true,
        "trusted": true
      },
      "cell_type": "code",
      "source": "ps = ts.to_period()\nps",
      "execution_count": 84,
      "outputs": [
        {
          "output_type": "execute_result",
          "execution_count": 84,
          "data": {
            "text/plain": "2012-01    0.148368\n2012-02   -0.058736\n2012-03   -0.405698\n2012-04    2.173459\n2012-05   -1.387402\nFreq: M, dtype: float64"
          },
          "metadata": {}
        }
      ]
    },
    {
      "metadata": {
        "scrolled": true,
        "trusted": true
      },
      "cell_type": "code",
      "source": "ps.to_timestamp()\nps",
      "execution_count": 85,
      "outputs": [
        {
          "output_type": "execute_result",
          "execution_count": 85,
          "data": {
            "text/plain": "2012-01    0.148368\n2012-02   -0.058736\n2012-03   -0.405698\n2012-04    2.173459\n2012-05   -1.387402\nFreq: M, dtype: float64"
          },
          "metadata": {}
        }
      ]
    },
    {
      "metadata": {},
      "cell_type": "markdown",
      "source": "Converting between period and timestamp enables some convenient arithmetic functions to be used. In the following example, we convert a quarterly frequency with year ending in November to 9am of the end of the month following the quarter end:"
    },
    {
      "metadata": {
        "scrolled": true,
        "trusted": true
      },
      "cell_type": "code",
      "source": "prng = pd.period_range('1990Q1', '2000Q4', freq='Q-NOV')\nts = pd.Series(np.random.randn(len(prng)), prng)\nts.index = (prng.asfreq('M', 'e') + 1).asfreq('H', 's') + 9\nts.head()",
      "execution_count": 86,
      "outputs": [
        {
          "output_type": "execute_result",
          "execution_count": 86,
          "data": {
            "text/plain": "1990-03-01 09:00   -0.163806\n1990-06-01 09:00   -0.415557\n1990-09-01 09:00   -0.703440\n1990-12-01 09:00    0.338221\n1991-03-01 09:00   -0.723775\nFreq: H, dtype: float64"
          },
          "metadata": {}
        }
      ]
    },
    {
      "metadata": {},
      "cell_type": "markdown",
      "source": "# Categoricals"
    },
    {
      "metadata": {
        "scrolled": true,
        "trusted": true
      },
      "cell_type": "code",
      "source": "df = pd.DataFrame({\"id\":[1,2,3,4,5,6], \"raw_grade\":['a', 'b', 'b', 'a', 'a', 'e']})\ndf",
      "execution_count": 87,
      "outputs": [
        {
          "output_type": "execute_result",
          "execution_count": 87,
          "data": {
            "text/html": "<div>\n<style scoped>\n    .dataframe tbody tr th:only-of-type {\n        vertical-align: middle;\n    }\n\n    .dataframe tbody tr th {\n        vertical-align: top;\n    }\n\n    .dataframe thead th {\n        text-align: right;\n    }\n</style>\n<table border=\"1\" class=\"dataframe\">\n  <thead>\n    <tr style=\"text-align: right;\">\n      <th></th>\n      <th>id</th>\n      <th>raw_grade</th>\n    </tr>\n  </thead>\n  <tbody>\n    <tr>\n      <th>0</th>\n      <td>1</td>\n      <td>a</td>\n    </tr>\n    <tr>\n      <th>1</th>\n      <td>2</td>\n      <td>b</td>\n    </tr>\n    <tr>\n      <th>2</th>\n      <td>3</td>\n      <td>b</td>\n    </tr>\n    <tr>\n      <th>3</th>\n      <td>4</td>\n      <td>a</td>\n    </tr>\n    <tr>\n      <th>4</th>\n      <td>5</td>\n      <td>a</td>\n    </tr>\n    <tr>\n      <th>5</th>\n      <td>6</td>\n      <td>e</td>\n    </tr>\n  </tbody>\n</table>\n</div>",
            "text/plain": "   id raw_grade\n0   1         a\n1   2         b\n2   3         b\n3   4         a\n4   5         a\n5   6         e"
          },
          "metadata": {}
        }
      ]
    },
    {
      "metadata": {
        "scrolled": true,
        "trusted": true
      },
      "cell_type": "code",
      "source": "df[\"grade\"] = df[\"raw_grade\"].astype(\"category\")\ndf[\"grade\"]",
      "execution_count": 88,
      "outputs": [
        {
          "output_type": "execute_result",
          "execution_count": 88,
          "data": {
            "text/plain": "0    a\n1    b\n2    b\n3    a\n4    a\n5    e\nName: grade, dtype: category\nCategories (3, object): [a, b, e]"
          },
          "metadata": {}
        }
      ]
    },
    {
      "metadata": {
        "trusted": true
      },
      "cell_type": "code",
      "source": "#Rename the categories to more meaningful names (assigning to Series.cat.categories is inplace!)\ndf[\"grade\"].cat.categories = [\"very good\", \"good\", \"very bad\"]\n",
      "execution_count": 89,
      "outputs": []
    },
    {
      "metadata": {
        "scrolled": true,
        "trusted": true
      },
      "cell_type": "code",
      "source": "#Reorder the categories and simultaneously add the missing categories (methods under Series .cat return a new Series per default).\ndf[\"grade\"] = df[\"grade\"].cat.set_categories([\"very bad\", \"bad\", \"medium\", \"good\", \"very good\"])\ndf[\"grade\"]",
      "execution_count": 90,
      "outputs": [
        {
          "output_type": "execute_result",
          "execution_count": 90,
          "data": {
            "text/plain": "0    very good\n1         good\n2         good\n3    very good\n4    very good\n5     very bad\nName: grade, dtype: category\nCategories (5, object): [very bad, bad, medium, good, very good]"
          },
          "metadata": {}
        }
      ]
    },
    {
      "metadata": {
        "scrolled": true,
        "trusted": true
      },
      "cell_type": "code",
      "source": "#Sorting is per order in the categories, not lexical order.\ndf.sort_values(\"grade\")",
      "execution_count": 91,
      "outputs": [
        {
          "output_type": "execute_result",
          "execution_count": 91,
          "data": {
            "text/html": "<div>\n<style scoped>\n    .dataframe tbody tr th:only-of-type {\n        vertical-align: middle;\n    }\n\n    .dataframe tbody tr th {\n        vertical-align: top;\n    }\n\n    .dataframe thead th {\n        text-align: right;\n    }\n</style>\n<table border=\"1\" class=\"dataframe\">\n  <thead>\n    <tr style=\"text-align: right;\">\n      <th></th>\n      <th>id</th>\n      <th>raw_grade</th>\n      <th>grade</th>\n    </tr>\n  </thead>\n  <tbody>\n    <tr>\n      <th>5</th>\n      <td>6</td>\n      <td>e</td>\n      <td>very bad</td>\n    </tr>\n    <tr>\n      <th>1</th>\n      <td>2</td>\n      <td>b</td>\n      <td>good</td>\n    </tr>\n    <tr>\n      <th>2</th>\n      <td>3</td>\n      <td>b</td>\n      <td>good</td>\n    </tr>\n    <tr>\n      <th>0</th>\n      <td>1</td>\n      <td>a</td>\n      <td>very good</td>\n    </tr>\n    <tr>\n      <th>3</th>\n      <td>4</td>\n      <td>a</td>\n      <td>very good</td>\n    </tr>\n    <tr>\n      <th>4</th>\n      <td>5</td>\n      <td>a</td>\n      <td>very good</td>\n    </tr>\n  </tbody>\n</table>\n</div>",
            "text/plain": "   id raw_grade      grade\n5   6         e   very bad\n1   2         b       good\n2   3         b       good\n0   1         a  very good\n3   4         a  very good\n4   5         a  very good"
          },
          "metadata": {}
        }
      ]
    },
    {
      "metadata": {
        "scrolled": true,
        "trusted": true
      },
      "cell_type": "code",
      "source": "#Grouping by a categorical column shows also empty categories.\ndf.groupby(\"grade\").size()",
      "execution_count": 92,
      "outputs": [
        {
          "output_type": "execute_result",
          "execution_count": 92,
          "data": {
            "text/plain": "grade\nvery bad     1\nbad          0\nmedium       0\ngood         2\nvery good    3\ndtype: int64"
          },
          "metadata": {}
        }
      ]
    },
    {
      "metadata": {
        "trusted": true
      },
      "cell_type": "code",
      "source": "# Plotting",
      "execution_count": 93,
      "outputs": []
    },
    {
      "metadata": {
        "scrolled": true,
        "trusted": true
      },
      "cell_type": "code",
      "source": "ts = pd.Series(np.random.randn(1000), index=pd.date_range('1/1/2000', periods=1000))\nts = ts.cumsum()\n%matplotlib inline\nts.plot()",
      "execution_count": 94,
      "outputs": [
        {
          "output_type": "execute_result",
          "execution_count": 94,
          "data": {
            "text/plain": "<matplotlib.axes._subplots.AxesSubplot at 0x7f54c8500240>"
          },
          "metadata": {}
        },
        {
          "output_type": "display_data",
          "data": {
            "image/png": "[encoded data removed]",
            "text/plain": "<Figure size 432x288 with 1 Axes>"
          },
          "metadata": {
            "needs_background": "light"
          }
        }
      ]
    },
    {
      "metadata": {
        "scrolled": true,
        "trusted": true
      },
      "cell_type": "code",
      "source": "df = pd.DataFrame(np.random.randn(1000, 4), index=ts.index,\n   .....:                   columns=['A', 'B', 'C', 'D'])\n   .....: \ndf = df.cumsum()\nimport matplotlib.pyplot as plt\nplt.figure(); df.plot(); plt.legend(loc='best')",
      "execution_count": 95,
      "outputs": [
        {
          "output_type": "execute_result",
          "execution_count": 95,
          "data": {
            "text/plain": "<matplotlib.legend.Legend at 0x7f54c7ddbac8>"
          },
          "metadata": {}
        },
        {
          "output_type": "display_data",
          "data": {
            "text/plain": "<Figure size 432x288 with 0 Axes>"
          },
          "metadata": {}
        },
        {
          "output_type": "display_data",
          "data": {
            "image/png": "[encoded data removed]",
            "text/plain": "<Figure size 432x288 with 1 Axes>"
          },
          "metadata": {
            "needs_background": "light"
          }
        }
      ]
    },
    {
      "metadata": {},
      "cell_type": "markdown",
      "source": "# Getting data in and out"
    },
    {
      "metadata": {},
      "cell_type": "markdown",
      "source": "## CSV"
    },
    {
      "metadata": {
        "trusted": true
      },
      "cell_type": "code",
      "source": "#Writing to a csv file\ndf.to_csv('foo.csv')",
      "execution_count": 96,
      "outputs": []
    },
    {
      "metadata": {
        "trusted": true
      },
      "cell_type": "code",
      "source": "#Reading from a csv file\npd.read_csv('foo.csv')",
      "execution_count": 97,
      "outputs": [
        {
          "output_type": "execute_result",
          "execution_count": 97,
          "data": {
            "text/html": "<div>\n<style scoped>\n    .dataframe tbody tr th:only-of-type {\n        vertical-align: middle;\n    }\n\n    .dataframe tbody tr th {\n        vertical-align: top;\n    }\n\n    .dataframe thead th {\n        text-align: right;\n    }\n</style>\n<table border=\"1\" class=\"dataframe\">\n  <thead>\n    <tr style=\"text-align: right;\">\n      <th></th>\n      <th>Unnamed: 0</th>\n      <th>A</th>\n      <th>B</th>\n      <th>C</th>\n      <th>D</th>\n    </tr>\n  </thead>\n  <tbody>\n    <tr>\n      <th>0</th>\n      <td>2000-01-01</td>\n      <td>0.974434</td>\n      <td>-0.750892</td>\n      <td>-1.311964</td>\n      <td>-0.731609</td>\n    </tr>\n    <tr>\n      <th>1</th>\n      <td>2000-01-02</td>\n      <td>1.854704</td>\n      <td>-0.618904</td>\n      <td>-0.669422</td>\n      <td>-2.503800</td>\n    </tr>\n    <tr>\n      <th>2</th>\n      <td>2000-01-03</td>\n      <td>1.688730</td>\n      <td>-0.645113</td>\n      <td>-2.177798</td>\n      <td>-2.552523</td>\n    </tr>\n    <tr>\n      <th>3</th>\n      <td>2000-01-04</td>\n      <td>0.605989</td>\n      <td>-0.631024</td>\n      <td>-2.558599</td>\n      <td>-2.736102</td>\n    </tr>\n    <tr>\n      <th>4</th>\n      <td>2000-01-05</td>\n      <td>0.977612</td>\n      <td>-1.654009</td>\n      <td>-3.151966</td>\n      <td>-2.493279</td>\n    </tr>\n    <tr>\n      <th>5</th>\n      <td>2000-01-06</td>\n      <td>2.406654</td>\n      <td>-2.245893</td>\n      <td>-3.313673</td>\n      <td>-2.491594</td>\n    </tr>\n    <tr>\n      <th>6</th>\n      <td>2000-01-07</td>\n      <td>2.582668</td>\n      <td>-3.352015</td>\n      <td>-5.639218</td>\n      <td>-1.497784</td>\n    </tr>\n    <tr>\n      <th>7</th>\n      <td>2000-01-08</td>\n      <td>2.285399</td>\n      <td>-4.336433</td>\n      <td>-5.351705</td>\n      <td>-3.602213</td>\n    </tr>\n    <tr>\n      <th>8</th>\n      <td>2000-01-09</td>\n      <td>2.330444</td>\n      <td>-5.613134</td>\n      <td>-4.862864</td>\n      <td>-3.001806</td>\n    </tr>\n    <tr>\n      <th>9</th>\n      <td>2000-01-10</td>\n      <td>2.889051</td>\n      <td>-4.960563</td>\n      <td>-4.682242</td>\n      <td>-1.928943</td>\n    </tr>\n    <tr>\n      <th>10</th>\n      <td>2000-01-11</td>\n      <td>4.654684</td>\n      <td>-3.220598</td>\n      <td>-5.730426</td>\n      <td>-1.386211</td>\n    </tr>\n    <tr>\n      <th>11</th>\n      <td>2000-01-12</td>\n      <td>5.422175</td>\n      <td>-2.696671</td>\n      <td>-5.442915</td>\n      <td>-1.676315</td>\n    </tr>\n    <tr>\n      <th>12</th>\n      <td>2000-01-13</td>\n      <td>4.893821</td>\n      <td>-3.895349</td>\n      <td>-4.678383</td>\n      <td>-1.025826</td>\n    </tr>\n    <tr>\n      <th>13</th>\n      <td>2000-01-14</td>\n      <td>6.193478</td>\n      <td>-3.862036</td>\n      <td>-4.264328</td>\n      <td>-0.838613</td>\n    </tr>\n    <tr>\n      <th>14</th>\n      <td>2000-01-15</td>\n      <td>6.047044</td>\n      <td>-3.364693</td>\n      <td>-4.559185</td>\n      <td>-1.098221</td>\n    </tr>\n    <tr>\n      <th>15</th>\n      <td>2000-01-16</td>\n      <td>6.951181</td>\n      <td>-2.018173</td>\n      <td>-3.228353</td>\n      <td>-0.971077</td>\n    </tr>\n    <tr>\n      <th>16</th>\n      <td>2000-01-17</td>\n      <td>6.349330</td>\n      <td>-1.892473</td>\n      <td>-2.646017</td>\n      <td>-2.109214</td>\n    </tr>\n    <tr>\n      <th>17</th>\n      <td>2000-01-18</td>\n      <td>6.537946</td>\n      <td>-2.797440</td>\n      <td>-3.045105</td>\n      <td>-2.928184</td>\n    </tr>\n    <tr>\n      <th>18</th>\n      <td>2000-01-19</td>\n      <td>6.265371</td>\n      <td>-1.982661</td>\n      <td>-3.065417</td>\n      <td>-2.286328</td>\n    </tr>\n    <tr>\n      <th>19</th>\n      <td>2000-01-20</td>\n      <td>8.103477</td>\n      <td>-2.132220</td>\n      <td>-2.898322</td>\n      <td>-2.533321</td>\n    </tr>\n    <tr>\n      <th>20</th>\n      <td>2000-01-21</td>\n      <td>8.166576</td>\n      <td>-2.067533</td>\n      <td>-3.318336</td>\n      <td>-1.823271</td>\n    </tr>\n    <tr>\n      <th>21</th>\n      <td>2000-01-22</td>\n      <td>7.279537</td>\n      <td>-3.824521</td>\n      <td>-1.675339</td>\n      <td>-0.599623</td>\n    </tr>\n    <tr>\n      <th>22</th>\n      <td>2000-01-23</td>\n      <td>8.341408</td>\n      <td>-3.717802</td>\n      <td>-2.179707</td>\n      <td>-0.885958</td>\n    </tr>\n    <tr>\n      <th>23</th>\n      <td>2000-01-24</td>\n      <td>8.012772</td>\n      <td>-2.152986</td>\n      <td>-2.863293</td>\n      <td>-0.585092</td>\n    </tr>\n    <tr>\n      <th>24</th>\n      <td>2000-01-25</td>\n      <td>9.484201</td>\n      <td>-3.064564</td>\n      <td>-2.089865</td>\n      <td>-2.714405</td>\n    </tr>\n    <tr>\n      <th>25</th>\n      <td>2000-01-26</td>\n      <td>9.965790</td>\n      <td>-4.179072</td>\n      <td>-1.657750</td>\n      <td>-3.083676</td>\n    </tr>\n    <tr>\n      <th>26</th>\n      <td>2000-01-27</td>\n      <td>10.430154</td>\n      <td>-3.531487</td>\n      <td>-1.130950</td>\n      <td>-1.901037</td>\n    </tr>\n    <tr>\n      <th>27</th>\n      <td>2000-01-28</td>\n      <td>10.796848</td>\n      <td>-3.009710</td>\n      <td>-0.691298</td>\n      <td>-0.040700</td>\n    </tr>\n    <tr>\n      <th>28</th>\n      <td>2000-01-29</td>\n      <td>11.935673</td>\n      <td>-2.036438</td>\n      <td>0.170186</td>\n      <td>0.238841</td>\n    </tr>\n    <tr>\n      <th>29</th>\n      <td>2000-01-30</td>\n      <td>13.097927</td>\n      <td>-1.548086</td>\n      <td>-1.203269</td>\n      <td>-1.690764</td>\n    </tr>\n    <tr>\n      <th>...</th>\n      <td>...</td>\n      <td>...</td>\n      <td>...</td>\n      <td>...</td>\n      <td>...</td>\n    </tr>\n    <tr>\n      <th>970</th>\n      <td>2002-08-28</td>\n      <td>3.172734</td>\n      <td>26.417100</td>\n      <td>19.177750</td>\n      <td>62.694639</td>\n    </tr>\n    <tr>\n      <th>971</th>\n      <td>2002-08-29</td>\n      <td>1.739662</td>\n      <td>27.154438</td>\n      <td>19.556013</td>\n      <td>62.188235</td>\n    </tr>\n    <tr>\n      <th>972</th>\n      <td>2002-08-30</td>\n      <td>1.870879</td>\n      <td>27.803923</td>\n      <td>19.980396</td>\n      <td>60.559052</td>\n    </tr>\n    <tr>\n      <th>973</th>\n      <td>2002-08-31</td>\n      <td>2.976931</td>\n      <td>29.378519</td>\n      <td>19.156512</td>\n      <td>59.177159</td>\n    </tr>\n    <tr>\n      <th>974</th>\n      <td>2002-09-01</td>\n      <td>2.155000</td>\n      <td>30.609507</td>\n      <td>20.199096</td>\n      <td>59.047576</td>\n    </tr>\n    <tr>\n      <th>975</th>\n      <td>2002-09-02</td>\n      <td>1.166153</td>\n      <td>30.922530</td>\n      <td>20.123511</td>\n      <td>60.040908</td>\n    </tr>\n    <tr>\n      <th>976</th>\n      <td>2002-09-03</td>\n      <td>0.491121</td>\n      <td>30.754671</td>\n      <td>20.120467</td>\n      <td>59.011513</td>\n    </tr>\n    <tr>\n      <th>977</th>\n      <td>2002-09-04</td>\n      <td>1.056978</td>\n      <td>31.132642</td>\n      <td>19.428375</td>\n      <td>58.945495</td>\n    </tr>\n    <tr>\n      <th>978</th>\n      <td>2002-09-05</td>\n      <td>1.120639</td>\n      <td>29.877112</td>\n      <td>18.277200</td>\n      <td>57.437660</td>\n    </tr>\n    <tr>\n      <th>979</th>\n      <td>2002-09-06</td>\n      <td>0.233052</td>\n      <td>30.184577</td>\n      <td>19.644929</td>\n      <td>55.646847</td>\n    </tr>\n    <tr>\n      <th>980</th>\n      <td>2002-09-07</td>\n      <td>-0.587740</td>\n      <td>32.714210</td>\n      <td>20.047252</td>\n      <td>55.056729</td>\n    </tr>\n    <tr>\n      <th>981</th>\n      <td>2002-09-08</td>\n      <td>-0.848568</td>\n      <td>32.835400</td>\n      <td>19.367027</td>\n      <td>54.345864</td>\n    </tr>\n    <tr>\n      <th>982</th>\n      <td>2002-09-09</td>\n      <td>-2.112360</td>\n      <td>34.508530</td>\n      <td>18.885888</td>\n      <td>54.999390</td>\n    </tr>\n    <tr>\n      <th>983</th>\n      <td>2002-09-10</td>\n      <td>-4.017431</td>\n      <td>35.788255</td>\n      <td>21.088719</td>\n      <td>53.917906</td>\n    </tr>\n    <tr>\n      <th>984</th>\n      <td>2002-09-11</td>\n      <td>-4.167032</td>\n      <td>34.481484</td>\n      <td>21.586394</td>\n      <td>53.313838</td>\n    </tr>\n    <tr>\n      <th>985</th>\n      <td>2002-09-12</td>\n      <td>-4.734050</td>\n      <td>35.182004</td>\n      <td>22.763545</td>\n      <td>52.454316</td>\n    </tr>\n    <tr>\n      <th>986</th>\n      <td>2002-09-13</td>\n      <td>-3.845240</td>\n      <td>34.970834</td>\n      <td>22.154689</td>\n      <td>52.593545</td>\n    </tr>\n    <tr>\n      <th>987</th>\n      <td>2002-09-14</td>\n      <td>-2.100264</td>\n      <td>33.529458</td>\n      <td>20.767981</td>\n      <td>54.465176</td>\n    </tr>\n    <tr>\n      <th>988</th>\n      <td>2002-09-15</td>\n      <td>-0.745493</td>\n      <td>34.636344</td>\n      <td>21.148138</td>\n      <td>53.293625</td>\n    </tr>\n    <tr>\n      <th>989</th>\n      <td>2002-09-16</td>\n      <td>-0.029930</td>\n      <td>32.631091</td>\n      <td>21.518899</td>\n      <td>53.503074</td>\n    </tr>\n    <tr>\n      <th>990</th>\n      <td>2002-09-17</td>\n      <td>-0.770589</td>\n      <td>31.972243</td>\n      <td>21.098901</td>\n      <td>53.207998</td>\n    </tr>\n    <tr>\n      <th>991</th>\n      <td>2002-09-18</td>\n      <td>-0.240005</td>\n      <td>31.326839</td>\n      <td>21.507337</td>\n      <td>52.760476</td>\n    </tr>\n    <tr>\n      <th>992</th>\n      <td>2002-09-19</td>\n      <td>-0.287671</td>\n      <td>31.916698</td>\n      <td>20.596057</td>\n      <td>52.036714</td>\n    </tr>\n    <tr>\n      <th>993</th>\n      <td>2002-09-20</td>\n      <td>-0.523390</td>\n      <td>30.950506</td>\n      <td>19.597226</td>\n      <td>51.303284</td>\n    </tr>\n    <tr>\n      <th>994</th>\n      <td>2002-09-21</td>\n      <td>1.420312</td>\n      <td>31.586246</td>\n      <td>19.093587</td>\n      <td>50.477903</td>\n    </tr>\n    <tr>\n      <th>995</th>\n      <td>2002-09-22</td>\n      <td>0.808021</td>\n      <td>30.053507</td>\n      <td>19.351986</td>\n      <td>49.849373</td>\n    </tr>\n    <tr>\n      <th>996</th>\n      <td>2002-09-23</td>\n      <td>1.009519</td>\n      <td>30.498818</td>\n      <td>20.957432</td>\n      <td>49.708039</td>\n    </tr>\n    <tr>\n      <th>997</th>\n      <td>2002-09-24</td>\n      <td>0.523082</td>\n      <td>30.297143</td>\n      <td>19.687126</td>\n      <td>50.391440</td>\n    </tr>\n    <tr>\n      <th>998</th>\n      <td>2002-09-25</td>\n      <td>-0.420618</td>\n      <td>29.227237</td>\n      <td>20.556407</td>\n      <td>51.492624</td>\n    </tr>\n    <tr>\n      <th>999</th>\n      <td>2002-09-26</td>\n      <td>0.008728</td>\n      <td>27.701312</td>\n      <td>20.289876</td>\n      <td>52.987158</td>\n    </tr>\n  </tbody>\n</table>\n<p>1000 rows × 5 columns</p>\n</div>",
            "text/plain": "     Unnamed: 0          A          B          C          D\n0    2000-01-01   0.974434  -0.750892  -1.311964  -0.731609\n1    2000-01-02   1.854704  -0.618904  -0.669422  -2.503800\n2    2000-01-03   1.688730  -0.645113  -2.177798  -2.552523\n3    2000-01-04   0.605989  -0.631024  -2.558599  -2.736102\n4    2000-01-05   0.977612  -1.654009  -3.151966  -2.493279\n5    2000-01-06   2.406654  -2.245893  -3.313673  -2.491594\n6    2000-01-07   2.582668  -3.352015  -5.639218  -1.497784\n7    2000-01-08   2.285399  -4.336433  -5.351705  -3.602213\n8    2000-01-09   2.330444  -5.613134  -4.862864  -3.001806\n9    2000-01-10   2.889051  -4.960563  -4.682242  -1.928943\n10   2000-01-11   4.654684  -3.220598  -5.730426  -1.386211\n11   2000-01-12   5.422175  -2.696671  -5.442915  -1.676315\n12   2000-01-13   4.893821  -3.895349  -4.678383  -1.025826\n13   2000-01-14   6.193478  -3.862036  -4.264328  -0.838613\n14   2000-01-15   6.047044  -3.364693  -4.559185  -1.098221\n15   2000-01-16   6.951181  -2.018173  -3.228353  -0.971077\n16   2000-01-17   6.349330  -1.892473  -2.646017  -2.109214\n17   2000-01-18   6.537946  -2.797440  -3.045105  -2.928184\n18   2000-01-19   6.265371  -1.982661  -3.065417  -2.286328\n19   2000-01-20   8.103477  -2.132220  -2.898322  -2.533321\n20   2000-01-21   8.166576  -2.067533  -3.318336  -1.823271\n21   2000-01-22   7.279537  -3.824521  -1.675339  -0.599623\n22   2000-01-23   8.341408  -3.717802  -2.179707  -0.885958\n23   2000-01-24   8.012772  -2.152986  -2.863293  -0.585092\n24   2000-01-25   9.484201  -3.064564  -2.089865  -2.714405\n25   2000-01-26   9.965790  -4.179072  -1.657750  -3.083676\n26   2000-01-27  10.430154  -3.531487  -1.130950  -1.901037\n27   2000-01-28  10.796848  -3.009710  -0.691298  -0.040700\n28   2000-01-29  11.935673  -2.036438   0.170186   0.238841\n29   2000-01-30  13.097927  -1.548086  -1.203269  -1.690764\n..          ...        ...        ...        ...        ...\n970  2002-08-28   3.172734  26.417100  19.177750  62.694639\n971  2002-08-29   1.739662  27.154438  19.556013  62.188235\n972  2002-08-30   1.870879  27.803923  19.980396  60.559052\n973  2002-08-31   2.976931  29.378519  19.156512  59.177159\n974  2002-09-01   2.155000  30.609507  20.199096  59.047576\n975  2002-09-02   1.166153  30.922530  20.123511  60.040908\n976  2002-09-03   0.491121  30.754671  20.120467  59.011513\n977  2002-09-04   1.056978  31.132642  19.428375  58.945495\n978  2002-09-05   1.120639  29.877112  18.277200  57.437660\n979  2002-09-06   0.233052  30.184577  19.644929  55.646847\n980  2002-09-07  -0.587740  32.714210  20.047252  55.056729\n981  2002-09-08  -0.848568  32.835400  19.367027  54.345864\n982  2002-09-09  -2.112360  34.508530  18.885888  54.999390\n983  2002-09-10  -4.017431  35.788255  21.088719  53.917906\n984  2002-09-11  -4.167032  34.481484  21.586394  53.313838\n985  2002-09-12  -4.734050  35.182004  22.763545  52.454316\n986  2002-09-13  -3.845240  34.970834  22.154689  52.593545\n987  2002-09-14  -2.100264  33.529458  20.767981  54.465176\n988  2002-09-15  -0.745493  34.636344  21.148138  53.293625\n989  2002-09-16  -0.029930  32.631091  21.518899  53.503074\n990  2002-09-17  -0.770589  31.972243  21.098901  53.207998\n991  2002-09-18  -0.240005  31.326839  21.507337  52.760476\n992  2002-09-19  -0.287671  31.916698  20.596057  52.036714\n993  2002-09-20  -0.523390  30.950506  19.597226  51.303284\n994  2002-09-21   1.420312  31.586246  19.093587  50.477903\n995  2002-09-22   0.808021  30.053507  19.351986  49.849373\n996  2002-09-23   1.009519  30.498818  20.957432  49.708039\n997  2002-09-24   0.523082  30.297143  19.687126  50.391440\n998  2002-09-25  -0.420618  29.227237  20.556407  51.492624\n999  2002-09-26   0.008728  27.701312  20.289876  52.987158\n\n[1000 rows x 5 columns]"
          },
          "metadata": {}
        }
      ]
    },
    {
      "metadata": {
        "trusted": true
      },
      "cell_type": "code",
      "source": "",
      "execution_count": null,
      "outputs": []
    },
    {
      "metadata": {
        "trusted": true
      },
      "cell_type": "code",
      "source": "",
      "execution_count": null,
      "outputs": []
    },
    {
      "metadata": {
        "trusted": true
      },
      "cell_type": "code",
      "source": "",
      "execution_count": null,
      "outputs": []
    },
    {
      "metadata": {
        "trusted": true
      },
      "cell_type": "code",
      "source": "",
      "execution_count": null,
      "outputs": []
    }
  ],
  "metadata": {
    "kernelspec": {
      "name": "python36",
      "display_name": "Python 3.6",
      "language": "python"
    },
    "language_info": {
      "mimetype": "text/x-python",
      "nbconvert_exporter": "python",
      "name": "python",
      "pygments_lexer": "ipython3",
      "version": "3.6.6",
      "file_extension": ".py",
      "codemirror_mode": {
        "version": 3,
        "name": "ipython"
      }
    }
  },
  "nbformat": 4,
  "nbformat_minor": 1
}